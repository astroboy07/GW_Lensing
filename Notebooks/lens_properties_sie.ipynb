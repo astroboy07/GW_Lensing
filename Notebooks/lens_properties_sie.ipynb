{
 "cells": [
  {
   "cell_type": "markdown",
   "metadata": {},
   "source": [
    "# SIE lens\n",
    "\n",
    "Using the [lensing gw](https://gpagano.gitlab.io/lensinggw/) package I try to obtain the morse indices of the images for different lens and plot the source, images, caustics, and critical lines.\n",
    "\n",
    "~ Saif 08/2021"
   ]
  },
  {
   "cell_type": "code",
   "execution_count": 2,
   "metadata": {},
   "outputs": [],
   "source": [
    "import numpy as np\n",
    "import matplotlib.pyplot as plt\n",
    "%matplotlib inline"
   ]
  },
  {
   "cell_type": "code",
   "execution_count": 3,
   "metadata": {},
   "outputs": [],
   "source": [
    "from gw_lens_dir import lens_model\n",
    "from lensinggw.amplification_factor.amplification_factor import geometricalOpticsMagnification"
   ]
  },
  {
   "cell_type": "code",
   "execution_count": 4,
   "metadata": {},
   "outputs": [],
   "source": [
    "default_lens_params = {\n",
    "    'y0': 8.72665e-11,\n",
    "    'y1': 0,\n",
    "    'l0': 0.,\n",
    "    'l1': 0.,\n",
    "    'zs': 1.0,\n",
    "    'zl': 0.5,\n",
    "    'ml': 5.7e4\n",
    "}\n",
    "\n",
    "default_lens_model = lens_model.gwlens_class(default_lens_params)"
   ]
  },
  {
   "cell_type": "code",
   "execution_count": 5,
   "metadata": {},
   "outputs": [
    {
     "data": {
      "text/plain": [
       "1.922600673893789e-09"
      ]
     },
     "execution_count": 5,
     "metadata": {},
     "output_type": "execute_result"
    }
   ],
   "source": [
    "thetae = default_lens_model.thetaE()\n",
    "thetae"
   ]
  },
  {
   "cell_type": "code",
   "execution_count": 11,
   "metadata": {},
   "outputs": [
    {
     "name": "stdout",
     "output_type": "stream",
     "text": [
      "\n",
      "---- Solver settings ----\n",
      "\n",
      "The macromodel analysis will be performed with the following settings:\n",
      "\n",
      "OnlyMacro         --> True\n",
      "Scaled            --> False\n",
      "SearchWindowMacro --> 7.690402695575157e-09\n",
      "PixelsMacro       --> 1000\n",
      "PrecisionLimit    --> 1e-20\n",
      "OverlapDistMacro  --> 1e-15\n",
      "NearSource        --> False\n",
      "Optimization      --> False\n",
      "Verbose           --> False\n",
      "\n",
      "\n",
      "\n",
      "\n",
      "MACROIMAGES\n",
      "\n",
      "ra: [ 1.20301369e-18 -1.73603821e-09  1.20301369e-18  1.73603821e-09\n",
      " -2.24621246e-20]\n",
      "dec: [-1.88588354e-09  2.06790065e-24  1.88588354e-09 -1.49826977e-21\n",
      "  2.02906705e-24]\n",
      "\n",
      "\n",
      "---- Solver settings ----\n",
      "\n",
      "The macromodel analysis will be performed with the following settings:\n",
      "\n",
      "OnlyMacro         --> True\n",
      "Scaled            --> False\n",
      "SearchWindowMacro --> 7.690402695575157e-09\n",
      "PixelsMacro       --> 1000\n",
      "PrecisionLimit    --> 1e-20\n",
      "OverlapDistMacro  --> 1e-15\n",
      "NearSource        --> False\n",
      "Optimization      --> False\n",
      "Verbose           --> False\n",
      "\n",
      "\n",
      "\n",
      "\n",
      "MACROIMAGES\n",
      "\n",
      "ra: [ 1.20301369e-18 -1.73603821e-09  1.20301369e-18  1.73603821e-09\n",
      " -2.24621246e-20]\n",
      "dec: [-1.88588354e-09  2.06790065e-24  1.88588354e-09 -1.49826977e-21\n",
      "  2.02906705e-24]\n",
      "\n",
      "\n",
      "---- Solver settings ----\n",
      "\n",
      "The macromodel analysis will be performed with the following settings:\n",
      "\n",
      "OnlyMacro         --> True\n",
      "Scaled            --> False\n",
      "SearchWindowMacro --> 7.690402695575157e-09\n",
      "PixelsMacro       --> 1000\n",
      "PrecisionLimit    --> 1e-20\n",
      "OverlapDistMacro  --> 1e-15\n",
      "NearSource        --> False\n",
      "Optimization      --> False\n",
      "Verbose           --> False\n",
      "\n",
      "\n",
      "\n",
      "\n",
      "MACROIMAGES\n",
      "\n",
      "ra: [ 1.20301369e-18 -1.73603821e-09  1.20301369e-18  1.73603821e-09\n",
      " -2.24621246e-20]\n",
      "dec: [-1.88588354e-09  2.06790065e-24  1.88588354e-09 -1.49826977e-21\n",
      "  2.02906705e-24]\n",
      "\n",
      "\n",
      "---- Solver settings ----\n",
      "\n",
      "The macromodel analysis will be performed with the following settings:\n",
      "\n",
      "OnlyMacro         --> True\n",
      "Scaled            --> False\n",
      "SearchWindowMacro --> 7.690402695575157e-09\n",
      "PixelsMacro       --> 1000\n",
      "PrecisionLimit    --> 1e-20\n",
      "OverlapDistMacro  --> 1e-15\n",
      "NearSource        --> False\n",
      "Optimization      --> False\n",
      "Verbose           --> False\n",
      "\n",
      "\n",
      "\n",
      "\n",
      "MACROIMAGES\n",
      "\n",
      "ra: [ 1.20301369e-18 -1.73603821e-09  1.20301369e-18  1.73603821e-09\n",
      " -2.24621246e-20]\n",
      "dec: [-1.88588354e-09  2.06790065e-24  1.88588354e-09 -1.49826977e-21\n",
      "  2.02906705e-24]\n",
      "\n"
     ]
    }
   ],
   "source": [
    "mi = default_lens_model.mi()"
   ]
  },
  {
   "cell_type": "code",
   "execution_count": 10,
   "metadata": {},
   "outputs": [
    {
     "name": "stdout",
     "output_type": "stream",
     "text": [
      "\n",
      "---- Solver settings ----\n",
      "\n",
      "The macromodel analysis will be performed with the following settings:\n",
      "\n",
      "OnlyMacro         --> True\n",
      "Scaled            --> False\n",
      "SearchWindowMacro --> 7.690402695575157e-09\n",
      "PixelsMacro       --> 1000\n",
      "PrecisionLimit    --> 1e-20\n",
      "OverlapDistMacro  --> 1e-15\n",
      "NearSource        --> False\n",
      "Optimization      --> False\n",
      "Verbose           --> False\n",
      "\n",
      "\n",
      "\n",
      "\n",
      "MACROIMAGES\n",
      "\n",
      "ra: [ 1.20301369e-18 -1.73603821e-09  1.20301369e-18  1.73603821e-09\n",
      " -2.24621246e-20]\n",
      "dec: [-1.88588354e-09  2.06790065e-24  1.88588354e-09 -1.49826977e-21\n",
      "  2.02906705e-24]\n",
      "\n",
      "\n",
      "---- Solver settings ----\n",
      "\n",
      "The macromodel analysis will be performed with the following settings:\n",
      "\n",
      "OnlyMacro         --> True\n",
      "Scaled            --> False\n",
      "SearchWindowMacro --> 7.690402695575157e-09\n",
      "PixelsMacro       --> 1000\n",
      "PrecisionLimit    --> 1e-20\n",
      "OverlapDistMacro  --> 1e-15\n",
      "NearSource        --> False\n",
      "Optimization      --> False\n",
      "Verbose           --> False\n",
      "\n",
      "\n",
      "\n",
      "\n",
      "MACROIMAGES\n",
      "\n",
      "ra: [ 1.20301369e-18 -1.73603821e-09  1.20301369e-18  1.73603821e-09\n",
      " -2.24621246e-20]\n",
      "dec: [-1.88588354e-09  2.06790065e-24  1.88588354e-09 -1.49826977e-21\n",
      "  2.02906705e-24]\n",
      "\n",
      "\n",
      "---- Solver settings ----\n",
      "\n",
      "The macromodel analysis will be performed with the following settings:\n",
      "\n",
      "OnlyMacro         --> True\n",
      "Scaled            --> False\n",
      "SearchWindowMacro --> 7.690402695575157e-09\n",
      "PixelsMacro       --> 1000\n",
      "PrecisionLimit    --> 1e-20\n",
      "OverlapDistMacro  --> 1e-15\n",
      "NearSource        --> False\n",
      "Optimization      --> False\n",
      "Verbose           --> False\n",
      "\n",
      "\n",
      "\n",
      "\n",
      "MACROIMAGES\n",
      "\n",
      "ra: [ 1.20301369e-18 -1.73603821e-09  1.20301369e-18  1.73603821e-09\n",
      " -2.24621246e-20]\n",
      "dec: [-1.88588354e-09  2.06790065e-24  1.88588354e-09 -1.49826977e-21\n",
      "  2.02906705e-24]\n",
      "\n",
      "\n",
      "---- Solver settings ----\n",
      "\n",
      "The macromodel analysis will be performed with the following settings:\n",
      "\n",
      "OnlyMacro         --> True\n",
      "Scaled            --> False\n",
      "SearchWindowMacro --> 7.690402695575157e-09\n",
      "PixelsMacro       --> 1000\n",
      "PrecisionLimit    --> 1e-20\n",
      "OverlapDistMacro  --> 1e-15\n",
      "NearSource        --> False\n",
      "Optimization      --> False\n",
      "Verbose           --> False\n",
      "\n",
      "\n",
      "\n",
      "\n",
      "MACROIMAGES\n",
      "\n",
      "ra: [ 1.20301369e-18 -1.73603821e-09  1.20301369e-18  1.73603821e-09\n",
      " -2.24621246e-20]\n",
      "dec: [-1.88588354e-09  2.06790065e-24  1.88588354e-09 -1.49826977e-21\n",
      "  2.02906705e-24]\n",
      "\n"
     ]
    }
   ],
   "source": [
    "mu = default_lens_model.mu()"
   ]
  },
  {
   "cell_type": "code",
   "execution_count": 9,
   "metadata": {},
   "outputs": [
    {
     "data": {
      "text/plain": [
       "array([ 7.51660957, -6.21848114,  7.47464196, -6.17349531,  0.02140652])"
      ]
     },
     "execution_count": 9,
     "metadata": {},
     "output_type": "execute_result"
    }
   ],
   "source": [
    "mu"
   ]
  },
  {
   "cell_type": "code",
   "execution_count": null,
   "metadata": {},
   "outputs": [],
   "source": [
    "img_prop = default_lens_model.lens_model()\n",
    "img_prop[0] * 206265, img_prop[1] * 20626"
   ]
  },
  {
   "cell_type": "code",
   "execution_count": 12,
   "metadata": {},
   "outputs": [
    {
     "name": "stdout",
     "output_type": "stream",
     "text": [
      "\n",
      "---- Solver settings ----\n",
      "\n",
      "The macromodel analysis will be performed with the following settings:\n",
      "\n",
      "OnlyMacro         --> True\n",
      "Scaled            --> False\n",
      "SearchWindowMacro --> 7.690402695575157e-09\n",
      "PixelsMacro       --> 1000\n",
      "PrecisionLimit    --> 1e-20\n",
      "OverlapDistMacro  --> 1e-15\n",
      "NearSource        --> False\n",
      "Optimization      --> False\n",
      "Verbose           --> False\n",
      "\n",
      "\n",
      "\n",
      "\n",
      "MACROIMAGES\n",
      "\n",
      "ra: [ 1.20301369e-18 -1.73603821e-09  1.20301369e-18  1.73603821e-09\n",
      " -2.24621246e-20]\n",
      "dec: [-1.88588354e-09  2.06790065e-24  1.88588354e-09 -1.49826977e-21\n",
      "  2.02906705e-24]\n",
      "\n",
      "\n",
      "---- Solver settings ----\n",
      "\n",
      "The macromodel analysis will be performed with the following settings:\n",
      "\n",
      "OnlyMacro         --> True\n",
      "Scaled            --> False\n",
      "SearchWindowMacro --> 7.690402695575157e-09\n",
      "PixelsMacro       --> 1000\n",
      "PrecisionLimit    --> 1e-20\n",
      "OverlapDistMacro  --> 1e-15\n",
      "NearSource        --> False\n",
      "Optimization      --> False\n",
      "Verbose           --> False\n",
      "\n",
      "\n",
      "\n",
      "\n",
      "MACROIMAGES\n",
      "\n",
      "ra: [ 1.20301369e-18 -1.73603821e-09  1.20301369e-18  1.73603821e-09\n",
      " -2.24621246e-20]\n",
      "dec: [-1.88588354e-09  2.06790065e-24  1.88588354e-09 -1.49826977e-21\n",
      "  2.02906705e-24]\n",
      "\n",
      "\n",
      "---- Solver settings ----\n",
      "\n",
      "The macromodel analysis will be performed with the following settings:\n",
      "\n",
      "OnlyMacro         --> True\n",
      "Scaled            --> False\n",
      "SearchWindowMacro --> 7.690402695575157e-09\n",
      "PixelsMacro       --> 1000\n",
      "PrecisionLimit    --> 1e-20\n",
      "OverlapDistMacro  --> 1e-15\n",
      "NearSource        --> False\n",
      "Optimization      --> False\n",
      "Verbose           --> False\n",
      "\n",
      "\n",
      "\n",
      "\n",
      "MACROIMAGES\n",
      "\n",
      "ra: [ 1.20301369e-18 -1.73603821e-09  1.20301369e-18  1.73603821e-09\n",
      " -2.24621246e-20]\n",
      "dec: [-1.88588354e-09  2.06790065e-24  1.88588354e-09 -1.49826977e-21\n",
      "  2.02906705e-24]\n",
      "\n",
      "\n",
      "---- Solver settings ----\n",
      "\n",
      "The macromodel analysis will be performed with the following settings:\n",
      "\n",
      "OnlyMacro         --> True\n",
      "Scaled            --> False\n",
      "SearchWindowMacro --> 7.690402695575157e-09\n",
      "PixelsMacro       --> 1000\n",
      "PrecisionLimit    --> 1e-20\n",
      "OverlapDistMacro  --> 1e-15\n",
      "NearSource        --> False\n",
      "Optimization      --> False\n",
      "Verbose           --> False\n",
      "\n",
      "\n",
      "\n",
      "\n",
      "MACROIMAGES\n",
      "\n",
      "ra: [ 1.20301369e-18 -1.73603821e-09  1.20301369e-18  1.73603821e-09\n",
      " -2.24621246e-20]\n",
      "dec: [-1.88588354e-09  2.06790065e-24  1.88588354e-09 -1.49826977e-21\n",
      "  2.02906705e-24]\n",
      "\n"
     ]
    }
   ],
   "source": [
    "tds = default_lens_model.tds() * 1.15741e-5"
   ]
  },
  {
   "cell_type": "code",
   "execution_count": 13,
   "metadata": {},
   "outputs": [
    {
     "data": {
      "text/plain": [
       "(array([0.00000000e+00, 1.33977384e-06, 5.13993292e-21, 1.33977383e-06,\n",
       "        7.03426699e-06]),\n",
       " array([ 7.51660957, -6.21848114,  7.47464196, -6.17349531,  0.02140652]),\n",
       " [0, 0.5, 0, 0.5, 1])"
      ]
     },
     "execution_count": 13,
     "metadata": {},
     "output_type": "execute_result"
    }
   ],
   "source": [
    "tds, mu, mi"
   ]
  },
  {
   "cell_type": "code",
   "execution_count": null,
   "metadata": {},
   "outputs": [],
   "source": [
    "default_lens_model.plot_img(plot_name = 'test_plot_sie')"
   ]
  },
  {
   "cell_type": "code",
   "execution_count": null,
   "metadata": {},
   "outputs": [],
   "source": [
    "dummy_frequencies = np.linspace(10,1000,100)\n",
    "F = geometricalOpticsMagnification(dummy_frequencies,\n",
    "                                   default_lens_model.lens_model()[0],\n",
    "                                   default_lens_model.lens_model()[1],\n",
    "                                   default_lens_model.beta()[0],\n",
    "                                   default_lens_model.beta()[1],\n",
    "                                   default_lens_params['zl'],\n",
    "                                   default_lens_params['zs'],\n",
    "                                   default_lens_model.lens_model()[-2],\n",
    "                                   default_lens_model.lens_model()[-1]\n",
    "                                   )"
   ]
  },
  {
   "cell_type": "code",
   "execution_count": null,
   "metadata": {},
   "outputs": [],
   "source": [
    "plt.plot(dummy_frequencies, np.abs(F))"
   ]
  },
  {
   "cell_type": "code",
   "execution_count": null,
   "metadata": {},
   "outputs": [],
   "source": []
  }
 ],
 "metadata": {
  "kernelspec": {
   "display_name": "Python 3",
   "language": "python",
   "name": "python3"
  },
  "language_info": {
   "codemirror_mode": {
    "name": "ipython",
    "version": 3
   },
   "file_extension": ".py",
   "mimetype": "text/x-python",
   "name": "python",
   "nbconvert_exporter": "python",
   "pygments_lexer": "ipython3",
   "version": "3.7.4"
  }
 },
 "nbformat": 4,
 "nbformat_minor": 4
}
