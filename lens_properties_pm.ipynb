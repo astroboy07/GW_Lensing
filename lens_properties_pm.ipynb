{
 "cells": [
  {
   "cell_type": "code",
   "execution_count": 2,
   "metadata": {},
   "outputs": [],
   "source": [
    "import numpy as np\n",
    "import scipy as sp\n",
    "import scipy.special as sc\n",
    "from scipy.integrate import quad\n",
    "import mpmath as mp\n",
    "import pandas as pd\n",
    "import matplotlib.pyplot as plt\n",
    "from gw_lens_dir.L_unlensed import Lunlensed\n",
    "from gw_lens_dir.overlap_lensing_geo_wave import overlap_dual_ann_lensing_geo_wave\n",
    "from gw_lens_dir.overlap_lensing_changed_param import overlap_dual_ann_lensing\n",
    "%matplotlib inline"
   ]
  },
  {
   "cell_type": "markdown",
   "metadata": {},
   "source": [
    "## Overlap (geo vs wave optics)"
   ]
  },
  {
   "cell_type": "markdown",
   "metadata": {},
   "source": [
    "Calculating the overlap between lensed strain in wave optics and geometrical optics regime. This analysis will be helpful to obtain the time delay related to different lens model such as point mass, sis etc\n"
   ]
  },
  {
   "cell_type": "code",
   "execution_count": 3,
   "metadata": {},
   "outputs": [],
   "source": [
    "solar_mass = 4.92624076 * 10**-6 #[solar_mass] = sec\n",
    "\n",
    "def mag(ml, y, lens):\n",
    "    \n",
    "    if lens == 'pm':\n",
    "        mu_plus = np.abs(0.5 + (y ** 2 + 2) / (2 * y * (y ** 2 + 4) ** 0.5))\n",
    "        mu_minus = np.abs(0.5 - (y ** 2 + 2) / (2 * y * (y ** 2 + 4) ** 0.5))\n",
    "    \n",
    "    elif lens == 'sis':\n",
    "        mu_plus = np.abs(1 + 1 / y)\n",
    "        mu_minus = np.abs(-1 + 1 / y)\n",
    "    \n",
    "    return mu_plus, mu_minus\n",
    "\n",
    "def time_del(ml, y, lens):\n",
    "    \n",
    "    if lens == 'pm':\n",
    "        first_term = (y * (y ** 2 + 4) ** 0.5) / 2\n",
    "        second_term = np.log(((y ** 2 + 4) ** 0.5 + y) / ((y ** 2 + 4) ** 0.5 - y))\n",
    "        tds = 4 * ml * (first_term + second_term)\n",
    "    \n",
    "    elif lens == 'sis':\n",
    "        tds = 8 * ml * y\n",
    "    \n",
    "    return tds"
   ]
  },
  {
   "cell_type": "code",
   "execution_count": 3,
   "metadata": {},
   "outputs": [
    {
     "name": "stdout",
     "output_type": "stream",
     "text": [
      "magntifications: (1.265993269980339, 0.2659932699803388)        \n",
      " flux ratio: 0.21010638546638538\n",
      "time delay: 0.1990834045220832\n"
     ]
    }
   ],
   "source": [
    "print(f'magntifications: {mag(1e3 * solar_mass, 0.8, \"pm\")}  \\\n",
    "      \\n flux ratio: {mag(1e3 * solar_mass, 0.8, \"pm\")[1] / mag(1e3 * solar_mass, 0.8, \"pm\")[0]}')\n",
    "print(f'time delay: {time_del(1e4 * solar_mass, 0.5, \"pm\")}')"
   ]
  },
  {
   "cell_type": "code",
   "execution_count": 8,
   "metadata": {},
   "outputs": [],
   "source": [
    "class overlap_lens_prop():\n",
    "\n",
    "    def __init__(self, params_source = None, params_temp = None):\n",
    "        \n",
    "        self.params_source = params_source\n",
    "        self.params_temp = params_temp\n",
    "\n",
    "        # Defining source parameters with (t0, phi0)\n",
    "        self.theta_s_source = params_source['theta_s_source']\n",
    "        self.phi_s_source = params_source['phi_s_source']\n",
    "        self.theta_l_source = params_source['theta_l_source']\n",
    "        self.phi_l_source = params_source['phi_l_source']\n",
    "        self.mcz_source = params_source['mcz_source']\n",
    "        self.dist_source = params_source['dist_source']\n",
    "        self.eta_source = params_source['eta_source']\n",
    "        self.t0 = params_source['t0']\n",
    "        self.phi_0 = params_source['phi_0']\n",
    "        \n",
    "        # Adding the lensing params for source\n",
    "        #self.td = params_source['td']\n",
    "        #self.flux_ratio = params_source['flux_ratio']\n",
    "        self.M_lz_source = params_source['M_lz_source']\n",
    "        self.y_source = params_source['y_source']\n",
    "        \n",
    "        \n",
    "        # Defining template parameters \n",
    "        self.theta_s_temp = params_temp['theta_s_temp']\n",
    "        self.phi_s_temp = params_temp['phi_s_temp']\n",
    "        self.theta_l_temp = params_temp['theta_l_temp']\n",
    "        self.phi_l_temp = params_temp['phi_l_temp']\n",
    "        self.mcz_temp = params_temp['mcz_temp']\n",
    "        self.dist_temp = params_temp['dist_temp']\n",
    "        self.eta_temp = params_temp['eta_temp']\n",
    "        self.tc = params_temp['tc']\n",
    "        self.phi_c = params_temp['phi_c']\n",
    "        \n",
    "        # Adding the lensing paramters for template\n",
    "        self.M_lz_temp = params_temp['M_lz_temp']\n",
    "        self.y_temp = params_temp['y_temp']\n",
    "        \n",
    "        \n",
    "\n",
    "    def limit(self, params_source, params_template):\n",
    "    \n",
    "        low_limit = 20\n",
    "        f_cut_source = 1 / (np.power(6, 3/2) * np.pi * ((self.mcz_source) / (np.power(self.eta_source, 3/5))))\n",
    "        f_cut_temp = 1 / (np.power(6, 3/2) * np.pi * ((self.mcz_temp) / (np.power(self.eta_temp, 3/5))))\n",
    "\n",
    "        if f_cut_temp < f_cut_source:\n",
    "            upper_limit = f_cut_temp\n",
    "\n",
    "        else:\n",
    "            upper_limit = f_cut_source\n",
    "        \n",
    "        return low_limit, upper_limit, f_cut_source, f_cut_temp\n",
    "\n",
    "    def strain(self, f, theta_s, phi_s, theta_l, phi_l, mcz, dist, eta, tc, phi_c):\n",
    "        \"\"\"\n",
    "        This file is just functionized form of L_unlensed(which was \"object-oriented\"). This was mainly created\n",
    "        for the optimization of overlap function.\n",
    "        \"\"\"\n",
    "        def mass_conv(mcz, eta):\n",
    "            \"\"\"Converts chirp mass to total mass. M = mcz/eta^(3/5)\n",
    "            \"\"\"\n",
    "\n",
    "            M_val = mcz/np.power(eta, 3/5)\n",
    "            return M_val\n",
    "\n",
    "        def l_dot_n(theta_s, theta_l, phi_s, phi_l):\n",
    "            \"\"\"TODO\n",
    "            \"\"\"\n",
    "\n",
    "            cos_term = np.cos(theta_s) * np.cos(theta_l)\n",
    "            sin_term = np.sin(theta_s) * np.sin(theta_l) * np.cos(phi_s - phi_l)\n",
    "\n",
    "            inner_prod = cos_term + sin_term\n",
    "            return inner_prod\n",
    "\n",
    "        def amp(mcz, dist):\n",
    "            \"\"\"TODO\n",
    "            \"\"\"\n",
    "\n",
    "            amplitude = np.sqrt(5 / 96) * np.power(np.pi, -2 / 3) * np.power(mcz, 5 / 6) / (dist)\n",
    "            return amplitude\n",
    "\n",
    "        def psi(f, tc, phi_c, mcz, eta):\n",
    "            \"\"\"eqn 3.13 in Cutler-Flanaghan 1994\n",
    "            \"\"\"\n",
    "\n",
    "            front_terms = 2 * np.pi * f * tc - phi_c - np.pi / 4\n",
    "            main_coeffs = 0.75 * np.power(8 * np.pi * mcz * f, -5 / 3)\n",
    "            main_terms = (1 + 20 / 9 * (743 / 336 + 11 / 4 * eta) * np.power(np.pi * mass_conv(mcz, eta) * f, 2 / 3)\n",
    "                            - (16 * np.pi) * np.power(np.pi * mass_conv(mcz, eta) * f, 1))\n",
    "\n",
    "            psi_val = front_terms + main_coeffs * (main_terms)\n",
    "            return psi_val\n",
    "\n",
    "        def psi_s(theta_s, theta_l, phi_s, phi_l):\n",
    "\n",
    "            numerator = np.cos(theta_l)-np.cos(theta_s)*(l_dot_n(theta_s, theta_l, phi_s, phi_l))\n",
    "            denominator = np.sin(theta_s)*np.sin(theta_l)*np.sin(phi_l-phi_s)\n",
    "\n",
    "            psi_s_val = np.arctan2(numerator, denominator)\n",
    "            return psi_s_val\n",
    "\n",
    "\n",
    "        def fIp(theta_s, phi_s):\n",
    "            \"\"\"TODO\n",
    "            \"\"\"\n",
    "\n",
    "            term_1 = (1 / 2 * (1 + np.power(np.cos(theta_s), 2)) * np.cos(2*phi_s)* np.cos(2*psi_s(theta_s, theta_l, phi_s, phi_l)))\n",
    "            term_2 = (np.cos(theta_s) * np.sin(2*phi_s)* np.sin(2*psi_s(theta_s, theta_l, phi_s, phi_l)))\n",
    "\n",
    "            fIp_val = term_1 - term_2\n",
    "            return fIp_val\n",
    "\n",
    "        def fIc(theta_s, phi_s):\n",
    "            \"\"\"TODO\n",
    "            \"\"\"\n",
    "\n",
    "            term_1 = (1 / 2 * (1 + np.power(np.cos(theta_s), 2)) * np.cos(2*phi_s)\n",
    "                        * np.sin(2*psi_s(theta_s, theta_l, phi_s, phi_l)))\n",
    "            term_2 = (np.cos(theta_s) * np.sin(2*phi_s)\n",
    "                        * np.cos(2*psi_s(theta_s, theta_l, phi_s, phi_l)))\n",
    "\n",
    "            fIc_val = term_1 + term_2\n",
    "            return fIc_val\n",
    "\n",
    "        def lambdaI():\n",
    "            \"\"\"TODO\n",
    "            \"\"\"\n",
    "\n",
    "            term_1 = np.power(2 * l_dot_n(theta_s, theta_l, phi_s, phi_l) * fIc(theta_s, phi_s), 2)\n",
    "            term_2 = np.power((1 + np.power(l_dot_n(theta_s, theta_l, phi_s, phi_l), 2)) * fIp(theta_s, phi_s), 2)\n",
    "\n",
    "            lambdaI_val = np.sqrt(term_1 + term_2)\n",
    "            return lambdaI_val\n",
    "\n",
    "        def phi_pI():\n",
    "            \"\"\"TODO\n",
    "            \"\"\"\n",
    "\n",
    "            numerator = (2 * l_dot_n(theta_s, theta_l, phi_s, phi_l) * fIc(theta_s, phi_s))\n",
    "            denominator = ((1 + np.power(l_dot_n(theta_s, theta_l, phi_s, phi_l), 2)) * fIp(theta_s, phi_s))\n",
    "\n",
    "            phi_pI_val = np.arctan2(numerator, denominator)\n",
    "            return phi_pI_val\n",
    "\n",
    "        term_1 = lambdaI()\n",
    "        term_2 = (np.exp(-1j * phi_pI()))\n",
    "        term_3 = amp(mcz, dist) * np.power(f, -7 / 6)\n",
    "        term_4 = np.exp(1j * psi(f, tc, phi_c, mcz, eta))\n",
    "\n",
    "        signal_I = term_1 * term_2 * term_3 * term_4\n",
    "        return signal_I\n",
    "\n",
    "    '''Adding in the lens\n",
    "    '''\n",
    "\n",
    "    '''Amplification factor in geometrical optics limit\n",
    "    '''\n",
    "    def F_pm(self, f):\n",
    "        '''computes the amplification factor for source point mass lens.\n",
    "\n",
    "        Parameters\n",
    "        ----------\n",
    "        f : float\n",
    "            frequency\n",
    "\n",
    "        y : float\n",
    "            source position\n",
    "\n",
    "        Return\n",
    "        ----------\n",
    "        F_val : float, complex\n",
    "            Amplification factor for point mass\n",
    "        '''\n",
    "\n",
    "        w = 8 * np.pi * self.M_lz_source * f\n",
    "        x_m = 0.5 * (self.y_source + np.sqrt(self.y_source**2 + 4))\n",
    "        phi_m = np.power((x_m - self.y_source) , 2) / 2 - np.log(x_m)\n",
    "\n",
    "        first_term = np.exp(np.pi * w / 4 + 1j * (w / 2) * (np.log(w / 2) - 2 * phi_m)) \n",
    "        second_term = sc.gamma(1 - 1j * (w / 2)) \n",
    "        third_term = mp.hyp1f1(1j * w / 2, 1, 1j * (w / 2) * (self.y_source**2), maxterms = 10**6)\n",
    "\n",
    "        F_val_source = first_term * second_term * third_term\n",
    "        F_val_source_pm = np.complex128(F_val_source, dtype = np.complex128)\n",
    "\n",
    "        return F_val_source_pm\n",
    "    \n",
    "    def F_geo_pm(self, f):\n",
    "        '''computes the amplification factor for source point mass lens in the geometrical optics limit (mismatch calculation only).\n",
    "\n",
    "        Parameters\n",
    "        ----------\n",
    "        f : float\n",
    "            frequency\n",
    "\n",
    "        y : float\n",
    "            source position\n",
    "\n",
    "        Return\n",
    "        ----------\n",
    "        F_val : float, complex\n",
    "            Amplification factor for point mass\n",
    "        '''\n",
    "        \n",
    "        flux_ratio = mag(self.M_lz_temp, self.y_temp, lens = 'pm')[1] / mag(self.M_lz_temp, self.y_temp, lens = 'pm')[0]\n",
    "        td = time_del(self.M_lz_temp, self.y_temp, lens = 'pm')\n",
    "        \n",
    "        F_geo_val_source_pm = (1 - 1j * np.sqrt(flux_ratio) * np.exp(2 * np.pi * 1j * f * td))\n",
    "        F_geo_val_source_pm = np.sqrt(mag(self.M_lz_temp, self.y_temp, lens = 'pm')[0]) * F_geo_val_source_pm\n",
    "        \n",
    "        return F_geo_val_source_pm, flux_ratio, td\n",
    "\n",
    "    def Sn(self, f):\n",
    "        \"\"\" ALIGO noise curve from arXiv:0903.0338\n",
    "        \"\"\"\n",
    "        fs = 20\n",
    "        if f < fs:\n",
    "            Sn_val = np.inf\n",
    "        else:\n",
    "            S0 = 1E-49\n",
    "            f0 = 215\n",
    "            Sn_temp = np.power(f/f0, -4.14) - 5 * np.power(f/f0, -2) + 111 * ((1 - np.power(f/f0, 2) + 0.5 * np.power(f/f0, 4)) / (1 + 0.5 * np.power(f/f0, 2)))\n",
    "            Sn_val = Sn_temp * S0\n",
    "\n",
    "        return Sn_val\n",
    "\n",
    "    def signal_source(self, f): \n",
    "        \n",
    "        hI_source = self.strain(\n",
    "            f, \n",
    "            self.theta_s_source,\n",
    "            self.phi_s_source, \n",
    "            self.theta_l_source,\n",
    "            self.phi_l_source,\n",
    "            self.mcz_source,\n",
    "            self.dist_source,\n",
    "            self.eta_source,\n",
    "            self.t0,\n",
    "            self.phi_0\n",
    "        )\n",
    "\n",
    "        amp_factor_source_pm = self.F_pm(f)\n",
    "\n",
    "        return hI_source * amp_factor_source_pm\n",
    "\n",
    "    def signal_temp(self, f): \n",
    "\n",
    "        hI_temp = self.strain(\n",
    "            f, \n",
    "            self.theta_s_temp,\n",
    "            self.phi_s_temp, \n",
    "            self.theta_l_temp,\n",
    "            self.phi_l_temp,\n",
    "            self.mcz_temp,\n",
    "            self.dist_temp,\n",
    "            self.eta_temp,\n",
    "            self.tc,\n",
    "            self.phi_c\n",
    "        )\n",
    "        amp_factor_temp_pm = self.F_geo_pm(f)\n",
    "        \n",
    "        return hI_temp * amp_factor_temp_pm[0]\n",
    "\n",
    "    def integrand_1(self,f):\n",
    "\n",
    "        integrand_1 = self.signal_source(f) * np.conjugate(self.signal_temp(f)) / self.Sn(f)\n",
    "\n",
    "        return integrand_1\n",
    "    \n",
    "    def integrand_2(self, f):\n",
    "\n",
    "        integrand_2 = self.signal_source(f) * np.conjugate(self.signal_source(f)) / self.Sn(f)\n",
    "\n",
    "        return integrand_2\n",
    "\n",
    "    def integrand_3(self, f):\n",
    "\n",
    "        integrand_3 = self.signal_temp(f) * np.conjugate(self.signal_temp(f)) / self.Sn(f)\n",
    "\n",
    "        return integrand_3\n",
    "\n",
    "    def overlap(self):\n",
    "\n",
    "        num_temp, num_err = quad(\n",
    "            self.integrand_1, \n",
    "            self.limit(self.params_source, self.params_temp)[0], \n",
    "            self.limit(self.params_source, self.params_temp)[1]\n",
    "        )\n",
    "\n",
    "        deno_temp_1, deno_temp_err_1 = quad(\n",
    "            self.integrand_2,\n",
    "            self.limit(self.params_source, self.params_temp)[0], \n",
    "            self.limit(self.params_source, self.params_temp)[3]\n",
    "        )\n",
    "\n",
    "        deno_temp_2, deno_temp_err_2 = quad(\n",
    "            self.integrand_3,\n",
    "            self.limit(self.params_source, self.params_temp)[0], \n",
    "            self.limit(self.params_source, self.params_temp)[2]\n",
    "        )\n",
    "        \n",
    "        num = 4 * np.real(num_temp)\n",
    "        deno = np.sqrt((4 * np.real(deno_temp_1)) * (4 * np.real(deno_temp_2)))\n",
    "        \n",
    "        overlap_temp = num / deno\n",
    "        \n",
    "        return overlap_temp"
   ]
  },
  {
   "cell_type": "code",
   "execution_count": 13,
   "metadata": {},
   "outputs": [],
   "source": [
    "solar_mass = 4.92624076 * 10**-6 #[solar_mass] = sec\n",
    "giga_parsec = 1.02927125 * 10**17 #[giga_parsec] = sec\n",
    "year = 31557600 #[year] = sec\n",
    "\n",
    "initial_params_source = {\n",
    "    'theta_s_source' : 0.0, \n",
    "    'phi_s_source' : 0.0, \n",
    "    'theta_l_source' : 0.0, \n",
    "    'phi_l_source' : 0.0, \n",
    "    'mcz_source' : 18.79 * solar_mass, \n",
    "    'dist_source': 1.58 * giga_parsec, \n",
    "    'eta_source' : 0.25, \n",
    "    't0' : 0.0, \n",
    "    'phi_0' : 0.0,\n",
    "    'M_lz_source':1e2 * solar_mass,\n",
    "    'y_source': 0.5\n",
    "}\n",
    "\n",
    "initial_params_template = {\n",
    "    'theta_s_temp' : 0.0, \n",
    "    'phi_s_temp' : 0.0, \n",
    "    'theta_l_temp' : 0.0, \n",
    "    'phi_l_temp' : 0.0, \n",
    "    'mcz_temp' : 18.79 * solar_mass, \n",
    "    'dist_temp': 1.58 * giga_parsec, \n",
    "    'eta_temp' : 0.25, \n",
    "    'tc' : 0.0, \n",
    "    'phi_c' : 0.0,\n",
    "    'M_lz_temp' : 1e4 * solar_mass,\n",
    "    'y_temp' : 0.8\n",
    "}"
   ]
  },
  {
   "cell_type": "code",
   "execution_count": 5,
   "metadata": {},
   "outputs": [
    {
     "ename": "NameError",
     "evalue": "name 'overlap_lens_prop' is not defined",
     "output_type": "error",
     "traceback": [
      "\u001b[0;31m---------------------------------------------------------------------------\u001b[0m",
      "\u001b[0;31mNameError\u001b[0m                                 Traceback (most recent call last)",
      "\u001b[0;32m<ipython-input-5-8cae59137325>\u001b[0m in \u001b[0;36m<module>\u001b[0;34m\u001b[0m\n\u001b[0;32m----> 1\u001b[0;31m \u001b[0moverlap_model\u001b[0m \u001b[0;34m=\u001b[0m \u001b[0moverlap_lens_prop\u001b[0m\u001b[0;34m(\u001b[0m\u001b[0minitial_params_source\u001b[0m\u001b[0;34m,\u001b[0m \u001b[0minitial_params_template\u001b[0m\u001b[0;34m)\u001b[0m\u001b[0;34m\u001b[0m\u001b[0;34m\u001b[0m\u001b[0m\n\u001b[0m",
      "\u001b[0;31mNameError\u001b[0m: name 'overlap_lens_prop' is not defined"
     ]
    }
   ],
   "source": [
    "overlap_model = overlap_lens_prop(initial_params_source, initial_params_template)"
   ]
  },
  {
   "cell_type": "code",
   "execution_count": 7,
   "metadata": {},
   "outputs": [
    {
     "name": "stdout",
     "output_type": "stream",
     "text": [
      "Frequency at which advanced noise curve is minimum: 227.8787878787879 Hz\n"
     ]
    },
    {
     "data": {
      "image/png": "[encoded data removed]",
      "text/plain": [
       "<Figure size 432x288 with 1 Axes>"
      ]
     },
     "metadata": {
      "needs_background": "light"
     },
     "output_type": "display_data"
    }
   ],
   "source": [
    "freq = np.linspace(20, 1000, 100)\n",
    "noise = np.zeros_like(freq)\n",
    "\n",
    "for i in range(freq.shape[0]):\n",
    "    noise[i] = overlap_model.Sn(freq[i])\n",
    "\n",
    "# minimum of the advanced noise curve\n",
    "print(f\"Frequency at which advanced noise curve is minimum: {freq[noise.argmin()]} Hz\")\n",
    "\n",
    "plt.loglog(freq, noise);"
   ]
  },
  {
   "cell_type": "code",
   "execution_count": 8,
   "metadata": {},
   "outputs": [
    {
     "data": {
      "text/plain": [
       "((0.9347977136339571-0.4793266892818148j),\n",
       " 0.21010638546638538,\n",
       " 0.3234957887897611)"
      ]
     },
     "execution_count": 8,
     "metadata": {},
     "output_type": "execute_result"
    }
   ],
   "source": [
    "F_geo = overlap_model.F_geo_pm(40)\n",
    "F_geo"
   ]
  },
  {
   "cell_type": "code",
   "execution_count": 11,
   "metadata": {},
   "outputs": [
    {
     "data": {
      "image/png": "[encoded data removed]",
      "text/plain": [
       "<Figure size 432x288 with 1 Axes>"
      ]
     },
     "metadata": {
      "needs_background": "light"
     },
     "output_type": "display_data"
    }
   ],
   "source": [
    "#plt.figure(figsize = (8, 5))\n",
    "freq = my_lin(0.001, 10, 5000)\n",
    "freq_arr = np.zeros_like(freq)\n",
    "y_range = np.array([0.1, 0.3, 1, 3])\n",
    "F_wave= np.zeros_like(freq, dtype = np.complex128)\n",
    "F_geo = np.zeros_like(freq, dtype = np.complex128)\n",
    "ax = plt.gca()\n",
    "\n",
    "for y in y_range:\n",
    "    params_template = initial_params_template\n",
    "    params_template['y_temp'] = y\n",
    "    params_source = initial_params_source\n",
    "    params_source['y_source'] = y\n",
    "\n",
    "    for i in range(freq.shape[0]):\n",
    "        overlap_model = overlap_lens_prop(params_source, params_template)\n",
    "        F_wave[i] = overlap_model.F_pm(freq[i])\n",
    "        F_geo[i] = overlap_model.F_geo_pm(freq[i])[0]\n",
    "        freq_arr[i] = freq[i]\n",
    "    color = next(ax._get_lines.prop_cycler)['color']\n",
    "    plt.loglog(freq_arr, np.abs(F_wave), label = f\"y = {params_template['y_temp']}\", color = color)\n",
    "    plt.loglog(freq_arr, np.abs(F_geo), linestyle = '--', color = color)\n",
    "    plt.ylabel('$|F|$')\n",
    "    plt.xlabel('$f$(Hz)')\n",
    "    plt.legend(loc = 'lower left')\n",
    "#plt.savefig('amp_fac_pm.png', dpi = 100, bbox_inches = 'tight')"
   ]
  },
  {
   "cell_type": "markdown",
   "metadata": {},
   "source": [
    "The amplification factor in geometric optics is slightly shifted down along y axis because we are missing coefficient in front of the amplication factor, which is a square root of plus magnification. This is due to our change of variables from $(y, M_L) --> (I, t_d)$. This change of variable affects the strain in geometrical optics regime but keeps the overlap unchanged."
   ]
  },
  {
   "cell_type": "code",
   "execution_count": 5,
   "metadata": {},
   "outputs": [],
   "source": [
    "# Custom array generator for uneven spaced lens mass. This is required in order to get more data points at the critical point. \n",
    "# (https://stackoverflow.com/questions/32504766/python-generate-unevenly-spaced-array)\n",
    "\n",
    "def my_lin(lb, ub, steps, spacing = 7.5):\n",
    "    span = (ub-lb)\n",
    "    dx = 1.0 / (steps-1)\n",
    "    return np.array([lb + (i * dx) ** spacing * span for i in range(steps)])\n",
    "\n",
    "lin = my_lin(0.005e1 * solar_mass, 2e4 * solar_mass, 20)"
   ]
  },
  {
   "cell_type": "markdown",
   "metadata": {},
   "source": [
    "### Time delay behavior wrt $M_L$"
   ]
  },
  {
   "cell_type": "code",
   "execution_count": 52,
   "metadata": {},
   "outputs": [
    {
     "data": {
      "text/plain": [
       "array([0.07885268, 0.11626059, 0.15373348, 0.19129205, 0.22895687,\n",
       "       0.26674833, 0.30468665, 0.34279176, 0.38108336, 0.41958088,\n",
       "       0.45830341, 0.49726973, 0.53649825, 0.57600703, 0.61581375,\n",
       "       0.65593567, 0.69638969, 0.73719226, 0.77835943, 0.81990682])"
      ]
     },
     "execution_count": 52,
     "metadata": {},
     "output_type": "execute_result"
    }
   ],
   "source": [
    "#ml_range = np.linspace(0.05e1 * solar_mass, 2e4 * solar_mass, 50)\n",
    "#ml_range = lin\n",
    "#ml_range = np.logspace(2.5, 4, 20) * solar_mass\n",
    "y_range = np.linspace(0.1, 1, 20)\n",
    "td = np.zeros_like(ml_range)\n",
    "\n",
    "for i in range(len(ml_range)):\n",
    "    td[i] = time_del(2e4 * solar_mass, y_range[i], lens = 'pm')\n",
    "td"
   ]
  },
  {
   "cell_type": "code",
   "execution_count": 53,
   "metadata": {},
   "outputs": [
    {
     "data": {
      "image/png": "[encoded data removed]",
      "text/plain": [
       "<Figure size 432x288 with 1 Axes>"
      ]
     },
     "metadata": {
      "needs_background": "light"
     },
     "output_type": "display_data"
    }
   ],
   "source": [
    "#plt.plot(td, ml_range / solar_mass, marker = 'x')\n",
    "plt.plot(td, y_range)\n",
    "plt.axvline(x=0.05, color='r', linestyle='--')\n",
    "plt.xlabel('td')\n",
    "#plt.ylabel('$m_L$')\n",
    "plt.show()"
   ]
  },
  {
   "cell_type": "code",
   "execution_count": 23,
   "metadata": {},
   "outputs": [
    {
     "data": {
      "text/plain": [
       "array([0.00629557, 0.00755062])"
      ]
     },
     "execution_count": 23,
     "metadata": {},
     "output_type": "execute_result"
    }
   ],
   "source": [
    "td[:2]"
   ]
  },
  {
   "cell_type": "code",
   "execution_count": 7,
   "metadata": {},
   "outputs": [
    {
     "name": "stderr",
     "output_type": "stream",
     "text": [
      "/Users/saifali/opt/anaconda3/lib/python3.7/site-packages/scipy/integrate/quadpack.py:448: ComplexWarning: Casting complex values to real discards the imaginary part\n",
      "  return _quadpack._qagse(func,a,b,args,full_output,epsabs,epsrel,limit)\n"
     ]
    },
    {
     "data": {
      "text/plain": [
       "<matplotlib.legend.Legend at 0x7ff5ee1e3590>"
      ]
     },
     "execution_count": 7,
     "metadata": {},
     "output_type": "execute_result"
    },
    {
     "data": {
      "image/png": "[encoded data removed]",
      "text/plain": [
       "<Figure size 432x288 with 1 Axes>"
      ]
     },
     "metadata": {
      "needs_background": "light"
     },
     "output_type": "display_data"
    }
   ],
   "source": [
    "#ml_range = np.linspace(0.05e1 * solar_mass, 2e4 * solar_mass, 50)\n",
    "ml_range = lin\n",
    "#ml_range = np.logspace(0.05e1 * solar_mass, 2e4 * solar_mass, 50)\n",
    "td = np.zeros_like(ml_range)\n",
    "y_range = np.linspace(0.5, 0.8, 2)\n",
    "overlap_lens_sig = np.zeros_like(ml_range)\n",
    "fig, ax = plt.subplots()\n",
    "#plt.figure(figsize = (10, 7))\n",
    "for i in range(len(y_range)):\n",
    "    params_temp = initial_params_template\n",
    "    params_source = initial_params_source\n",
    "    params_temp['y_temp'] = y_range[i]\n",
    "    params_source['y_source'] = y_range[i]\n",
    "    \n",
    "    for i in range(len(ml_range)):\n",
    "        params_temp['M_lz_temp'] = (ml_range[i])\n",
    "        params_source['M_lz_source'] = (ml_range[i])\n",
    "        model = overlap_lens_prop(params_source, params_temp)\n",
    "        overlap_lens_sig[i] = model.overlap()\n",
    "        td[i] = time_del(params_temp['M_lz_temp'], params_temp['y_temp'], lens = 'pm')\n",
    "    ax.semilogx(ml_range, overlap_lens_sig, label = f\"y = {params_temp['y_temp']}, I = {mag(params_temp['M_lz_temp'], params_temp['y_temp'], lens = 'pm')[1] / mag(params_temp['M_lz_temp'], params_temp['y_temp'], lens = 'pm')[0]:.2f}\")\n",
    "    plt.ylabel('$\\mathcal{O}(h^L_{geo}, h^L_{wave})$')\n",
    "    plt.xlabel('$\\Delta t_d$')\n",
    "    #plt.axvline(x = 0.05)\n",
    "    #plt.axvline(x = 0.01)\n",
    "    #plt.text(0.05,0.85,'$f_{low}^{-1}$', fontsize = 10)\n",
    "    #plt.text(0.01,0.85,'$f_{cut}^{-1}$', fontsize = 10)\n",
    "ax.axhline(y = 0.854, label = r'$\\mathcal{O} = 0.854$', linestyle = '--')\n",
    "ax.axhline(y = 0.909, label = r'$\\mathcal{O} = 0.909$', linestyle = 'dotted')\n",
    "plt.legend(loc = 'best')\n",
    "#plt.savefig('overlap-lensed-sigs-plateau.png', dpi = 100, bbox_inch = 'tight')"
   ]
  },
  {
   "cell_type": "code",
   "execution_count": 20,
   "metadata": {},
   "outputs": [
    {
     "data": {
      "text/plain": [
       "0.854357657716761"
      ]
     },
     "execution_count": 20,
     "metadata": {},
     "output_type": "execute_result"
    }
   ],
   "source": [
    "I = 0.37\n",
    "1 / np.sqrt(1 + I)"
   ]
  },
  {
   "cell_type": "markdown",
   "metadata": {},
   "source": [
    "Our goal is to calculate the $\\mathcal{O}(h^{UL}, h^L)$ or $\\epsilon$ for that matter, between unlensed and lensed signal. In order to do that we need to differentiate the wave optice and the geometrical optics regime properly. In the wave optics regime, we have to use the full amplification factor given in Takahashi/Nakamura whereas in the geometrical optics regime, we can use the summed amplification factor where it is valid only in the regime where $f \\gg \\Delta t_d^{-1}$. \n",
    "\n",
    "The amplification factor in geometrical optics, in terms of our parameters $(I, \\Delta t_d)$ is given by $F(f) = |\\mu_+|^{1/2} (1 - i I^{1/2} e^{2 \\pi i f \\Delta t_d})$. We know that for our aLIGO noise curve the floor of the frequency is at $20Hz$ and the $f_{cut}$ is given by the total mass. For our value of chirp mass $\\mathcal{M} = 18.79 M_\\odot$ and symmmetric mass ratio $\\eta = 0.25$, the $f_{cut} ~ 100 Hz$. So, $f_{low} < f < f_{cut}$ or $f_{low}^{-1} > f > f_{cut}^{-1}$. \n",
    "\n",
    "Now in order to geometrical optics remain valid, $\\Delta t_d >> f^{-1}$ and for our aLIGO noise curve, we can say that the lower limit on the time delay should be given by $\\Delta t_d >> f_{low}^{-1}$. Now this means that from our figure above, the geometrical optics should be a good approximation (compared to wave optics) in the region right of the line at $f_{low}^{-1} = 0.05s$ because the $\\mathcal{O}(h^L_{geo}, h^L_{wave}) \\approx 1$. \n",
    "\n",
    "Since $\\Delta t_d = \\Delta t_d(M_L, y)$, the time delay depends on both the lens mass $M_L$ and the source position $y$ or the flux ratio $I = I(y)$. So we have to choose $M_L$ (and $y$) such that the $\\Delta t_d \\gg f_{low}^{-1}$. But if we want to see that transition from wave optics to geometrical optics, then we can choose $M_L$ (keeping $y$ constant) over a range where we can use wave optics as well as geometrical optics. Typically this means that we have to go at much smaller $M_L$, of the order $10^{-2} M_\\odot$. "
   ]
  },
  {
   "cell_type": "code",
   "execution_count": 21,
   "metadata": {},
   "outputs": [
    {
     "data": {
      "image/png": "[encoded data removed]",
      "text/plain": [
       "<Figure size 432x288 with 1 Axes>"
      ]
     },
     "metadata": {
      "needs_background": "light"
     },
     "output_type": "display_data"
    }
   ],
   "source": [
    "#ml_range = np.linspace(0.05e1 * solar_mass, 2e4 * solar_mass, 50)\n",
    "ml_range = lin\n",
    "td = np.zeros_like(ml_range)\n",
    "y_range = np.linspace(0.5, 0.9, 1)\n",
    "overlap_lens_sig = np.zeros_like(ml_range)\n",
    "\n",
    "#plt.figure(figsize = (10, 7))\n",
    "for i in range(len(y_range)):\n",
    "    params_temp = initial_params_template\n",
    "    params_source = initial_params_source\n",
    "    params_temp['y_temp'] = y_range[i]\n",
    "    params_source['y_source'] = y_range[i]\n",
    "    \n",
    "    for i in range(len(ml_range)):\n",
    "        params_temp['M_lz_temp'] = ml_range[i]\n",
    "        params_source['M_lz_source'] = ml_range[i]\n",
    "        model = overlap_lens_prop(params_source, params_temp)\n",
    "        overlap_lens_sig[i] = model.overlap()\n",
    "        td[i] = time_del(params_temp['M_lz_temp'], params_temp['y_temp'], lens = 'pm')\n",
    "    plt.loglog(td, 1 - overlap_lens_sig, label = f\"y = {params_temp['y_temp']}, I = {mag(params_temp['M_lz_temp'], params_temp['y_temp'], lens = 'pm')[1] / mag(params_temp['M_lz_temp'], params_temp['y_temp'], lens = 'pm')[0]:.2f}\")\n",
    "    plt.ylabel('1 - $\\mathcal{O}(h^L_{geo}, h^L_{wave})$')\n",
    "    plt.xlabel('$\\Delta t_d$')\n",
    "    plt.legend(loc = 'lower left')\n",
    "    plt.axvline(x = 1.28e-3, linestyle = 'dotted')\n",
    "    #plt.text(0.05,1e-6,'$f_{low}^{-1}$', fontsize = 10)\n",
    "#plt.savefig('1-overlap-lens-sigs.png', dpi = 100, bbox_inch = 'tight')"
   ]
  },
  {
   "cell_type": "code",
   "execution_count": 22,
   "metadata": {},
   "outputs": [
    {
     "name": "stdout",
     "output_type": "stream",
     "text": [
      "[[9.95417023e-07 1.45224367e-01]\n",
      " [9.95417038e-07 1.45224367e-01]\n",
      " [9.95438598e-07 1.45224349e-01]\n",
      " [9.96940810e-07 1.45223120e-01]\n",
      " [1.02666206e-06 1.45198845e-01]\n",
      " [1.32075608e-06 1.44963422e-01]\n",
      " [3.20209666e-06 1.43589727e-01]\n",
      " [1.21301698e-05 1.38281539e-01]\n",
      " [4.62430664e-05 1.23417548e-01]\n",
      " [1.56842080e-04 9.24930812e-02]\n",
      " [4.72136699e-04 4.80081484e-02]\n",
      " [1.28265991e-03 1.25274442e-02]\n",
      " [3.19660888e-03 2.23002072e-03]\n",
      " [7.40652904e-03 1.47338357e-03]\n",
      " [1.61258399e-02 5.11468624e-04]\n",
      " [3.32753300e-02 1.51375685e-04]\n",
      " [6.55265910e-02 3.97231594e-05]\n",
      " [1.23842105e-01 1.15034718e-05]\n",
      " [2.25691071e-01 3.52757849e-06]\n",
      " [3.98166809e-01 1.09009506e-06]]\n"
     ]
    }
   ],
   "source": [
    "print(np.c_[td, 1 - overlap_lens_sig])"
   ]
  },
  {
   "cell_type": "code",
   "execution_count": 23,
   "metadata": {},
   "outputs": [
    {
     "data": {
      "image/png": "[encoded data removed]",
      "text/plain": [
       "<Figure size 432x288 with 1 Axes>"
      ]
     },
     "metadata": {
      "needs_background": "light"
     },
     "output_type": "display_data"
    }
   ],
   "source": [
    "#ml_range = np.linspace(0.05e1 * solar_mass, 2e4 * solar_mass, 50)\n",
    "ml_range = lin\n",
    "td = np.zeros_like(ml_range)\n",
    "y_range = np.linspace(0.5, 0.9, 1)\n",
    "overlap_lens_sig = np.zeros_like(ml_range)\n",
    "\n",
    "#plt.figure(figsize = (10, 7))\n",
    "for i in range(len(y_range)):\n",
    "    params_temp = initial_params_template\n",
    "    params_source = initial_params_source\n",
    "    params_temp['y_temp'] = y_range[i]\n",
    "    params_source['y_source'] = y_range[i]\n",
    "    \n",
    "    for i in range(len(ml_range)):\n",
    "        params_temp['M_lz_temp'] = ml_range[i]\n",
    "        params_source['M_lz_source'] = ml_range[i]\n",
    "        model = overlap_lens_prop(params_source, params_temp)\n",
    "        overlap_lens_sig[i] = model.overlap()\n",
    "        td[i] = time_del(params_temp['M_lz_temp'], params_temp['y_temp'], lens = 'pm')\n",
    "    plt.loglog(ml_range * 2e5, 1 - overlap_lens_sig, label = f\"y = {params_temp['y_temp']}, I = {mag(params_temp['M_lz_temp'], params_temp['y_temp'], lens = 'pm')[1] / mag(params_temp['M_lz_temp'], params_temp['y_temp'], lens = 'pm')[0]:.2f}\")\n",
    "    plt.ylabel('log(1-$\\mathcal{O}(h^L_{geo}, h^L_{wave})$)')\n",
    "    plt.xlabel('log($M_L$)')\n",
    "    plt.legend(loc = 'lower left')\n",
    "    "
   ]
  },
  {
   "cell_type": "code",
   "execution_count": 24,
   "metadata": {},
   "outputs": [
    {
     "name": "stdout",
     "output_type": "stream",
     "text": [
      "[[4.92624076e-02 1.45224367e-01]\n",
      " [4.92624083e-02 1.45224367e-01]\n",
      " [4.92634754e-02 1.45224349e-01]\n",
      " [4.93378186e-02 1.45223120e-01]\n",
      " [5.08087001e-02 1.45198845e-01]\n",
      " [6.53631824e-02 1.44963422e-01]\n",
      " [1.58469252e-01 1.43589727e-01]\n",
      " [6.00312588e-01 1.38281539e-01]\n",
      " [2.28853308e+00 1.23417548e-01]\n",
      " [7.76199151e+00 9.24930812e-02]\n",
      " [2.33656748e+01 4.80081484e-02]\n",
      " [6.34778328e+01 1.25274442e-02]\n",
      " [1.58197666e+02 2.23002072e-03]\n",
      " [3.66543312e+02 1.47338357e-03]\n",
      " [7.98055165e+02 5.11468624e-04]\n",
      " [1.64676998e+03 1.51375685e-04]\n",
      " [3.24285958e+03 3.97231594e-05]\n",
      " [6.12884861e+03 1.15034718e-05]\n",
      " [1.11692741e+04 3.52757849e-06]\n",
      " [1.97049630e+04 1.09009506e-06]]\n"
     ]
    }
   ],
   "source": [
    "print(np.c_[ml_range * 2e5, 1 - overlap_lens_sig])"
   ]
  },
  {
   "cell_type": "code",
   "execution_count": 88,
   "metadata": {},
   "outputs": [
    {
     "data": {
      "image/png": "[encoded data removed]",
      "text/plain": [
       "<Figure size 432x288 with 1 Axes>"
      ]
     },
     "metadata": {
      "needs_background": "light"
     },
     "output_type": "display_data"
    }
   ],
   "source": [
    "#ml_range = np.linspace(1e1 * solar_mass, 2e3 * solar_mass, 50)\n",
    "ml_range = lin\n",
    "td = np.zeros_like(ml_range)\n",
    "mcz_range = np.linspace(17.79 * solar_mass, 28.79 * solar_mass, 3)\n",
    "overlap_lens_sig = np.zeros_like(ml_range)\n",
    "\n",
    "#plt.figure(figsize = (10, 7))\n",
    "for i in range(len(mcz_range)):\n",
    "    params_temp = initial_params_template\n",
    "    params_source = initial_params_source\n",
    "    params_temp['mcz_temp'] = mcz_range[i]\n",
    "    params_source['mcz_source'] = mcz_range[i]\n",
    "    \n",
    "    for i in range(len(ml_range)):\n",
    "        params_temp['M_lz_temp'] = ml_range[i]\n",
    "        params_source['M_lz_source'] = ml_range[i]\n",
    "        model = overlap_lens_prop(params_source, params_temp)\n",
    "        overlap_lens_sig[i] = model.overlap()\n",
    "        td[i] = time_del(params_temp['M_lz_temp'], params_temp['y_temp'], lens = 'pm')\n",
    "    plt.semilogx(td, overlap_lens_sig, label = f\"{params_temp['mcz_temp'] * 2e5:.2f} solar_mass\")\n",
    "    plt.ylabel('$\\mathcal{O}(h^L_{geo}, h^L_{wave})$')\n",
    "    plt.xlabel('log($\\Delta t_d$)')\n",
    "    plt.axvline(x = 0.05)\n",
    "    plt.legend(loc = 5)"
   ]
  },
  {
   "cell_type": "code",
   "execution_count": 89,
   "metadata": {},
   "outputs": [
    {
     "name": "stdout",
     "output_type": "stream",
     "text": [
      "[2.46312038e-05 7.66304118e-05 1.28629620e-04 1.80628828e-04\n",
      " 2.32628036e-04 2.84627244e-04 3.36626452e-04 3.88625660e-04\n",
      " 4.40624868e-04 4.92624076e-04]\n"
     ]
    },
    {
     "data": {
      "text/plain": [
       "array([0.00016175, 0.00050322, 0.00084468, 0.00118615, 0.00152762,\n",
       "       0.00186909, 0.00221055, 0.00255202, 0.00289349, 0.00323496])"
      ]
     },
     "execution_count": 89,
     "metadata": {},
     "output_type": "execute_result"
    }
   ],
   "source": [
    "M_lz_source_range = np.linspace(0.5e1 * solar_mass, 1e2 * solar_mass, 10)\n",
    "print(M_lz_source_range)\n",
    "\n",
    "td = np.zeros_like(M_lz_source_range)\n",
    "for i in range(M_lz_source_range.shape[0]):\n",
    "    td[i] = time_del(M_lz_source_range[i], y = 0.8, lens = 'pm')\n",
    "\n",
    "td"
   ]
  },
  {
   "cell_type": "code",
   "execution_count": 145,
   "metadata": {},
   "outputs": [
    {
     "data": {
      "text/plain": [
       "array([4.92624076e-02, 5.27595489e-02, 3.65787505e-01, 4.46498046e+00,\n",
       "       2.86978439e+01, 1.22234351e+02, 3.99714437e+02, 1.08860442e+03,\n",
       "       2.59302286e+03, 5.57562207e+03, 1.10589811e+04, 2.05478636e+04,\n",
       "       3.61736116e+04, 6.08618741e+04, 9.85248152e+04])"
      ]
     },
     "execution_count": 145,
     "metadata": {},
     "output_type": "execute_result"
    }
   ],
   "source": [
    "def my_lin(lb, ub, steps, spacing = 6.5):\n",
    "    span = (ub-lb)\n",
    "    dx = 1.0 / (steps-1)\n",
    "    return np.array([lb + (i * dx) ** spacing * span for i in range(steps)])\n",
    "\n",
    "lin = my_lin(0.005e1 * solar_mass, 1e5 * solar_mass, 15)\n",
    "lin * 2e5"
   ]
  },
  {
   "cell_type": "code",
   "execution_count": 5,
   "metadata": {},
   "outputs": [],
   "source": [
    "data_path = '/Users/saifali/Desktop/gwlensing/data/'"
   ]
  },
  {
   "cell_type": "code",
   "execution_count": 26,
   "metadata": {},
   "outputs": [],
   "source": [
    "data_file = 'overlap_lensing_ml_y=0.5_mcz=18.79.csv'\n",
    "df_1 = pd.read_csv(data_path + data_file, header = None, converters = {1: eval})\n",
    "df_1['match'] = np.array([-df_1[1][i][0] for i in range(len(df_1))])\n",
    "df_1['td'] = np.array([time_del(df_1[0][i], y = 0.5, lens = 'pm') for i in range(len(df_1))])\n",
    "df_1[0] = np.array(df_1[0] * 2e5)\n",
    "df_1 = df_1.sort_values(by = 0)\n",
    "#df_1"
   ]
  },
  {
   "cell_type": "code",
   "execution_count": 27,
   "metadata": {},
   "outputs": [],
   "source": [
    "data_file = 'overlap_lensing_ml_y=0.5_mcz=18.79_v1.csv'\n",
    "df_2 = pd.read_csv(data_path + data_file, header = None, converters = {1: eval})\n",
    "df_2['match'] = np.array([-df_2[1][i][0] for i in range(len(df_2))])\n",
    "df_2['td'] = np.array([time_del(df_2[0][i], y = 0.5, lens = 'pm') for i in range(len(df_2))])\n",
    "df_2[0] = np.array(df_2[0] * 2e5)\n",
    "df_2 = df_2.sort_values(by = 0)"
   ]
  },
  {
   "cell_type": "code",
   "execution_count": 28,
   "metadata": {},
   "outputs": [
    {
     "name": "stderr",
     "output_type": "stream",
     "text": [
      "/Users/saifali/opt/anaconda3/lib/python3.7/site-packages/matplotlib/cbook/__init__.py:1402: FutureWarning: Support for multi-dimensional indexing (e.g. `obj[:, None]`) is deprecated and will be removed in a future version.  Convert to a numpy array before indexing instead.\n",
      "  x[:, None]\n",
      "/Users/saifali/opt/anaconda3/lib/python3.7/site-packages/matplotlib/axes/_base.py:276: FutureWarning: Support for multi-dimensional indexing (e.g. `obj[:, None]`) is deprecated and will be removed in a future version.  Convert to a numpy array before indexing instead.\n",
      "  x = x[:, np.newaxis]\n",
      "/Users/saifali/opt/anaconda3/lib/python3.7/site-packages/matplotlib/axes/_base.py:278: FutureWarning: Support for multi-dimensional indexing (e.g. `obj[:, None]`) is deprecated and will be removed in a future version.  Convert to a numpy array before indexing instead.\n",
      "  y = y[:, np.newaxis]\n"
     ]
    },
    {
     "data": {
      "text/plain": [
       "Text(0.5, 0, '$log(\\\\Delta t_d)$')"
      ]
     },
     "execution_count": 28,
     "metadata": {},
     "output_type": "execute_result"
    },
    {
     "data": {
      "image/png": "[encoded data removed]",
      "text/plain": [
       "<Figure size 432x288 with 1 Axes>"
      ]
     },
     "metadata": {
      "needs_background": "light"
     },
     "output_type": "display_data"
    }
   ],
   "source": [
    "plt.loglog(df_2['td'], 1 - df_2['match'], label = 'I = 0.37 / mcz = 18.79 more points')\n",
    "plt.loglog(df_1['td'], 1 - df_1['match'], label = 'I = 0.37 / mcz = 18.79')\n",
    "plt.legend(loc = 4)\n",
    "#plt.xlim(0.01, 1)\n",
    "plt.ylabel('$log(\\epsilon(h^L, h^{UL}))$')\n",
    "plt.xlabel('$log(\\Delta t_d)$')"
   ]
  },
  {
   "cell_type": "code",
   "execution_count": 68,
   "metadata": {},
   "outputs": [],
   "source": [
    "data_file = 'overlap_lensing_ml_y=0.8_mcz=18.79.csv'\n",
    "df_3 = pd.read_csv(data_path + data_file, header = None, converters = {1: eval})\n",
    "df_3['match'] = np.array([-df_3[1][i][0] for i in range(len(df_3))])\n",
    "df_3['td'] = np.array([time_del(df_3[0][i], y = 0.5, lens = 'pm') for i in range(len(df_3))])\n",
    "df_3[0] = np.array(df_3[0] * 2e5)\n",
    "df_3 = df_3.sort_values(by = 0)"
   ]
  },
  {
   "cell_type": "code",
   "execution_count": 71,
   "metadata": {},
   "outputs": [
    {
     "data": {
      "text/plain": [
       "Text(0.5, 0, '$\\\\Delta t_d$')"
      ]
     },
     "execution_count": 71,
     "metadata": {},
     "output_type": "execute_result"
    },
    {
     "data": {
      "image/png": "[encoded data removed]",
      "text/plain": [
       "<Figure size 432x288 with 1 Axes>"
      ]
     },
     "metadata": {
      "needs_background": "light"
     },
     "output_type": "display_data"
    }
   ],
   "source": [
    "plt.loglog(df_2['td'], 1 - df_2['match'], label = 'I = 0.37 / mcz = 18.79 more points')\n",
    "plt.loglog(df_3['td'], 1 - df_3['match'], label = 'I = 0.21 / mcz = 18.79')\n",
    "plt.legend(loc = 4)\n",
    "#plt.ylim(5e-2, 1)\n",
    "#plt.xlim(1e-2, 1)\n",
    "plt.ylabel('$\\epsilon(h^L, h^{UL})$')\n",
    "plt.xlabel('$\\Delta t_d$')"
   ]
  },
  {
   "cell_type": "code",
   "execution_count": 48,
   "metadata": {},
   "outputs": [
    {
     "data": {
      "text/plain": [
       "array([2.46312038e-05, 2.46312038e-05, 2.46312065e-05, 2.46313922e-05,\n",
       "       2.46350676e-05, 2.46714357e-05, 2.49040851e-05, 2.60081439e-05,\n",
       "       3.02265954e-05, 4.39034338e-05, 8.28932350e-05, 1.83123740e-04,\n",
       "       4.19805515e-04, 9.40410500e-04, 2.01865344e-03, 4.13938488e-03,\n",
       "       8.12762375e-03, 1.53390069e-02, 2.79338015e-02, 4.92624076e-02])"
      ]
     },
     "execution_count": 48,
     "metadata": {},
     "output_type": "execute_result"
    }
   ],
   "source": [
    "M_lz_source_range = my_lin(0.5e1 * solar_mass, 1e4 * solar_mass, 20)\n",
    "M_lz_source_range"
   ]
  },
  {
   "cell_type": "code",
   "execution_count": 60,
   "metadata": {},
   "outputs": [
    {
     "data": {
      "text/plain": [
       "'\\nchange the time delay to higher values and change the wave optics limit (time delay limit)\\nchange the resolution(increasing the number of points)\\n\\n------>\\n\\ndo it for different I (same lens)\\ndo it for different lens (same I)\\n'"
      ]
     },
     "execution_count": 60,
     "metadata": {},
     "output_type": "execute_result"
    }
   ],
   "source": [
    "'''\n",
    "change the time delay to higher values and change the wave optics limit (time delay limit)\n",
    "change the resolution(increasing the number of points)\n",
    "\n",
    "------>\n",
    "\n",
    "do it for different I (same lens)\n",
    "do it for different lens (same I)\n",
    "'''"
   ]
  },
  {
   "cell_type": "code",
   "execution_count": 6,
   "metadata": {},
   "outputs": [],
   "source": [
    "data_file = 'overlap_pm_ml_y=0.5.csv'\n",
    "df_pm = pd.read_csv(data_path + data_file)\n",
    "#df_pm = df_pm.drop([18])"
   ]
  },
  {
   "cell_type": "code",
   "execution_count": 8,
   "metadata": {},
   "outputs": [
    {
     "data": {
      "text/plain": [
       "[<matplotlib.lines.Line2D at 0x7f918a256850>]"
      ]
     },
     "execution_count": 8,
     "metadata": {},
     "output_type": "execute_result"
    },
    {
     "data": {
      "image/png": "[encoded data removed]",
      "text/plain": [
       "<Figure size 432x288 with 1 Axes>"
      ]
     },
     "metadata": {
      "needs_background": "light"
     },
     "output_type": "display_data"
    }
   ],
   "source": [
    "plt.plot(np.array(df_pm['M_lz'] / solar_mass), 1 - np.array(df_pm['overlap']), marker = 'o')"
   ]
  },
  {
   "cell_type": "code",
   "execution_count": 111,
   "metadata": {},
   "outputs": [
    {
     "data": {
      "text/plain": [
       "array([  316.22776602,   379.26901907,   454.8777947 ,   545.55947812,\n",
       "         654.31891297,   784.75997035,   941.20496727,  1128.83789168,\n",
       "        1353.87618002,  1623.77673919,  1947.48303991,  2335.72146909,\n",
       "        2801.3567612 ,  3359.81828628,  4029.6113202 ,  4832.93023857,\n",
       "        5796.39395338,  6951.92796178,  8337.82223472, 10000.        ])"
      ]
     },
     "execution_count": 111,
     "metadata": {},
     "output_type": "execute_result"
    }
   ],
   "source": [
    "M_lz_source_range = np.logspace(2.5, 4, 20) * solar_mass\n",
    "M_lz_source_range / solar_mass"
   ]
  },
  {
   "cell_type": "code",
   "execution_count": 59,
   "metadata": {},
   "outputs": [
    {
     "data": {
      "text/html": [
       "<div>\n",
       "<style scoped>\n",
       "    .dataframe tbody tr th:only-of-type {\n",
       "        vertical-align: middle;\n",
       "    }\n",
       "\n",
       "    .dataframe tbody tr th {\n",
       "        vertical-align: top;\n",
       "    }\n",
       "\n",
       "    .dataframe thead th {\n",
       "        text-align: right;\n",
       "    }\n",
       "</style>\n",
       "<table border=\"1\" class=\"dataframe\">\n",
       "  <thead>\n",
       "    <tr style=\"text-align: right;\">\n",
       "      <th></th>\n",
       "      <th>M_lz</th>\n",
       "      <th>overlap</th>\n",
       "      <th>tc</th>\n",
       "      <th>phi_c</th>\n",
       "    </tr>\n",
       "  </thead>\n",
       "  <tbody>\n",
       "    <tr>\n",
       "      <th>0</th>\n",
       "      <td>0.100000</td>\n",
       "      <td>0.732450</td>\n",
       "      <td>-0.000025</td>\n",
       "      <td>-0.003395</td>\n",
       "    </tr>\n",
       "    <tr>\n",
       "      <th>1</th>\n",
       "      <td>0.147368</td>\n",
       "      <td>0.754050</td>\n",
       "      <td>0.000127</td>\n",
       "      <td>0.038029</td>\n",
       "    </tr>\n",
       "    <tr>\n",
       "      <th>2</th>\n",
       "      <td>0.194737</td>\n",
       "      <td>0.774622</td>\n",
       "      <td>0.000100</td>\n",
       "      <td>0.032155</td>\n",
       "    </tr>\n",
       "    <tr>\n",
       "      <th>3</th>\n",
       "      <td>0.242105</td>\n",
       "      <td>0.789216</td>\n",
       "      <td>0.000015</td>\n",
       "      <td>0.008914</td>\n",
       "    </tr>\n",
       "    <tr>\n",
       "      <th>4</th>\n",
       "      <td>0.289474</td>\n",
       "      <td>0.800751</td>\n",
       "      <td>-0.000068</td>\n",
       "      <td>-0.021867</td>\n",
       "    </tr>\n",
       "    <tr>\n",
       "      <th>5</th>\n",
       "      <td>0.336842</td>\n",
       "      <td>0.812521</td>\n",
       "      <td>-0.000082</td>\n",
       "      <td>-0.030659</td>\n",
       "    </tr>\n",
       "    <tr>\n",
       "      <th>6</th>\n",
       "      <td>0.384211</td>\n",
       "      <td>0.824939</td>\n",
       "      <td>-0.000022</td>\n",
       "      <td>-0.009174</td>\n",
       "    </tr>\n",
       "    <tr>\n",
       "      <th>7</th>\n",
       "      <td>0.431579</td>\n",
       "      <td>0.837128</td>\n",
       "      <td>0.000038</td>\n",
       "      <td>0.014569</td>\n",
       "    </tr>\n",
       "    <tr>\n",
       "      <th>8</th>\n",
       "      <td>0.478947</td>\n",
       "      <td>0.848675</td>\n",
       "      <td>0.000050</td>\n",
       "      <td>0.018543</td>\n",
       "    </tr>\n",
       "    <tr>\n",
       "      <th>9</th>\n",
       "      <td>0.526316</td>\n",
       "      <td>0.859642</td>\n",
       "      <td>0.000032</td>\n",
       "      <td>0.010329</td>\n",
       "    </tr>\n",
       "    <tr>\n",
       "      <th>10</th>\n",
       "      <td>0.573684</td>\n",
       "      <td>0.869923</td>\n",
       "      <td>0.000022</td>\n",
       "      <td>0.006659</td>\n",
       "    </tr>\n",
       "    <tr>\n",
       "      <th>11</th>\n",
       "      <td>0.621053</td>\n",
       "      <td>0.879336</td>\n",
       "      <td>0.000026</td>\n",
       "      <td>0.009489</td>\n",
       "    </tr>\n",
       "    <tr>\n",
       "      <th>12</th>\n",
       "      <td>0.668421</td>\n",
       "      <td>0.887953</td>\n",
       "      <td>0.000027</td>\n",
       "      <td>0.010480</td>\n",
       "    </tr>\n",
       "    <tr>\n",
       "      <th>13</th>\n",
       "      <td>0.715789</td>\n",
       "      <td>0.895988</td>\n",
       "      <td>0.000021</td>\n",
       "      <td>0.007461</td>\n",
       "    </tr>\n",
       "    <tr>\n",
       "      <th>14</th>\n",
       "      <td>0.763158</td>\n",
       "      <td>0.903530</td>\n",
       "      <td>0.000015</td>\n",
       "      <td>0.004679</td>\n",
       "    </tr>\n",
       "    <tr>\n",
       "      <th>15</th>\n",
       "      <td>0.810526</td>\n",
       "      <td>0.910541</td>\n",
       "      <td>0.000014</td>\n",
       "      <td>0.004463</td>\n",
       "    </tr>\n",
       "    <tr>\n",
       "      <th>16</th>\n",
       "      <td>0.857895</td>\n",
       "      <td>0.917031</td>\n",
       "      <td>0.000010</td>\n",
       "      <td>0.003594</td>\n",
       "    </tr>\n",
       "    <tr>\n",
       "      <th>17</th>\n",
       "      <td>0.905263</td>\n",
       "      <td>0.923132</td>\n",
       "      <td>-0.000003</td>\n",
       "      <td>-0.000647</td>\n",
       "    </tr>\n",
       "    <tr>\n",
       "      <th>18</th>\n",
       "      <td>0.952632</td>\n",
       "      <td>0.928929</td>\n",
       "      <td>-0.000012</td>\n",
       "      <td>-0.004070</td>\n",
       "    </tr>\n",
       "    <tr>\n",
       "      <th>19</th>\n",
       "      <td>1.000000</td>\n",
       "      <td>0.934269</td>\n",
       "      <td>-0.000002</td>\n",
       "      <td>-0.000850</td>\n",
       "    </tr>\n",
       "  </tbody>\n",
       "</table>\n",
       "</div>"
      ],
      "text/plain": [
       "        M_lz   overlap        tc     phi_c\n",
       "0   0.100000  0.732450 -0.000025 -0.003395\n",
       "1   0.147368  0.754050  0.000127  0.038029\n",
       "2   0.194737  0.774622  0.000100  0.032155\n",
       "3   0.242105  0.789216  0.000015  0.008914\n",
       "4   0.289474  0.800751 -0.000068 -0.021867\n",
       "5   0.336842  0.812521 -0.000082 -0.030659\n",
       "6   0.384211  0.824939 -0.000022 -0.009174\n",
       "7   0.431579  0.837128  0.000038  0.014569\n",
       "8   0.478947  0.848675  0.000050  0.018543\n",
       "9   0.526316  0.859642  0.000032  0.010329\n",
       "10  0.573684  0.869923  0.000022  0.006659\n",
       "11  0.621053  0.879336  0.000026  0.009489\n",
       "12  0.668421  0.887953  0.000027  0.010480\n",
       "13  0.715789  0.895988  0.000021  0.007461\n",
       "14  0.763158  0.903530  0.000015  0.004679\n",
       "15  0.810526  0.910541  0.000014  0.004463\n",
       "16  0.857895  0.917031  0.000010  0.003594\n",
       "17  0.905263  0.923132 -0.000003 -0.000647\n",
       "18  0.952632  0.928929 -0.000012 -0.004070\n",
       "19  1.000000  0.934269 -0.000002 -0.000850"
      ]
     },
     "execution_count": 59,
     "metadata": {},
     "output_type": "execute_result"
    }
   ],
   "source": [
    "data_file = 'overlap_pm_y_ml=1e3.csv'\n",
    "df_pm = pd.read_csv(data_path + data_file)\n",
    "df_pm"
   ]
  },
  {
   "cell_type": "code",
   "execution_count": 65,
   "metadata": {},
   "outputs": [],
   "source": [
    "flux_ratio = mag(2e4 * solar_mass, df_pm['M_lz'], \"pm\")[1] / mag(2e4 * solar_mass, df_pm['M_lz'], \"pm\")[0]\n",
    "\n",
    "def mismatch(I):\n",
    "    return 1 - ((1 + I) ** (-1/2))\n",
    "I = np.linspace(0.1, 1, 100)\n",
    "eps = np.zeros_like(I)\n",
    "\n",
    "for i in range(len(I)):\n",
    "    eps[i] = mismatch(I[i])"
   ]
  },
  {
   "cell_type": "code",
   "execution_count": 76,
   "metadata": {},
   "outputs": [
    {
     "data": {
      "text/plain": [
       "<matplotlib.collections.PathCollection at 0x7f9937c7ec10>"
      ]
     },
     "execution_count": 76,
     "metadata": {},
     "output_type": "execute_result"
    },
    {
     "data": {
      "image/png": "[encoded data removed]",
      "text/plain": [
       "<Figure size 432x288 with 1 Axes>"
      ]
     },
     "metadata": {
      "needs_background": "light"
     },
     "output_type": "display_data"
    }
   ],
   "source": [
    "plt.plot(I, eps, '--')\n",
    "plt.scatter(np.array(flux_ratio), 1 - np.array(df_pm['overlap']), marker = 'x')"
   ]
  },
  {
   "cell_type": "code",
   "execution_count": null,
   "metadata": {},
   "outputs": [],
   "source": []
  }
 ],
 "metadata": {
  "kernelspec": {
   "display_name": "Python 3",
   "language": "python",
   "name": "python3"
  },
  "language_info": {
   "codemirror_mode": {
    "name": "ipython",
    "version": 3
   },
   "file_extension": ".py",
   "mimetype": "text/x-python",
   "name": "python",
   "nbconvert_exporter": "python",
   "pygments_lexer": "ipython3",
   "version": "3.7.4"
  }
 },
 "nbformat": 4,
 "nbformat_minor": 4
}
