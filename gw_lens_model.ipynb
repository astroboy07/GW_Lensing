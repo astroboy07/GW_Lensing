{
 "cells": [
  {
   "cell_type": "code",
   "execution_count": 1,
   "metadata": {},
   "outputs": [],
   "source": [
    "import numpy as np\n",
    "import matplotlib.pyplot as plt\n",
    "%matplotlib inline"
   ]
  },
  {
   "cell_type": "code",
   "execution_count": 2,
   "metadata": {},
   "outputs": [],
   "source": [
    "from gw_lens_dir import lens_model\n",
    "from lensinggw.amplification_factor.amplification_factor import geometricalOpticsMagnification"
   ]
  },
  {
   "cell_type": "code",
   "execution_count": 13,
   "metadata": {},
   "outputs": [],
   "source": [
    "default_lens_params = {\n",
    "    'y0': 0.1,\n",
    "    'y1': 0.5 * np.sqrt(3),\n",
    "    'l0': 0.,\n",
    "    'l1': 0,\n",
    "    'zs': 1.0,\n",
    "    'zl': 0.25,\n",
    "    'ml': 100\n",
    "}\n",
    "\n",
    "default_lens_model = lens_model.gwlens_class(default_lens_params)"
   ]
  },
  {
   "cell_type": "code",
   "execution_count": null,
   "metadata": {},
   "outputs": [],
   "source": [
    "morse = default_lens_model.mi()\n",
    "morse"
   ]
  },
  {
   "cell_type": "code",
   "execution_count": 14,
   "metadata": {},
   "outputs": [
    {
     "name": "stdout",
     "output_type": "stream",
     "text": [
      "\n",
      "---- Solver settings ----\n",
      "\n",
      "The macromodel analysis will be performed with the following settings:\n",
      "\n",
      "Scaled            --> False\n",
      "SearchWindowMacro --> 5.125811551162144e-10\n",
      "PixelsMacro       --> 1000\n",
      "PrecisionLimit    --> 1e-20\n",
      "OverlapDistMacro  --> 1e-15\n",
      "NearSource        --> False\n",
      "Optimization      --> False\n",
      "Verbose           --> False\n",
      "\n",
      "\n",
      "\n",
      "\n",
      "MACROIMAGES\n",
      "\n",
      "ra: [-9.62774902e-12  2.24422779e-11]\n",
      "dec: [-8.33787523e-11  1.94355828e-10]\n",
      "\n",
      "\n",
      "---- Solver settings ----\n",
      "\n",
      "The macromodel analysis will be performed with the following settings:\n",
      "\n",
      "Scaled            --> False\n",
      "SearchWindowMacro --> 5.125811551162144e-10\n",
      "PixelsMacro       --> 1000\n",
      "PrecisionLimit    --> 1e-20\n",
      "OverlapDistMacro  --> 1e-15\n",
      "NearSource        --> False\n",
      "Optimization      --> False\n",
      "Verbose           --> False\n",
      "\n",
      "\n",
      "\n",
      "\n",
      "MACROIMAGES\n",
      "\n",
      "ra: [-9.62774902e-12  2.24422779e-11]\n",
      "dec: [-8.33787523e-11  1.94355828e-10]\n",
      "\n",
      "\n",
      "---- Solver settings ----\n",
      "\n",
      "The macromodel analysis will be performed with the following settings:\n",
      "\n",
      "Scaled            --> False\n",
      "SearchWindowMacro --> 5.125811551162144e-10\n",
      "PixelsMacro       --> 1000\n",
      "PrecisionLimit    --> 1e-20\n",
      "OverlapDistMacro  --> 1e-15\n",
      "NearSource        --> False\n",
      "Optimization      --> False\n",
      "Verbose           --> False\n",
      "\n",
      "\n",
      "\n",
      "\n",
      "MACROIMAGES\n",
      "\n",
      "ra: [-9.62774902e-12  2.24422779e-11]\n",
      "dec: [-8.33787523e-11  1.94355828e-10]\n",
      "\n",
      "\n",
      "---- Solver settings ----\n",
      "\n",
      "The macromodel analysis will be performed with the following settings:\n",
      "\n",
      "Scaled            --> False\n",
      "SearchWindowMacro --> 5.125811551162144e-10\n",
      "PixelsMacro       --> 1000\n",
      "PrecisionLimit    --> 1e-20\n",
      "OverlapDistMacro  --> 1e-15\n",
      "NearSource        --> False\n",
      "Optimization      --> False\n",
      "Verbose           --> False\n",
      "\n",
      "\n",
      "\n",
      "\n",
      "MACROIMAGES\n",
      "\n",
      "ra: [-9.62774902e-12  2.24422779e-11]\n",
      "dec: [-8.33787523e-11  1.94355828e-10]\n",
      "\n"
     ]
    }
   ],
   "source": [
    "dummy_frequencies = np.linspace(0,1000,100)\n",
    "F = geometricalOpticsMagnification(dummy_frequencies,\n",
    "                                   default_lens_model.lens_model()[0],\n",
    "                                   default_lens_model.lens_model()[1],\n",
    "                                   default_lens_model.beta()[0],\n",
    "                                   default_lens_model.beta()[1],\n",
    "                                   default_lens_params['zl'],\n",
    "                                   default_lens_params['zs'],\n",
    "                                   default_lens_model.lens_model()[-2],\n",
    "                                   default_lens_model.lens_model()[-1]\n",
    "                                   )"
   ]
  },
  {
   "cell_type": "code",
   "execution_count": 15,
   "metadata": {},
   "outputs": [
    {
     "data": {
      "text/plain": [
       "[<matplotlib.lines.Line2D at 0x7fdbb2d01cd0>]"
      ]
     },
     "execution_count": 15,
     "metadata": {},
     "output_type": "execute_result"
    },
    {
     "data": {
      "image/png": "[encoded data removed]",
      "text/plain": [
       "<Figure size 432x288 with 1 Axes>"
      ]
     },
     "metadata": {
      "needs_background": "light"
     },
     "output_type": "display_data"
    }
   ],
   "source": [
    "plt.plot(dummy_frequencies, np.abs(F))"
   ]
  },
  {
   "cell_type": "code",
   "execution_count": null,
   "metadata": {},
   "outputs": [],
   "source": []
  }
 ],
 "metadata": {
  "kernelspec": {
   "display_name": "Python 3",
   "language": "python",
   "name": "python3"
  },
  "language_info": {
   "codemirror_mode": {
    "name": "ipython",
    "version": 3
   },
   "file_extension": ".py",
   "mimetype": "text/x-python",
   "name": "python",
   "nbconvert_exporter": "python",
   "pygments_lexer": "ipython3",
   "version": "3.7.4"
  }
 },
 "nbformat": 4,
 "nbformat_minor": 4
}
