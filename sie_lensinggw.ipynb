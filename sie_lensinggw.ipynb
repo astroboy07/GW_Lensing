{
 "cells": [
  {
   "cell_type": "markdown",
   "metadata": {},
   "source": [
    "# SIE lens\n",
    "\n",
    "Using the [lensing gw](https://gpagano.gitlab.io/lensinggw/) package I try to obtain the morse indices of the images for different lens and plot the source, images, caustics, and critical lines.\n",
    "\n",
    "~ Saif 08/2021"
   ]
  },
  {
   "cell_type": "code",
   "execution_count": null,
   "metadata": {},
   "outputs": [],
   "source": [
    "import numpy as np\n",
    "import matplotlib.pyplot as plt\n",
    "%matplotlib inline"
   ]
  },
  {
   "cell_type": "code",
   "execution_count": null,
   "metadata": {},
   "outputs": [],
   "source": [
    "from gw_lens_dir import lens_model\n",
    "from lensinggw.amplification_factor.amplification_factor import geometricalOpticsMagnification"
   ]
  },
  {
   "cell_type": "code",
   "execution_count": null,
   "metadata": {},
   "outputs": [],
   "source": [
    "default_lens_params = {\n",
    "    'y0': 0.38,\n",
    "    'y1': 0.,\n",
    "    'l0': 0.5,\n",
    "    'l1': 0.,\n",
    "    'zs': 1.0,\n",
    "    'zl': 0.25,\n",
    "    'ml': 500\n",
    "}\n",
    "\n",
    "default_lens_model = lens_model.gwlens_class(default_lens_params)"
   ]
  },
  {
   "cell_type": "code",
   "execution_count": null,
   "metadata": {},
   "outputs": [],
   "source": [
    "thetae = default_lens_model.thetaE()\n",
    "thetae"
   ]
  },
  {
   "cell_type": "code",
   "execution_count": null,
   "metadata": {},
   "outputs": [],
   "source": [
    "mi = default_lens_model.mi()\n",
    "mi"
   ]
  },
  {
   "cell_type": "code",
   "execution_count": null,
   "metadata": {},
   "outputs": [],
   "source": [
    "img_prop = default_lens_model.lens_model()\n",
    "img_prop"
   ]
  },
  {
   "cell_type": "code",
   "execution_count": null,
   "metadata": {},
   "outputs": [],
   "source": [
    "default_lens_model.plot_img(plot_name = 'test_plot_sie')"
   ]
  },
  {
   "cell_type": "code",
   "execution_count": null,
   "metadata": {},
   "outputs": [],
   "source": [
    "dummy_frequencies = np.linspace(0,100,10)\n",
    "F = geometricalOpticsMagnification(dummy_frequencies,\n",
    "                                   default_lens_model.lens_model()[0],\n",
    "                                   default_lens_model.lens_model()[1],\n",
    "                                   default_lens_model.beta()[0],\n",
    "                                   default_lens_model.beta()[1],\n",
    "                                   default_lens_params['zl'],\n",
    "                                   default_lens_params['zs'],\n",
    "                                   default_lens_model.lens_model()[-2],\n",
    "                                   default_lens_model.lens_model()[-1]\n",
    "                                   )"
   ]
  },
  {
   "cell_type": "code",
   "execution_count": null,
   "metadata": {},
   "outputs": [],
   "source": [
    "plt.plot(dummy_frequencies, np.abs(F))"
   ]
  },
  {
   "cell_type": "code",
   "execution_count": null,
   "metadata": {},
   "outputs": [],
   "source": []
  },
  {
   "cell_type": "code",
   "execution_count": null,
   "metadata": {},
   "outputs": [],
   "source": []
  }
 ],
 "metadata": {
  "kernelspec": {
   "display_name": "Python 3",
   "language": "python",
   "name": "python3"
  },
  "language_info": {
   "codemirror_mode": {
    "name": "ipython",
    "version": 3
   },
   "file_extension": ".py",
   "mimetype": "text/x-python",
   "name": "python",
   "nbconvert_exporter": "python",
   "pygments_lexer": "ipython3",
   "version": "3.7.4"
  }
 },
 "nbformat": 4,
 "nbformat_minor": 4
}
