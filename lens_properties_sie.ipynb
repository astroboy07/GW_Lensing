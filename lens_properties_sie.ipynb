{
 "cells": [
  {
   "cell_type": "markdown",
   "metadata": {},
   "source": [
    "# SIE lens\n",
    "\n",
    "Using the [lensing gw](https://gpagano.gitlab.io/lensinggw/) package I try to obtain the morse indices of the images for different lens and plot the source, images, caustics, and critical lines.\n",
    "\n",
    "~ Saif 08/2021"
   ]
  },
  {
   "cell_type": "code",
   "execution_count": 1,
   "metadata": {},
   "outputs": [],
   "source": [
    "import numpy as np\n",
    "import matplotlib.pyplot as plt\n",
    "%matplotlib inline"
   ]
  },
  {
   "cell_type": "code",
   "execution_count": 9,
   "metadata": {},
   "outputs": [],
   "source": [
    "from gw_lens_dir import lens_model\n",
    "from lensinggw.amplification_factor.amplification_factor import geometricalOpticsMagnification"
   ]
  },
  {
   "cell_type": "code",
   "execution_count": 10,
   "metadata": {},
   "outputs": [],
   "source": [
    "default_lens_params = {\n",
    "    'y0': 1.5,\n",
    "    'y1': 0.,\n",
    "    'l0': 0.1,\n",
    "    'l1': 0.,\n",
    "    'zs': 1.0,\n",
    "    'zl': 0.5,\n",
    "    'ml': 1e5\n",
    "}\n",
    "\n",
    "default_lens_model = lens_model.gwlens_class(default_lens_params)"
   ]
  },
  {
   "cell_type": "code",
   "execution_count": 11,
   "metadata": {},
   "outputs": [
    {
     "data": {
      "text/plain": [
       "2.546546802287382e-09"
      ]
     },
     "execution_count": 11,
     "metadata": {},
     "output_type": "execute_result"
    }
   ],
   "source": [
    "thetae = default_lens_model.thetaE()\n",
    "thetae"
   ]
  },
  {
   "cell_type": "code",
   "execution_count": null,
   "metadata": {},
   "outputs": [],
   "source": [
    "mi = default_lens_model.mi()\n",
    "mi"
   ]
  },
  {
   "cell_type": "code",
   "execution_count": 12,
   "metadata": {},
   "outputs": [
    {
     "name": "stdout",
     "output_type": "stream",
     "text": [
      "\n",
      "---- Solver settings ----\n",
      "\n",
      "The macromodel analysis will be performed with the following settings:\n",
      "\n",
      "OnlyMacro                       --> True\n",
      "Scaled                          --> False\n",
      "SearchWindowMacro               --> 1.0186187209149529e-08\n",
      "PixelsMacro                     --> 10000\n",
      "OverlapDistMacro                --> 1e-15\n",
      "NearSource                      --> False\n",
      "Optimization                    --> True\n",
      "Verbose                         --> False\n",
      "OptimizationWindowMacro         --> 2\n",
      "OptimizationPixelsMacro         --> 30\n",
      "MinDistMacro                    --> None\n",
      "ImprovementMacro                --> None\n",
      "OptimizationPrecisionLimitMacro --> 1e-20\n",
      "\n"
     ]
    },
    {
     "ename": "KeyboardInterrupt",
     "evalue": "",
     "output_type": "error",
     "traceback": [
      "\u001b[0;31m---------------------------------------------------------------------------\u001b[0m",
      "\u001b[0;31mKeyboardInterrupt\u001b[0m                         Traceback (most recent call last)",
      "\u001b[0;32m<ipython-input-12-4c0146793028>\u001b[0m in \u001b[0;36m<module>\u001b[0;34m\u001b[0m\n\u001b[0;32m----> 1\u001b[0;31m \u001b[0mimg_prop\u001b[0m \u001b[0;34m=\u001b[0m \u001b[0mdefault_lens_model\u001b[0m\u001b[0;34m.\u001b[0m\u001b[0mlens_model\u001b[0m\u001b[0;34m(\u001b[0m\u001b[0;34m)\u001b[0m\u001b[0;34m\u001b[0m\u001b[0;34m\u001b[0m\u001b[0m\n\u001b[0m\u001b[1;32m      2\u001b[0m \u001b[0mimg_prop\u001b[0m\u001b[0;34m\u001b[0m\u001b[0;34m\u001b[0m\u001b[0m\n",
      "\u001b[0;32m~/Desktop/gwlensing/gw_lens_dir/lens_model.py\u001b[0m in \u001b[0;36mlens_model\u001b[0;34m(self, e1, e2)\u001b[0m\n\u001b[1;32m     66\u001b[0m                                                         \u001b[0mlens_model_list\u001b[0m \u001b[0;34m=\u001b[0m \u001b[0mlens_model_list\u001b[0m\u001b[0;34m,\u001b[0m\u001b[0;34m\u001b[0m\u001b[0;34m\u001b[0m\u001b[0m\n\u001b[1;32m     67\u001b[0m                                                         \u001b[0mkwargs_lens\u001b[0m \u001b[0;34m=\u001b[0m \u001b[0mkwargs_lens_list\u001b[0m\u001b[0;34m,\u001b[0m\u001b[0;34m\u001b[0m\u001b[0;34m\u001b[0m\u001b[0m\n\u001b[0;32m---> 68\u001b[0;31m                                                         **solver_kwargs)\n\u001b[0m\u001b[1;32m     69\u001b[0m \u001b[0;34m\u001b[0m\u001b[0m\n\u001b[1;32m     70\u001b[0m             \u001b[0;32mreturn\u001b[0m \u001b[0mImg_ra\u001b[0m\u001b[0;34m,\u001b[0m \u001b[0mImg_dec\u001b[0m\u001b[0;34m,\u001b[0m \u001b[0mpixel_width\u001b[0m\u001b[0;34m,\u001b[0m \u001b[0mlens_model_list\u001b[0m\u001b[0;34m,\u001b[0m \u001b[0mkwargs_lens_list\u001b[0m\u001b[0;34m\u001b[0m\u001b[0;34m\u001b[0m\u001b[0m\n",
      "\u001b[0;32m~/opt/anaconda3/lib/python3.7/site-packages/lensinggw-1.0.0-py3.7.egg/lensinggw/solver/images.py\u001b[0m in \u001b[0;36mOneDeflector\u001b[0;34m(source_pos_x, source_pos_y, lens_model_list, kwargs_lens, **kwargs)\u001b[0m\n\u001b[1;32m    137\u001b[0m                                                                \u001b[0mkwargs_lens\u001b[0m   \u001b[0;34m=\u001b[0m \u001b[0mkwargs_lens\u001b[0m\u001b[0;34m,\u001b[0m\u001b[0;34m\u001b[0m\u001b[0;34m\u001b[0m\u001b[0m\n\u001b[1;32m    138\u001b[0m                                                                \u001b[0mmacromodel\u001b[0m    \u001b[0;34m=\u001b[0m \u001b[0;32mTrue\u001b[0m\u001b[0;34m,\u001b[0m\u001b[0;34m\u001b[0m\u001b[0;34m\u001b[0m\u001b[0m\n\u001b[0;32m--> 139\u001b[0;31m                                                                **solverKwargs) \n\u001b[0m\u001b[1;32m    140\u001b[0m     \u001b[0;31m# sanity check on the number of solutions\u001b[0m\u001b[0;34m\u001b[0m\u001b[0;34m\u001b[0m\u001b[0;34m\u001b[0m\u001b[0m\n\u001b[1;32m    141\u001b[0m     \u001b[0msys\u001b[0m\u001b[0;34m.\u001b[0m\u001b[0mstdout\u001b[0m\u001b[0;34m.\u001b[0m\u001b[0mwrite\u001b[0m\u001b[0;34m(\u001b[0m\u001b[0;34m'\\n'\u001b[0m\u001b[0;34m)\u001b[0m\u001b[0;34m\u001b[0m\u001b[0;34m\u001b[0m\u001b[0m\n",
      "\u001b[0;32m~/opt/anaconda3/lib/python3.7/site-packages/lensinggw-1.0.0-py3.7.egg/lensinggw/solver/solver.py\u001b[0m in \u001b[0;36mlens_eq_solutions\u001b[0;34m(source_pos_x, source_pos_y, x_center, y_center, search_window, min_distance, lens_model, kwargs_lens, macromodel, **solverKwargs)\u001b[0m\n\u001b[1;32m    208\u001b[0m                                       \u001b[0mgamma\u001b[0m        \u001b[0;34m=\u001b[0m \u001b[0mgamma\u001b[0m\u001b[0;34m,\u001b[0m\u001b[0;34m\u001b[0m\u001b[0;34m\u001b[0m\u001b[0m\n\u001b[1;32m    209\u001b[0m                                       \u001b[0mNpixels\u001b[0m      \u001b[0;34m=\u001b[0m \u001b[0mNpixels\u001b[0m\u001b[0;34m,\u001b[0m\u001b[0;34m\u001b[0m\u001b[0;34m\u001b[0m\u001b[0m\n\u001b[0;32m--> 210\u001b[0;31m                                       verbose      = verbose)\n\u001b[0m\u001b[1;32m    211\u001b[0m \u001b[0;34m\u001b[0m\u001b[0m\n\u001b[1;32m    212\u001b[0m             \u001b[0mx_mins\u001b[0m\u001b[0;34m.\u001b[0m\u001b[0mextend\u001b[0m\u001b[0;34m(\u001b[0m\u001b[0mtemp_zoom\u001b[0m\u001b[0;34m[\u001b[0m\u001b[0;36m0\u001b[0m\u001b[0;34m]\u001b[0m\u001b[0;34m)\u001b[0m\u001b[0;34m\u001b[0m\u001b[0;34m\u001b[0m\u001b[0m\n",
      "\u001b[0;32m~/opt/anaconda3/lib/python3.7/site-packages/lensinggw-1.0.0-py3.7.egg/lensinggw/utils/utils.py\u001b[0m in \u001b[0;36mzoom_function\u001b[0;34m(source_pos_x, source_pos_y, grid_width, x_min, y_min, ImgFrS, kwargs_lens, gamma, Npixels, verbose)\u001b[0m\n\u001b[1;32m    133\u001b[0m                                                \u001b[0mx_center\u001b[0m            \u001b[0;34m=\u001b[0m \u001b[0mx_center\u001b[0m\u001b[0;34m,\u001b[0m\u001b[0;34m\u001b[0m\u001b[0;34m\u001b[0m\u001b[0m\n\u001b[1;32m    134\u001b[0m                                                \u001b[0my_center\u001b[0m            \u001b[0;34m=\u001b[0m \u001b[0my_center\u001b[0m\u001b[0;34m,\u001b[0m\u001b[0;34m\u001b[0m\u001b[0;34m\u001b[0m\u001b[0m\n\u001b[0;32m--> 135\u001b[0;31m                                                verbose             = verbose)\n\u001b[0m\u001b[1;32m    136\u001b[0m     \u001b[0;32mreturn\u001b[0m \u001b[0mres\u001b[0m\u001b[0;34m\u001b[0m\u001b[0;34m\u001b[0m\u001b[0m\n\u001b[1;32m    137\u001b[0m \u001b[0;34m\u001b[0m\u001b[0m\n",
      "\u001b[0;32m~/opt/anaconda3/lib/python3.7/site-packages/lenstronomy-1.5.1-py3.7.egg/lenstronomy/LensModel/Solver/lens_equation_solver.py\u001b[0m in \u001b[0;36mcandidate_solutions\u001b[0;34m(self, sourcePos_x, sourcePos_y, kwargs_lens, min_distance, search_window, verbose, x_center, y_center)\u001b[0m\n\u001b[1;32m     97\u001b[0m         \u001b[0;31m# select minima in the grid points and select grid points that do not deviate more than the\u001b[0m\u001b[0;34m\u001b[0m\u001b[0;34m\u001b[0m\u001b[0;34m\u001b[0m\u001b[0m\n\u001b[1;32m     98\u001b[0m         \u001b[0;31m# width of the grid point to a solution of the lens equation\u001b[0m\u001b[0;34m\u001b[0m\u001b[0;34m\u001b[0m\u001b[0;34m\u001b[0m\u001b[0m\n\u001b[0;32m---> 99\u001b[0;31m         \u001b[0mx_mins\u001b[0m\u001b[0;34m,\u001b[0m \u001b[0my_mins\u001b[0m\u001b[0;34m,\u001b[0m \u001b[0mdelta_map\u001b[0m \u001b[0;34m=\u001b[0m \u001b[0mutil\u001b[0m\u001b[0;34m.\u001b[0m\u001b[0mneighborSelect\u001b[0m\u001b[0;34m(\u001b[0m\u001b[0mabsmapped\u001b[0m\u001b[0;34m,\u001b[0m \u001b[0mx_grid\u001b[0m\u001b[0;34m,\u001b[0m \u001b[0my_grid\u001b[0m\u001b[0;34m)\u001b[0m\u001b[0;34m\u001b[0m\u001b[0;34m\u001b[0m\u001b[0m\n\u001b[0m\u001b[1;32m    100\u001b[0m         \u001b[0;31m# pixel width\u001b[0m\u001b[0;34m\u001b[0m\u001b[0;34m\u001b[0m\u001b[0;34m\u001b[0m\u001b[0m\n\u001b[1;32m    101\u001b[0m         \u001b[0mpixel_width\u001b[0m \u001b[0;34m=\u001b[0m \u001b[0mx_grid\u001b[0m\u001b[0;34m[\u001b[0m\u001b[0;36m1\u001b[0m\u001b[0;34m]\u001b[0m\u001b[0;34m-\u001b[0m\u001b[0mx_grid\u001b[0m\u001b[0;34m[\u001b[0m\u001b[0;36m0\u001b[0m\u001b[0;34m]\u001b[0m\u001b[0;34m\u001b[0m\u001b[0;34m\u001b[0m\u001b[0m\n",
      "\u001b[0;32m~/opt/anaconda3/lib/python3.7/site-packages/lenstronomy-1.5.1-py3.7.egg/lenstronomy/Util/util.py\u001b[0m in \u001b[0;36mneighborSelect\u001b[0;34m(a, x, y)\u001b[0m\n\u001b[1;32m    423\u001b[0m     \u001b[0;32mfor\u001b[0m \u001b[0mi\u001b[0m \u001b[0;32min\u001b[0m \u001b[0mrange\u001b[0m\u001b[0;34m(\u001b[0m\u001b[0mdim\u001b[0m\u001b[0;34m+\u001b[0m\u001b[0;36m1\u001b[0m\u001b[0;34m,\u001b[0m\u001b[0mlen\u001b[0m\u001b[0;34m(\u001b[0m\u001b[0ma\u001b[0m\u001b[0;34m)\u001b[0m\u001b[0;34m-\u001b[0m\u001b[0mdim\u001b[0m\u001b[0;34m-\u001b[0m\u001b[0;36m1\u001b[0m\u001b[0;34m)\u001b[0m\u001b[0;34m:\u001b[0m\u001b[0;34m\u001b[0m\u001b[0;34m\u001b[0m\u001b[0m\n\u001b[1;32m    424\u001b[0m         if (a[i] < a[i-1]\n\u001b[0;32m--> 425\u001b[0;31m             \u001b[0;32mand\u001b[0m \u001b[0ma\u001b[0m\u001b[0;34m[\u001b[0m\u001b[0mi\u001b[0m\u001b[0;34m]\u001b[0m \u001b[0;34m<\u001b[0m \u001b[0ma\u001b[0m\u001b[0;34m[\u001b[0m\u001b[0mi\u001b[0m\u001b[0;34m+\u001b[0m\u001b[0;36m1\u001b[0m\u001b[0;34m]\u001b[0m\u001b[0;34m\u001b[0m\u001b[0;34m\u001b[0m\u001b[0m\n\u001b[0m\u001b[1;32m    426\u001b[0m             \u001b[0;32mand\u001b[0m \u001b[0ma\u001b[0m\u001b[0;34m[\u001b[0m\u001b[0mi\u001b[0m\u001b[0;34m]\u001b[0m \u001b[0;34m<\u001b[0m \u001b[0ma\u001b[0m\u001b[0;34m[\u001b[0m\u001b[0mi\u001b[0m\u001b[0;34m-\u001b[0m\u001b[0mdim\u001b[0m\u001b[0;34m]\u001b[0m\u001b[0;34m\u001b[0m\u001b[0;34m\u001b[0m\u001b[0m\n\u001b[1;32m    427\u001b[0m             \u001b[0;32mand\u001b[0m \u001b[0ma\u001b[0m\u001b[0;34m[\u001b[0m\u001b[0mi\u001b[0m\u001b[0;34m]\u001b[0m \u001b[0;34m<\u001b[0m \u001b[0ma\u001b[0m\u001b[0;34m[\u001b[0m\u001b[0mi\u001b[0m\u001b[0;34m+\u001b[0m\u001b[0mdim\u001b[0m\u001b[0;34m]\u001b[0m\u001b[0;34m\u001b[0m\u001b[0;34m\u001b[0m\u001b[0m\n",
      "\u001b[0;31mKeyboardInterrupt\u001b[0m: "
     ]
    }
   ],
   "source": [
    "img_prop = default_lens_model.lens_model()\n",
    "img_prop"
   ]
  },
  {
   "cell_type": "code",
   "execution_count": null,
   "metadata": {},
   "outputs": [],
   "source": [
    "default_lens_model.plot_img(plot_name = 'test_plot_sie')"
   ]
  },
  {
   "cell_type": "code",
   "execution_count": null,
   "metadata": {},
   "outputs": [],
   "source": [
    "dummy_frequencies = np.linspace(10,1000,100)\n",
    "F = geometricalOpticsMagnification(dummy_frequencies,\n",
    "                                   default_lens_model.lens_model()[0],\n",
    "                                   default_lens_model.lens_model()[1],\n",
    "                                   default_lens_model.beta()[0],\n",
    "                                   default_lens_model.beta()[1],\n",
    "                                   default_lens_params['zl'],\n",
    "                                   default_lens_params['zs'],\n",
    "                                   default_lens_model.lens_model()[-2],\n",
    "                                   default_lens_model.lens_model()[-1]\n",
    "                                   )"
   ]
  },
  {
   "cell_type": "code",
   "execution_count": null,
   "metadata": {},
   "outputs": [],
   "source": [
    "plt.plot(dummy_frequencies, np.abs(F))"
   ]
  },
  {
   "cell_type": "code",
   "execution_count": 7,
   "metadata": {},
   "outputs": [
    {
     "name": "stdout",
     "output_type": "stream",
     "text": [
      "\n",
      "---- Solver settings ----\n",
      "\n",
      "The macromodel analysis will be performed with the following settings:\n",
      "\n",
      "OnlyMacro                       --> True\n",
      "Scaled                          --> False\n",
      "SearchWindowMacro               --> 1.0186187209149529e-08\n",
      "PixelsMacro                     --> 10000\n",
      "OverlapDistMacro                --> 1e-15\n",
      "NearSource                      --> False\n",
      "Optimization                    --> True\n",
      "Verbose                         --> False\n",
      "OptimizationWindowMacro         --> 2\n",
      "OptimizationPixelsMacro         --> 30\n",
      "MinDistMacro                    --> None\n",
      "ImprovementMacro                --> None\n",
      "OptimizationPrecisionLimitMacro --> 1e-20\n",
      "\n"
     ]
    },
    {
     "ename": "KeyboardInterrupt",
     "evalue": "",
     "output_type": "error",
     "traceback": [
      "\u001b[0;31m---------------------------------------------------------------------------\u001b[0m",
      "\u001b[0;31mKeyboardInterrupt\u001b[0m                         Traceback (most recent call last)",
      "\u001b[0;32m<ipython-input-7-9d0b13cc45a1>\u001b[0m in \u001b[0;36m<module>\u001b[0;34m\u001b[0m\n\u001b[0;32m----> 1\u001b[0;31m \u001b[0mdefault_lens_model\u001b[0m\u001b[0;34m.\u001b[0m\u001b[0mmu\u001b[0m\u001b[0;34m(\u001b[0m\u001b[0;34m)\u001b[0m\u001b[0;34m\u001b[0m\u001b[0;34m\u001b[0m\u001b[0m\n\u001b[0m",
      "\u001b[0;32m~/Desktop/gwlensing/gw_lens_dir/lens_model.py\u001b[0m in \u001b[0;36mmu\u001b[0;34m(self)\u001b[0m\n\u001b[1;32m     87\u001b[0m         \"\"\" computes the magnification of images\n\u001b[1;32m     88\u001b[0m         \"\"\"\n\u001b[0;32m---> 89\u001b[0;31m         \u001b[0;32mreturn\u001b[0m \u001b[0mmagnifications\u001b[0m\u001b[0;34m(\u001b[0m\u001b[0mself\u001b[0m\u001b[0;34m.\u001b[0m\u001b[0mlens_model\u001b[0m\u001b[0;34m(\u001b[0m\u001b[0;34m)\u001b[0m\u001b[0;34m[\u001b[0m\u001b[0;36m0\u001b[0m\u001b[0;34m]\u001b[0m\u001b[0;34m,\u001b[0m \u001b[0mself\u001b[0m\u001b[0;34m.\u001b[0m\u001b[0mlens_model\u001b[0m\u001b[0;34m(\u001b[0m\u001b[0;34m)\u001b[0m\u001b[0;34m[\u001b[0m\u001b[0;36m1\u001b[0m\u001b[0;34m]\u001b[0m\u001b[0;34m,\u001b[0m \u001b[0mself\u001b[0m\u001b[0;34m.\u001b[0m\u001b[0mlens_model\u001b[0m\u001b[0;34m(\u001b[0m\u001b[0;34m)\u001b[0m\u001b[0;34m[\u001b[0m\u001b[0;34m-\u001b[0m\u001b[0;36m2\u001b[0m\u001b[0;34m]\u001b[0m\u001b[0;34m,\u001b[0m \u001b[0mself\u001b[0m\u001b[0;34m.\u001b[0m\u001b[0mlens_model\u001b[0m\u001b[0;34m(\u001b[0m\u001b[0;34m)\u001b[0m\u001b[0;34m[\u001b[0m\u001b[0;34m-\u001b[0m\u001b[0;36m1\u001b[0m\u001b[0;34m]\u001b[0m\u001b[0;34m)\u001b[0m\u001b[0;34m\u001b[0m\u001b[0;34m\u001b[0m\u001b[0m\n\u001b[0m\u001b[1;32m     90\u001b[0m \u001b[0;34m\u001b[0m\u001b[0m\n\u001b[1;32m     91\u001b[0m     \u001b[0;32mdef\u001b[0m \u001b[0mmi\u001b[0m\u001b[0;34m(\u001b[0m\u001b[0mself\u001b[0m\u001b[0;34m)\u001b[0m\u001b[0;34m:\u001b[0m\u001b[0;34m\u001b[0m\u001b[0;34m\u001b[0m\u001b[0m\n",
      "\u001b[0;32m~/Desktop/gwlensing/gw_lens_dir/lens_model.py\u001b[0m in \u001b[0;36mlens_model\u001b[0;34m(self, e1, e2)\u001b[0m\n\u001b[1;32m     66\u001b[0m                                                         \u001b[0mlens_model_list\u001b[0m \u001b[0;34m=\u001b[0m \u001b[0mlens_model_list\u001b[0m\u001b[0;34m,\u001b[0m\u001b[0;34m\u001b[0m\u001b[0;34m\u001b[0m\u001b[0m\n\u001b[1;32m     67\u001b[0m                                                         \u001b[0mkwargs_lens\u001b[0m \u001b[0;34m=\u001b[0m \u001b[0mkwargs_lens_list\u001b[0m\u001b[0;34m,\u001b[0m\u001b[0;34m\u001b[0m\u001b[0;34m\u001b[0m\u001b[0m\n\u001b[0;32m---> 68\u001b[0;31m                                                         **solver_kwargs)\n\u001b[0m\u001b[1;32m     69\u001b[0m \u001b[0;34m\u001b[0m\u001b[0m\n\u001b[1;32m     70\u001b[0m             \u001b[0;32mreturn\u001b[0m \u001b[0mImg_ra\u001b[0m\u001b[0;34m,\u001b[0m \u001b[0mImg_dec\u001b[0m\u001b[0;34m,\u001b[0m \u001b[0mpixel_width\u001b[0m\u001b[0;34m,\u001b[0m \u001b[0mlens_model_list\u001b[0m\u001b[0;34m,\u001b[0m \u001b[0mkwargs_lens_list\u001b[0m\u001b[0;34m\u001b[0m\u001b[0;34m\u001b[0m\u001b[0m\n",
      "\u001b[0;32m~/opt/anaconda3/lib/python3.7/site-packages/lensinggw-1.0.0-py3.7.egg/lensinggw/solver/images.py\u001b[0m in \u001b[0;36mOneDeflector\u001b[0;34m(source_pos_x, source_pos_y, lens_model_list, kwargs_lens, **kwargs)\u001b[0m\n\u001b[1;32m    137\u001b[0m                                                                \u001b[0mkwargs_lens\u001b[0m   \u001b[0;34m=\u001b[0m \u001b[0mkwargs_lens\u001b[0m\u001b[0;34m,\u001b[0m\u001b[0;34m\u001b[0m\u001b[0;34m\u001b[0m\u001b[0m\n\u001b[1;32m    138\u001b[0m                                                                \u001b[0mmacromodel\u001b[0m    \u001b[0;34m=\u001b[0m \u001b[0;32mTrue\u001b[0m\u001b[0;34m,\u001b[0m\u001b[0;34m\u001b[0m\u001b[0;34m\u001b[0m\u001b[0m\n\u001b[0;32m--> 139\u001b[0;31m                                                                **solverKwargs) \n\u001b[0m\u001b[1;32m    140\u001b[0m     \u001b[0;31m# sanity check on the number of solutions\u001b[0m\u001b[0;34m\u001b[0m\u001b[0;34m\u001b[0m\u001b[0;34m\u001b[0m\u001b[0m\n\u001b[1;32m    141\u001b[0m     \u001b[0msys\u001b[0m\u001b[0;34m.\u001b[0m\u001b[0mstdout\u001b[0m\u001b[0;34m.\u001b[0m\u001b[0mwrite\u001b[0m\u001b[0;34m(\u001b[0m\u001b[0;34m'\\n'\u001b[0m\u001b[0;34m)\u001b[0m\u001b[0;34m\u001b[0m\u001b[0;34m\u001b[0m\u001b[0m\n",
      "\u001b[0;32m~/opt/anaconda3/lib/python3.7/site-packages/lensinggw-1.0.0-py3.7.egg/lensinggw/solver/solver.py\u001b[0m in \u001b[0;36mlens_eq_solutions\u001b[0;34m(source_pos_x, source_pos_y, x_center, y_center, search_window, min_distance, lens_model, kwargs_lens, macromodel, **solverKwargs)\u001b[0m\n\u001b[1;32m    208\u001b[0m                                       \u001b[0mgamma\u001b[0m        \u001b[0;34m=\u001b[0m \u001b[0mgamma\u001b[0m\u001b[0;34m,\u001b[0m\u001b[0;34m\u001b[0m\u001b[0;34m\u001b[0m\u001b[0m\n\u001b[1;32m    209\u001b[0m                                       \u001b[0mNpixels\u001b[0m      \u001b[0;34m=\u001b[0m \u001b[0mNpixels\u001b[0m\u001b[0;34m,\u001b[0m\u001b[0;34m\u001b[0m\u001b[0;34m\u001b[0m\u001b[0m\n\u001b[0;32m--> 210\u001b[0;31m                                       verbose      = verbose)\n\u001b[0m\u001b[1;32m    211\u001b[0m \u001b[0;34m\u001b[0m\u001b[0m\n\u001b[1;32m    212\u001b[0m             \u001b[0mx_mins\u001b[0m\u001b[0;34m.\u001b[0m\u001b[0mextend\u001b[0m\u001b[0;34m(\u001b[0m\u001b[0mtemp_zoom\u001b[0m\u001b[0;34m[\u001b[0m\u001b[0;36m0\u001b[0m\u001b[0;34m]\u001b[0m\u001b[0;34m)\u001b[0m\u001b[0;34m\u001b[0m\u001b[0;34m\u001b[0m\u001b[0m\n",
      "\u001b[0;32m~/opt/anaconda3/lib/python3.7/site-packages/lensinggw-1.0.0-py3.7.egg/lensinggw/utils/utils.py\u001b[0m in \u001b[0;36mzoom_function\u001b[0;34m(source_pos_x, source_pos_y, grid_width, x_min, y_min, ImgFrS, kwargs_lens, gamma, Npixels, verbose)\u001b[0m\n\u001b[1;32m    133\u001b[0m                                                \u001b[0mx_center\u001b[0m            \u001b[0;34m=\u001b[0m \u001b[0mx_center\u001b[0m\u001b[0;34m,\u001b[0m\u001b[0;34m\u001b[0m\u001b[0;34m\u001b[0m\u001b[0m\n\u001b[1;32m    134\u001b[0m                                                \u001b[0my_center\u001b[0m            \u001b[0;34m=\u001b[0m \u001b[0my_center\u001b[0m\u001b[0;34m,\u001b[0m\u001b[0;34m\u001b[0m\u001b[0;34m\u001b[0m\u001b[0m\n\u001b[0;32m--> 135\u001b[0;31m                                                verbose             = verbose)\n\u001b[0m\u001b[1;32m    136\u001b[0m     \u001b[0;32mreturn\u001b[0m \u001b[0mres\u001b[0m\u001b[0;34m\u001b[0m\u001b[0;34m\u001b[0m\u001b[0m\n\u001b[1;32m    137\u001b[0m \u001b[0;34m\u001b[0m\u001b[0m\n",
      "\u001b[0;32m~/opt/anaconda3/lib/python3.7/site-packages/lenstronomy-1.5.1-py3.7.egg/lenstronomy/LensModel/Solver/lens_equation_solver.py\u001b[0m in \u001b[0;36mcandidate_solutions\u001b[0;34m(self, sourcePos_x, sourcePos_y, kwargs_lens, min_distance, search_window, verbose, x_center, y_center)\u001b[0m\n\u001b[1;32m     97\u001b[0m         \u001b[0;31m# select minima in the grid points and select grid points that do not deviate more than the\u001b[0m\u001b[0;34m\u001b[0m\u001b[0;34m\u001b[0m\u001b[0;34m\u001b[0m\u001b[0m\n\u001b[1;32m     98\u001b[0m         \u001b[0;31m# width of the grid point to a solution of the lens equation\u001b[0m\u001b[0;34m\u001b[0m\u001b[0;34m\u001b[0m\u001b[0;34m\u001b[0m\u001b[0m\n\u001b[0;32m---> 99\u001b[0;31m         \u001b[0mx_mins\u001b[0m\u001b[0;34m,\u001b[0m \u001b[0my_mins\u001b[0m\u001b[0;34m,\u001b[0m \u001b[0mdelta_map\u001b[0m \u001b[0;34m=\u001b[0m \u001b[0mutil\u001b[0m\u001b[0;34m.\u001b[0m\u001b[0mneighborSelect\u001b[0m\u001b[0;34m(\u001b[0m\u001b[0mabsmapped\u001b[0m\u001b[0;34m,\u001b[0m \u001b[0mx_grid\u001b[0m\u001b[0;34m,\u001b[0m \u001b[0my_grid\u001b[0m\u001b[0;34m)\u001b[0m\u001b[0;34m\u001b[0m\u001b[0;34m\u001b[0m\u001b[0m\n\u001b[0m\u001b[1;32m    100\u001b[0m         \u001b[0;31m# pixel width\u001b[0m\u001b[0;34m\u001b[0m\u001b[0;34m\u001b[0m\u001b[0;34m\u001b[0m\u001b[0m\n\u001b[1;32m    101\u001b[0m         \u001b[0mpixel_width\u001b[0m \u001b[0;34m=\u001b[0m \u001b[0mx_grid\u001b[0m\u001b[0;34m[\u001b[0m\u001b[0;36m1\u001b[0m\u001b[0;34m]\u001b[0m\u001b[0;34m-\u001b[0m\u001b[0mx_grid\u001b[0m\u001b[0;34m[\u001b[0m\u001b[0;36m0\u001b[0m\u001b[0;34m]\u001b[0m\u001b[0;34m\u001b[0m\u001b[0;34m\u001b[0m\u001b[0m\n",
      "\u001b[0;32m~/opt/anaconda3/lib/python3.7/site-packages/lenstronomy-1.5.1-py3.7.egg/lenstronomy/Util/util.py\u001b[0m in \u001b[0;36mneighborSelect\u001b[0;34m(a, x, y)\u001b[0m\n\u001b[1;32m    422\u001b[0m     \u001b[0my_mins\u001b[0m \u001b[0;34m=\u001b[0m \u001b[0;34m[\u001b[0m\u001b[0;34m]\u001b[0m\u001b[0;34m\u001b[0m\u001b[0;34m\u001b[0m\u001b[0m\n\u001b[1;32m    423\u001b[0m     \u001b[0;32mfor\u001b[0m \u001b[0mi\u001b[0m \u001b[0;32min\u001b[0m \u001b[0mrange\u001b[0m\u001b[0;34m(\u001b[0m\u001b[0mdim\u001b[0m\u001b[0;34m+\u001b[0m\u001b[0;36m1\u001b[0m\u001b[0;34m,\u001b[0m\u001b[0mlen\u001b[0m\u001b[0;34m(\u001b[0m\u001b[0ma\u001b[0m\u001b[0;34m)\u001b[0m\u001b[0;34m-\u001b[0m\u001b[0mdim\u001b[0m\u001b[0;34m-\u001b[0m\u001b[0;36m1\u001b[0m\u001b[0;34m)\u001b[0m\u001b[0;34m:\u001b[0m\u001b[0;34m\u001b[0m\u001b[0;34m\u001b[0m\u001b[0m\n\u001b[0;32m--> 424\u001b[0;31m         if (a[i] < a[i-1]\n\u001b[0m\u001b[1;32m    425\u001b[0m             \u001b[0;32mand\u001b[0m \u001b[0ma\u001b[0m\u001b[0;34m[\u001b[0m\u001b[0mi\u001b[0m\u001b[0;34m]\u001b[0m \u001b[0;34m<\u001b[0m \u001b[0ma\u001b[0m\u001b[0;34m[\u001b[0m\u001b[0mi\u001b[0m\u001b[0;34m+\u001b[0m\u001b[0;36m1\u001b[0m\u001b[0;34m]\u001b[0m\u001b[0;34m\u001b[0m\u001b[0;34m\u001b[0m\u001b[0m\n\u001b[1;32m    426\u001b[0m             \u001b[0;32mand\u001b[0m \u001b[0ma\u001b[0m\u001b[0;34m[\u001b[0m\u001b[0mi\u001b[0m\u001b[0;34m]\u001b[0m \u001b[0;34m<\u001b[0m \u001b[0ma\u001b[0m\u001b[0;34m[\u001b[0m\u001b[0mi\u001b[0m\u001b[0;34m-\u001b[0m\u001b[0mdim\u001b[0m\u001b[0;34m]\u001b[0m\u001b[0;34m\u001b[0m\u001b[0;34m\u001b[0m\u001b[0m\n",
      "\u001b[0;31mKeyboardInterrupt\u001b[0m: "
     ]
    }
   ],
   "source": [
    "default_lens_model.mu()"
   ]
  },
  {
   "cell_type": "code",
   "execution_count": null,
   "metadata": {},
   "outputs": [],
   "source": []
  }
 ],
 "metadata": {
  "kernelspec": {
   "display_name": "Python 3",
   "language": "python",
   "name": "python3"
  },
  "language_info": {
   "codemirror_mode": {
    "name": "ipython",
    "version": 3
   },
   "file_extension": ".py",
   "mimetype": "text/x-python",
   "name": "python",
   "nbconvert_exporter": "python",
   "pygments_lexer": "ipython3",
   "version": "3.7.4"
  }
 },
 "nbformat": 4,
 "nbformat_minor": 4
}
