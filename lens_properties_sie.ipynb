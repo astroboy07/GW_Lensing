{
 "cells": [
  {
   "cell_type": "markdown",
   "metadata": {},
   "source": [
    "# SIE lens\n",
    "\n",
    "Using the [lensing gw](https://gpagano.gitlab.io/lensinggw/) package I try to obtain the morse indices of the images for different lens and plot the source, images, caustics, and critical lines.\n",
    "\n",
    "~ Saif 08/2021"
   ]
  },
  {
   "cell_type": "code",
   "execution_count": 1,
   "metadata": {},
   "outputs": [],
   "source": [
    "import numpy as np\n",
    "import matplotlib.pyplot as plt\n",
    "%matplotlib inline"
   ]
  },
  {
   "cell_type": "code",
   "execution_count": 2,
   "metadata": {},
   "outputs": [],
   "source": [
    "from gw_lens_dir import lens_model\n",
    "from lensinggw.amplification_factor.amplification_factor import geometricalOpticsMagnification"
   ]
  },
  {
   "cell_type": "code",
   "execution_count": 3,
   "metadata": {},
   "outputs": [],
   "source": [
    "default_lens_params = {\n",
    "    'y0': 0.38,\n",
    "    'y1': 0.,\n",
    "    'l0': 0.5,\n",
    "    'l1': 0.,\n",
    "    'zs': 1.0,\n",
    "    'zl': 0.25,\n",
    "    'ml': 500\n",
    "}\n",
    "\n",
    "default_lens_model = lens_model.gwlens_class(default_lens_params)"
   ]
  },
  {
   "cell_type": "code",
   "execution_count": 4,
   "metadata": {},
   "outputs": [
    {
     "data": {
      "text/plain": [
       "2.8654157670630487e-10"
      ]
     },
     "execution_count": 4,
     "metadata": {},
     "output_type": "execute_result"
    }
   ],
   "source": [
    "thetae = default_lens_model.thetaE()\n",
    "thetae"
   ]
  },
  {
   "cell_type": "code",
   "execution_count": 5,
   "metadata": {},
   "outputs": [
    {
     "name": "stdout",
     "output_type": "stream",
     "text": [
      "\n",
      "---- Solver settings ----\n",
      "\n",
      "The macromodel analysis will be performed with the following settings:\n",
      "\n",
      "Scaled            --> False\n",
      "SearchWindowMacro --> 1.1461663068252195e-09\n",
      "PixelsMacro       --> 10000\n",
      "PrecisionLimit    --> 1e-20\n",
      "OverlapDistMacro  --> 1e-15\n",
      "NearSource        --> False\n",
      "Optimization      --> False\n",
      "Verbose           --> False\n",
      "\n",
      "\n",
      "\n",
      "More than 1000 pixels identified as candidate solutions: consider switching to the optimization mode\n",
      "\n"
     ]
    },
    {
     "name": "stderr",
     "output_type": "stream",
     "text": [
      "ERROR:root:Internal Python error in the inspect module.\n",
      "Below is the traceback from this internal error.\n",
      "\n"
     ]
    },
    {
     "name": "stdout",
     "output_type": "stream",
     "text": [
      "Traceback (most recent call last):\n",
      "  File \"/Users/saifali/opt/anaconda3/lib/python3.7/site-packages/IPython/core/interactiveshell.py\", line 3326, in run_code\n",
      "    exec(code_obj, self.user_global_ns, self.user_ns)\n",
      "  File \"<ipython-input-5-619f60323ab2>\", line 1, in <module>\n",
      "    mi = default_lens_model.mi()\n",
      "  File \"/Users/saifali/Desktop/gwlensing/gw_lens_dir/lens_model.py\", line 93, in mi\n",
      "    return getMinMaxSaddle(self.lens_model()[0], self.lens_model()[1], self.lens_model()[-2], self.lens_model()[-1])\n",
      "  File \"/Users/saifali/Desktop/gwlensing/gw_lens_dir/lens_model.py\", line 67, in lens_model\n",
      "    **solver_kwargs)\n",
      "  File \"/Users/saifali/opt/anaconda3/lib/python3.7/site-packages/lensinggw-1.0.0-py3.7.egg/lensinggw/solver/images.py\", line 139, in OneDeflector\n",
      "    **solverKwargs)\n",
      "  File \"/Users/saifali/opt/anaconda3/lib/python3.7/site-packages/lensinggw-1.0.0-py3.7.egg/lensinggw/solver/solver.py\", line 210, in lens_eq_solutions\n",
      "    verbose      = verbose)\n",
      "  File \"/Users/saifali/opt/anaconda3/lib/python3.7/site-packages/lensinggw-1.0.0-py3.7.egg/lensinggw/utils/utils.py\", line 135, in zoom_function\n",
      "    verbose             = verbose)\n",
      "  File \"/Users/saifali/opt/anaconda3/lib/python3.7/site-packages/lenstronomy-1.5.1-py3.7.egg/lenstronomy/LensModel/Solver/lens_equation_solver.py\", line 91, in candidate_solutions\n",
      "    x_grid, y_grid = util.make_grid(numPix, min_distance)\n",
      "  File \"/Users/saifali/opt/anaconda3/lib/python3.7/site-packages/lenstronomy-1.5.1-py3.7.egg/lenstronomy/Util/util.py\", line 149, in make_grid\n",
      "    matrix = np.dstack(np.meshgrid(a, a)).reshape(-1, 2)\n",
      "  File \"<__array_function__ internals>\", line 6, in meshgrid\n",
      "  File \"/Users/saifali/opt/anaconda3/lib/python3.7/site-packages/numpy/lib/function_base.py\", line 4213, in meshgrid\n",
      "    output = np.broadcast_arrays(*output, subok=True)\n",
      "  File \"<__array_function__ internals>\", line 6, in broadcast_arrays\n",
      "  File \"/Users/saifali/opt/anaconda3/lib/python3.7/site-packages/numpy/lib/stride_tricks.py\", line 271, in broadcast_arrays\n",
      "    for array in args]\n",
      "  File \"/Users/saifali/opt/anaconda3/lib/python3.7/site-packages/numpy/lib/stride_tricks.py\", line 271, in <listcomp>\n",
      "    for array in args]\n",
      "  File \"/Users/saifali/opt/anaconda3/lib/python3.7/site-packages/numpy/lib/stride_tricks.py\", line 117, in _broadcast_to\n",
      "    shape = tuple(shape) if np.iterable(shape) else (shape,)\n",
      "KeyboardInterrupt\n",
      "\n",
      "During handling of the above exception, another exception occurred:\n",
      "\n",
      "Traceback (most recent call last):\n",
      "  File \"/Users/saifali/opt/anaconda3/lib/python3.7/site-packages/IPython/core/interactiveshell.py\", line 2040, in showtraceback\n",
      "    stb = value._render_traceback_()\n",
      "AttributeError: 'KeyboardInterrupt' object has no attribute '_render_traceback_'\n",
      "\n",
      "During handling of the above exception, another exception occurred:\n",
      "\n",
      "Traceback (most recent call last):\n",
      "  File \"/Users/saifali/opt/anaconda3/lib/python3.7/site-packages/IPython/core/ultratb.py\", line 1101, in get_records\n",
      "    return _fixed_getinnerframes(etb, number_of_lines_of_context, tb_offset)\n",
      "  File \"/Users/saifali/opt/anaconda3/lib/python3.7/site-packages/IPython/core/ultratb.py\", line 319, in wrapped\n",
      "    return f(*args, **kwargs)\n",
      "  File \"/Users/saifali/opt/anaconda3/lib/python3.7/site-packages/IPython/core/ultratb.py\", line 353, in _fixed_getinnerframes\n",
      "    records = fix_frame_records_filenames(inspect.getinnerframes(etb, context))\n",
      "  File \"/Users/saifali/opt/anaconda3/lib/python3.7/inspect.py\", line 1502, in getinnerframes\n",
      "    frameinfo = (tb.tb_frame,) + getframeinfo(tb, context)\n",
      "  File \"/Users/saifali/opt/anaconda3/lib/python3.7/inspect.py\", line 1460, in getframeinfo\n",
      "    filename = getsourcefile(frame) or getfile(frame)\n",
      "  File \"/Users/saifali/opt/anaconda3/lib/python3.7/inspect.py\", line 696, in getsourcefile\n",
      "    if getattr(getmodule(object, filename), '__loader__', None) is not None:\n",
      "  File \"/Users/saifali/opt/anaconda3/lib/python3.7/inspect.py\", line 732, in getmodule\n",
      "    for modname, module in list(sys.modules.items()):\n",
      "KeyboardInterrupt\n"
     ]
    },
    {
     "ename": "KeyboardInterrupt",
     "evalue": "",
     "output_type": "error",
     "traceback": [
      "\u001b[0;31m---------------------------------------------------------------------------\u001b[0m"
     ]
    }
   ],
   "source": [
    "mi = default_lens_model.mi()\n",
    "mi"
   ]
  },
  {
   "cell_type": "code",
   "execution_count": null,
   "metadata": {},
   "outputs": [],
   "source": [
    "img_prop = default_lens_model.lens_model()\n",
    "img_prop"
   ]
  },
  {
   "cell_type": "code",
   "execution_count": null,
   "metadata": {},
   "outputs": [],
   "source": [
    "default_lens_model.plot_img(plot_name = 'test_plot_sie')"
   ]
  },
  {
   "cell_type": "code",
   "execution_count": null,
   "metadata": {},
   "outputs": [],
   "source": [
    "dummy_frequencies = np.linspace(0,100,10)\n",
    "F = geometricalOpticsMagnification(dummy_frequencies,\n",
    "                                   default_lens_model.lens_model()[0],\n",
    "                                   default_lens_model.lens_model()[1],\n",
    "                                   default_lens_model.beta()[0],\n",
    "                                   default_lens_model.beta()[1],\n",
    "                                   default_lens_params['zl'],\n",
    "                                   default_lens_params['zs'],\n",
    "                                   default_lens_model.lens_model()[-2],\n",
    "                                   default_lens_model.lens_model()[-1]\n",
    "                                   )"
   ]
  },
  {
   "cell_type": "code",
   "execution_count": null,
   "metadata": {},
   "outputs": [],
   "source": [
    "plt.plot(dummy_frequencies, np.abs(F))"
   ]
  },
  {
   "cell_type": "code",
   "execution_count": null,
   "metadata": {},
   "outputs": [],
   "source": []
  },
  {
   "cell_type": "code",
   "execution_count": null,
   "metadata": {},
   "outputs": [],
   "source": []
  }
 ],
 "metadata": {
  "kernelspec": {
   "display_name": "Python 3",
   "language": "python",
   "name": "python3"
  },
  "language_info": {
   "codemirror_mode": {
    "name": "ipython",
    "version": 3
   },
   "file_extension": ".py",
   "mimetype": "text/x-python",
   "name": "python",
   "nbconvert_exporter": "python",
   "pygments_lexer": "ipython3",
   "version": "3.7.4"
  }
 },
 "nbformat": 4,
 "nbformat_minor": 4
}
