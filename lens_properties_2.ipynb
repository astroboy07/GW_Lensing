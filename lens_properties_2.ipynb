{
 "cells": [
  {
   "cell_type": "code",
   "execution_count": 1,
   "metadata": {},
   "outputs": [],
   "source": [
    "import numpy as np\n",
    "import scipy as sp\n",
    "import scipy.special as sc\n",
    "from scipy.integrate import quad\n",
    "import mpmath as mp\n",
    "import pandas as pd\n",
    "import matplotlib.pyplot as plt\n",
    "from gw_lens_dir.L_unlensed import Lunlensed\n",
    "from gw_lens_dir.overlap_lensing_changed_param import overlap_dual_ann_lensing\n",
    "%matplotlib inline"
   ]
  },
  {
   "cell_type": "markdown",
   "metadata": {},
   "source": [
    "## Overlap (geo vs wave optics)"
   ]
  },
  {
   "cell_type": "markdown",
   "metadata": {},
   "source": [
    "Calculating the overlap between lensed strain in wave optics and geometrical optics regime. This analysis will be helpful to obtain the time delay related to different lens model such as point mass, sis etc\n"
   ]
  },
  {
   "cell_type": "code",
   "execution_count": 2,
   "metadata": {},
   "outputs": [],
   "source": [
    "solar_mass = 4.92624076 * 10**-6 #[solar_mass] = sec\n",
    "\n",
    "def mag(ml, y, lens):\n",
    "    \n",
    "    if lens == 'pm':\n",
    "        mu_plus = np.abs(0.5 + (y ** 2 + 2) / (2 * y * (y ** 2 + 4) ** 0.5))\n",
    "        mu_minus = np.abs(0.5 - (y ** 2 + 2) / (2 * y * (y ** 2 + 4) ** 0.5))\n",
    "    \n",
    "    elif lens == 'sis':\n",
    "        mu_plus = np.abs(1 + 1 / y)\n",
    "        mu_minus = np.abs(-1 + 1 / y)\n",
    "    \n",
    "    return mu_plus, mu_minus\n",
    "\n",
    "def time_del(ml, y, lens):\n",
    "    \n",
    "    if lens == 'pm':\n",
    "        first_term = (y * (y ** 2 + 4) ** 0.5) / 2\n",
    "        second_term = np.log(((y ** 2 + 4) ** 0.5 + y) / ((y ** 2 + 4) ** 0.5 - y))\n",
    "        tds = 4 * ml * (first_term + second_term)\n",
    "    \n",
    "    elif lens == 'sis':\n",
    "        tds = 8 * ml * y\n",
    "    \n",
    "    return tds"
   ]
  },
  {
   "cell_type": "code",
   "execution_count": 3,
   "metadata": {},
   "outputs": [
    {
     "name": "stdout",
     "output_type": "stream",
     "text": [
      "magntifications: (3.0373448350354724, 2.0373448350354724)        \n",
      " flux ratio: 0.6707650746582677\n",
      "time delay: 0.07895102223098342\n"
     ]
    }
   ],
   "source": [
    "print(f'magntifications: {mag(1e4 * solar_mass, 0.2, \"pm\")}  \\\n",
    "      \\n flux ratio: {mag(1e4 * solar_mass, 0.2, \"pm\")[1] / mag(1e4, 0.2, \"pm\")[0]}')\n",
    "print(f'time delay: {time_del(1e4 * solar_mass, 0.2, \"pm\")}')"
   ]
  },
  {
   "cell_type": "code",
   "execution_count": 4,
   "metadata": {},
   "outputs": [],
   "source": [
    "class overlap_lens_prop():\n",
    "\n",
    "    def __init__(self, params_source = None, params_temp = None):\n",
    "        \n",
    "        self.params_source = params_source\n",
    "        self.params_temp = params_temp\n",
    "\n",
    "        # Defining source parameters with (t0, phi0)\n",
    "        self.theta_s_source = params_source['theta_s_source']\n",
    "        self.phi_s_source = params_source['phi_s_source']\n",
    "        self.theta_l_source = params_source['theta_l_source']\n",
    "        self.phi_l_source = params_source['phi_l_source']\n",
    "        self.mcz_source = params_source['mcz_source']\n",
    "        self.dist_source = params_source['dist_source']\n",
    "        self.eta_source = params_source['eta_source']\n",
    "        self.t0 = params_source['t0']\n",
    "        self.phi_0 = params_source['phi_0']\n",
    "        \n",
    "        # Adding the lensing params for source\n",
    "        #self.td = params_source['td']\n",
    "        #self.flux_ratio = params_source['flux_ratio']\n",
    "        self.M_lz_source = params_source['M_lz_source']\n",
    "        self.y_source = params_source['y_source']\n",
    "        \n",
    "        \n",
    "        # Defining template parameters \n",
    "        self.theta_s_temp = params_temp['theta_s_temp']\n",
    "        self.phi_s_temp = params_temp['phi_s_temp']\n",
    "        self.theta_l_temp = params_temp['theta_l_temp']\n",
    "        self.phi_l_temp = params_temp['phi_l_temp']\n",
    "        self.mcz_temp = params_temp['mcz_temp']\n",
    "        self.dist_temp = params_temp['dist_temp']\n",
    "        self.eta_temp = params_temp['eta_temp']\n",
    "        self.tc = params_temp['tc']\n",
    "        self.phi_c = params_temp['phi_c']\n",
    "        \n",
    "        # Adding the lensing paramters for template\n",
    "        self.M_lz_temp = params_temp['M_lz_temp']\n",
    "        self.y_temp = params_temp['y_temp']\n",
    "        \n",
    "        \n",
    "\n",
    "    def limit(self, params_source, params_template):\n",
    "    \n",
    "        low_limit = 20\n",
    "        f_cut_source = 1 / (np.power(6, 3/2) * np.pi * ((self.mcz_source) / (np.power(self.eta_source, 3/5))))\n",
    "        f_cut_temp = 1 / (np.power(6, 3/2) * np.pi * ((self.mcz_temp) / (np.power(self.eta_temp, 3/5))))\n",
    "\n",
    "        if f_cut_temp < f_cut_source:\n",
    "            upper_limit = f_cut_temp\n",
    "\n",
    "        else:\n",
    "            upper_limit = f_cut_source\n",
    "        \n",
    "        return low_limit, upper_limit, f_cut_source, f_cut_temp\n",
    "\n",
    "    def strain(self, f, theta_s, phi_s, theta_l, phi_l, mcz, dist, eta, tc, phi_c):\n",
    "        \"\"\"\n",
    "        This file is just functionized form of L_unlensed(which was \"object-oriented\"). This was mainly created\n",
    "        for the optimization of overlap function.\n",
    "        \"\"\"\n",
    "        def mass_conv(mcz, eta):\n",
    "            \"\"\"Converts chirp mass to total mass. M = mcz/eta^(3/5)\n",
    "            \"\"\"\n",
    "\n",
    "            M_val = mcz/np.power(eta, 3/5)\n",
    "            return M_val\n",
    "\n",
    "        def l_dot_n(theta_s, theta_l, phi_s, phi_l):\n",
    "            \"\"\"TODO\n",
    "            \"\"\"\n",
    "\n",
    "            cos_term = np.cos(theta_s) * np.cos(theta_l)\n",
    "            sin_term = np.sin(theta_s) * np.sin(theta_l) * np.cos(phi_s - phi_l)\n",
    "\n",
    "            inner_prod = cos_term + sin_term\n",
    "            return inner_prod\n",
    "\n",
    "        def amp(mcz, dist):\n",
    "            \"\"\"TODO\n",
    "            \"\"\"\n",
    "\n",
    "            amplitude = np.sqrt(5 / 96) * np.power(np.pi, -2 / 3) * np.power(mcz, 5 / 6) / (dist)\n",
    "            return amplitude\n",
    "\n",
    "        def psi(f, tc, phi_c, mcz, eta):\n",
    "            \"\"\"eqn 3.13 in Cutler-Flanaghan 1994\n",
    "            \"\"\"\n",
    "\n",
    "            front_terms = 2 * np.pi * f * tc - phi_c - np.pi / 4\n",
    "            main_coeffs = 0.75 * np.power(8 * np.pi * mcz * f, -5 / 3)\n",
    "            main_terms = (1 + 20 / 9 * (743 / 336 + 11 / 4 * eta) * np.power(np.pi * mass_conv(mcz, eta) * f, 2 / 3)\n",
    "                            - (16 * np.pi) * np.power(np.pi * mass_conv(mcz, eta) * f, 1))\n",
    "\n",
    "            psi_val = front_terms + main_coeffs * (main_terms)\n",
    "            return psi_val\n",
    "\n",
    "        def psi_s(theta_s, theta_l, phi_s, phi_l):\n",
    "\n",
    "            numerator = np.cos(theta_l)-np.cos(theta_s)*(l_dot_n(theta_s, theta_l, phi_s, phi_l))\n",
    "            denominator = np.sin(theta_s)*np.sin(theta_l)*np.sin(phi_l-phi_s)\n",
    "\n",
    "            psi_s_val = np.arctan2(numerator, denominator)\n",
    "            return psi_s_val\n",
    "\n",
    "\n",
    "        def fIp(theta_s, phi_s):\n",
    "            \"\"\"TODO\n",
    "            \"\"\"\n",
    "\n",
    "            term_1 = (1 / 2 * (1 + np.power(np.cos(theta_s), 2)) * np.cos(2*phi_s)* np.cos(2*psi_s(theta_s, theta_l, phi_s, phi_l)))\n",
    "            term_2 = (np.cos(theta_s) * np.sin(2*phi_s)* np.sin(2*psi_s(theta_s, theta_l, phi_s, phi_l)))\n",
    "\n",
    "            fIp_val = term_1 - term_2\n",
    "            return fIp_val\n",
    "\n",
    "        def fIc(theta_s, phi_s):\n",
    "            \"\"\"TODO\n",
    "            \"\"\"\n",
    "\n",
    "            term_1 = (1 / 2 * (1 + np.power(np.cos(theta_s), 2)) * np.cos(2*phi_s)\n",
    "                        * np.sin(2*psi_s(theta_s, theta_l, phi_s, phi_l)))\n",
    "            term_2 = (np.cos(theta_s) * np.sin(2*phi_s)\n",
    "                        * np.cos(2*psi_s(theta_s, theta_l, phi_s, phi_l)))\n",
    "\n",
    "            fIc_val = term_1 + term_2\n",
    "            return fIc_val\n",
    "\n",
    "        def lambdaI():\n",
    "            \"\"\"TODO\n",
    "            \"\"\"\n",
    "\n",
    "            term_1 = np.power(2 * l_dot_n(theta_s, theta_l, phi_s, phi_l) * fIc(theta_s, phi_s), 2)\n",
    "            term_2 = np.power((1 + np.power(l_dot_n(theta_s, theta_l, phi_s, phi_l), 2)) * fIp(theta_s, phi_s), 2)\n",
    "\n",
    "            lambdaI_val = np.sqrt(term_1 + term_2)\n",
    "            return lambdaI_val\n",
    "\n",
    "        def phi_pI():\n",
    "            \"\"\"TODO\n",
    "            \"\"\"\n",
    "\n",
    "            numerator = (2 * l_dot_n(theta_s, theta_l, phi_s, phi_l) * fIc(theta_s, phi_s))\n",
    "            denominator = ((1 + np.power(l_dot_n(theta_s, theta_l, phi_s, phi_l), 2)) * fIp(theta_s, phi_s))\n",
    "\n",
    "            phi_pI_val = np.arctan2(numerator, denominator)\n",
    "            return phi_pI_val\n",
    "\n",
    "        term_1 = lambdaI()\n",
    "        term_2 = (np.exp(-1j * phi_pI()))\n",
    "        term_3 = amp(mcz, dist) * np.power(f, -7 / 6)\n",
    "        term_4 = np.exp(1j * psi(f, tc, phi_c, mcz, eta))\n",
    "\n",
    "        signal_I = term_1 * term_2 * term_3 * term_4\n",
    "        return signal_I\n",
    "\n",
    "    '''Adding in the lens\n",
    "    '''\n",
    "\n",
    "    '''Amplification factor in geometrical optics limit\n",
    "    '''\n",
    "    def F_pm(self, f):\n",
    "        '''computes the amplification factor for source point mass lens.\n",
    "\n",
    "        Parameters\n",
    "        ----------\n",
    "        f : float\n",
    "            frequency\n",
    "\n",
    "        y : float\n",
    "            source position\n",
    "\n",
    "        Return\n",
    "        ----------\n",
    "        F_val : float, complex\n",
    "            Amplification factor for point mass\n",
    "        '''\n",
    "\n",
    "        w = 8 * np.pi * self.M_lz_source * f\n",
    "        x_m = 0.5 * (self.y_source + np.sqrt(self.y_source**2 + 4))\n",
    "        phi_m = np.power((x_m - self.y_source) , 2) / 2 - np.log(x_m)\n",
    "\n",
    "        first_term = np.exp(np.pi * w / 4 + 1j * (w / 2) * (np.log(w / 2) - 2 * phi_m)) \n",
    "        second_term = sc.gamma(1 - 1j * (w / 2)) \n",
    "        third_term = mp.hyp1f1(1j * w / 2, 1, 1j * (w / 2) * (self.y_source**2), maxterms = 10**6)\n",
    "\n",
    "        F_val_source = first_term * second_term * third_term\n",
    "        F_val_source_pm = np.complex128(F_val_source, dtype = np.complex128)\n",
    "\n",
    "        return F_val_source_pm\n",
    "    \n",
    "    def F_geo_pm(self, f):\n",
    "        '''computes the amplification factor for source point mass lens in the geometrical optics limit (mismatch calculation only).\n",
    "\n",
    "        Parameters\n",
    "        ----------\n",
    "        f : float\n",
    "            frequency\n",
    "\n",
    "        y : float\n",
    "            source position\n",
    "\n",
    "        Return\n",
    "        ----------\n",
    "        F_val : float, complex\n",
    "            Amplification factor for point mass\n",
    "        '''\n",
    "        \n",
    "        flux_ratio = mag(self.M_lz_temp, self.y_temp, lens = 'pm')[1] / mag(self.M_lz_temp, self.y_temp, lens = 'pm')[0]\n",
    "        td = time_del(self.M_lz_temp, self.y_temp, lens = 'pm')\n",
    "        \n",
    "        F_geo_val_source_pm = (1 - 1j * np.sqrt(flux_ratio) * np.exp(2 * np.pi * 1j * f * td))\n",
    "        \n",
    "        return F_geo_val_source_pm, flux_ratio, td\n",
    "    \n",
    "    def Sn(self, f):\n",
    "        \"\"\" ALIGO noise curve from arXiv:0903.0338\n",
    "        \"\"\"\n",
    "        fs = 20\n",
    "        if f < fs:\n",
    "            Sn_val = np.inf\n",
    "        else:\n",
    "            S0 = 1E-49\n",
    "            f0 = 215\n",
    "            Sn_temp = np.power(f/f0, -4.14) - 5 * np.power(f/f0, -2) + 111 * ((1 - np.power(f/f0, 2) + 0.5 * np.power(f/f0, 4)) / (1 + 0.5 * np.power(f/f0, 2)))\n",
    "            Sn_val = Sn_temp * S0\n",
    "\n",
    "        return Sn_val\n",
    "\n",
    "    def signal_source(self, f): \n",
    "        \n",
    "        hI_source = self.strain(\n",
    "            f, \n",
    "            self.theta_s_source,\n",
    "            self.phi_s_source, \n",
    "            self.theta_l_source,\n",
    "            self.phi_l_source,\n",
    "            self.mcz_source,\n",
    "            self.dist_source,\n",
    "            self.eta_source,\n",
    "            self.t0,\n",
    "            self.phi_0\n",
    "        )\n",
    "\n",
    "        amp_factor_source_pm = self.F_pm(f)\n",
    "\n",
    "        return hI_source * amp_factor_source_pm\n",
    "\n",
    "    def signal_temp(self, f): \n",
    "\n",
    "        hI_temp = self.strain(\n",
    "            f, \n",
    "            self.theta_s_temp,\n",
    "            self.phi_s_temp, \n",
    "            self.theta_l_temp,\n",
    "            self.phi_l_temp,\n",
    "            self.mcz_temp,\n",
    "            self.dist_temp,\n",
    "            self.eta_temp,\n",
    "            self.tc,\n",
    "            self.phi_c\n",
    "        )\n",
    "        amp_factor_temp_pm = self.F_geo_pm(f)\n",
    "        \n",
    "        return hI_temp * amp_factor_temp_pm[0]\n",
    "\n",
    "    def integrand_1(self,f):\n",
    "\n",
    "        integrand_1 = self.signal_source(f) * np.conjugate(self.signal_temp(f)) / self.Sn(f)\n",
    "\n",
    "        return integrand_1\n",
    "    \n",
    "    def integrand_2(self, f):\n",
    "\n",
    "        integrand_2 = self.signal_source(f) * np.conjugate(self.signal_source(f)) / self.Sn(f)\n",
    "\n",
    "        return integrand_2\n",
    "\n",
    "    def integrand_3(self, f):\n",
    "\n",
    "        integrand_3 = self.signal_temp(f) * np.conjugate(self.signal_temp(f)) / self.Sn(f)\n",
    "\n",
    "        return integrand_3\n",
    "\n",
    "    def overlap(self):\n",
    "\n",
    "        num_temp, num_err = quad(\n",
    "            self.integrand_1, \n",
    "            self.limit(self.params_source, self.params_temp)[0], \n",
    "            self.limit(self.params_source, self.params_temp)[1]\n",
    "        )\n",
    "\n",
    "        deno_temp_1, deno_temp_err_1 = quad(\n",
    "            self.integrand_2,\n",
    "            self.limit(self.params_source, self.params_temp)[0], \n",
    "            self.limit(self.params_source, self.params_temp)[3]\n",
    "        )\n",
    "\n",
    "        deno_temp_2, deno_temp_err_2 = quad(\n",
    "            self.integrand_3,\n",
    "            self.limit(self.params_source, self.params_temp)[0], \n",
    "            self.limit(self.params_source, self.params_temp)[2]\n",
    "        )\n",
    "        \n",
    "        num = 4 * np.real(num_temp)\n",
    "        deno = np.sqrt((4 * np.real(deno_temp_1)) * (4 * np.real(deno_temp_2)))\n",
    "        \n",
    "        overlap_temp = num / deno\n",
    "        \n",
    "        return overlap_temp"
   ]
  },
  {
   "cell_type": "code",
   "execution_count": 5,
   "metadata": {},
   "outputs": [],
   "source": [
    "solar_mass = 4.92624076 * 10**-6 #[solar_mass] = sec\n",
    "giga_parsec = 1.02927125 * 10**17 #[giga_parsec] = sec\n",
    "year = 31557600 #[year] = sec\n",
    "\n",
    "initial_params_source = {\n",
    "    'theta_s_source' : 0.0, \n",
    "    'phi_s_source' : 0.0, \n",
    "    'theta_l_source' : 0.0, \n",
    "    'phi_l_source' : 0.0, \n",
    "    'mcz_source' : 18.79 * solar_mass, \n",
    "    'dist_source': 1.58 * giga_parsec, \n",
    "    'eta_source' : 0.25, \n",
    "    't0' : 0.0, \n",
    "    'phi_0' : 0.0,\n",
    "    'M_lz_source':1e4 * solar_mass,\n",
    "    'y_source': 0.8\n",
    "}\n",
    "\n",
    "initial_params_template = {\n",
    "    'theta_s_temp' : 0.0, \n",
    "    'phi_s_temp' : 0.0, \n",
    "    'theta_l_temp' : 0.0, \n",
    "    'phi_l_temp' : 0.0, \n",
    "    'mcz_temp' : 18.79 * solar_mass, \n",
    "    'dist_temp': 1.58 * giga_parsec, \n",
    "    'eta_temp' : 0.25, \n",
    "    'tc' : 0.0, \n",
    "    'phi_c' : 0.0,\n",
    "    'M_lz_temp' : 1e4 * solar_mass,\n",
    "    'y_temp' : 0.8\n",
    "}"
   ]
  },
  {
   "cell_type": "code",
   "execution_count": 6,
   "metadata": {},
   "outputs": [],
   "source": [
    "overlap_model = overlap_lens_prop(initial_params_source, initial_params_template)"
   ]
  },
  {
   "cell_type": "code",
   "execution_count": 7,
   "metadata": {},
   "outputs": [
    {
     "name": "stdout",
     "output_type": "stream",
     "text": [
      "Frequency at which advanced noise curve is minimum: 227.8787878787879 Hz\n"
     ]
    },
    {
     "data": {
      "image/png": "[encoded data removed]",
      "text/plain": [
       "<Figure size 432x288 with 1 Axes>"
      ]
     },
     "metadata": {
      "needs_background": "light"
     },
     "output_type": "display_data"
    }
   ],
   "source": [
    "freq = np.linspace(20, 1000, 100)\n",
    "noise = np.zeros_like(freq)\n",
    "\n",
    "for i in range(freq.shape[0]):\n",
    "    noise[i] = overlap_model.Sn(freq[i])\n",
    "\n",
    "# minimum of the advanced noise curve\n",
    "print(f\"Frequency at which advanced noise curve is minimum: {freq[noise.argmin()]} Hz\")\n",
    "\n",
    "plt.plot(freq, noise);"
   ]
  },
  {
   "cell_type": "code",
   "execution_count": 8,
   "metadata": {},
   "outputs": [
    {
     "data": {
      "text/plain": [
       "((0.8308104357086387-0.42600619338371676j),\n",
       " 0.21010638546638538,\n",
       " 0.3234957887897611)"
      ]
     },
     "execution_count": 8,
     "metadata": {},
     "output_type": "execute_result"
    }
   ],
   "source": [
    "F_geo = overlap_model.F_geo_pm(40)\n",
    "F_geo"
   ]
  },
  {
   "cell_type": "code",
   "execution_count": 9,
   "metadata": {},
   "outputs": [],
   "source": [
    "freq = np.linspace(0.001, 100, 10000)\n",
    "F_geo = np.zeros_like(freq, dtype = np.complex128)\n",
    "F_wave = np.zeros_like(freq, dtype = np.complex128)\n",
    "\n",
    "for i in range(freq.shape[0]):\n",
    "    F_geo[i] = overlap_model.F_geo_pm(freq[i])[0]\n",
    "    F_wave[i] = overlap_model.F_pm(freq[i])"
   ]
  },
  {
   "cell_type": "code",
   "execution_count": 10,
   "metadata": {},
   "outputs": [
    {
     "data": {
      "text/plain": [
       "<matplotlib.legend.Legend at 0x7f810772d190>"
      ]
     },
     "execution_count": 10,
     "metadata": {},
     "output_type": "execute_result"
    },
    {
     "data": {
      "image/png": "[encoded data removed]",
      "text/plain": [
       "<Figure size 432x288 with 1 Axes>"
      ]
     },
     "metadata": {
      "needs_background": "light"
     },
     "output_type": "display_data"
    }
   ],
   "source": [
    "#plt.semilogx(freq, np.abs(F_geo), label = 'geo opt')\n",
    "plt.semilogx(freq, np.abs(F_wave), label = 'wave opt')\n",
    "plt.legend()"
   ]
  },
  {
   "cell_type": "markdown",
   "metadata": {},
   "source": [
    "The amplification factor in geometric optics is slightly shifted down along y axis because we are missing coefficient in front of the amplication factor, which is a square root of plus magnification. This is due to our change of variables from $(y, M_L) --> (I, t_d)$. This change of variable affects the strain in geometrical optics regime but keeps the overlap unchanged."
   ]
  },
  {
   "cell_type": "markdown",
   "metadata": {},
   "source": [
    "### Time delay behavior wrt $M_L$"
   ]
  },
  {
   "cell_type": "code",
   "execution_count": 50,
   "metadata": {},
   "outputs": [],
   "source": [
    "ml_range = np.linspace(0.05e1 * solar_mass, 2e4 * solar_mass, 50)\n",
    "td = np.zeros_like(ml_range)\n",
    "\n",
    "for i in range(ml_range.shape[0]):\n",
    "    td[i] = time_del(ml_range[i], y = 0.4, lens = 'pm')"
   ]
  },
  {
   "cell_type": "code",
   "execution_count": 51,
   "metadata": {},
   "outputs": [
    {
     "data": {
      "image/png": "[encoded data removed]",
      "text/plain": [
       "<Figure size 432x288 with 1 Axes>"
      ]
     },
     "metadata": {
      "needs_background": "light"
     },
     "output_type": "display_data"
    }
   ],
   "source": [
    "plt.loglog(td, ml_range * 2e5)\n",
    "plt.axvline(x=0.05, color='r', linestyle='--')\n",
    "plt.xlabel('td')\n",
    "plt.ylabel('$m_L$')\n",
    "plt.show()"
   ]
  },
  {
   "cell_type": "code",
   "execution_count": 13,
   "metadata": {},
   "outputs": [
    {
     "data": {
      "text/plain": [
       "array([1.99083405e-03, 4.06294612e+02])"
      ]
     },
     "execution_count": 13,
     "metadata": {},
     "output_type": "execute_result"
    }
   ],
   "source": [
    "td[:2]"
   ]
  },
  {
   "cell_type": "code",
   "execution_count": 70,
   "metadata": {},
   "outputs": [],
   "source": [
    "# Custom array generator for uneven spaced lens mass. This is required in order to get more data points at the critical point. \n",
    "# (https://stackoverflow.com/questions/32504766/python-generate-unevenly-spaced-array)\n",
    "\n",
    "def my_lin(lb, ub, steps, spacing = 2.5):\n",
    "    span = (ub-lb)\n",
    "    dx = 1.0 / (steps-1)\n",
    "    return [lb + (i * dx) ** spacing * span for i in range(steps)]\n",
    "\n",
    "lin = my_lin(0.005e1 * solar_mass, 2e4 * solar_mass, 50)"
   ]
  },
  {
   "cell_type": "code",
   "execution_count": 71,
   "metadata": {},
   "outputs": [
    {
     "data": {
      "image/png": "[encoded data removed]",
      "text/plain": [
       "<Figure size 432x288 with 1 Axes>"
      ]
     },
     "metadata": {
      "needs_background": "light"
     },
     "output_type": "display_data"
    }
   ],
   "source": [
    "#ml_range = np.linspace(0.05e1 * solar_mass, 2e4 * solar_mass, 50)\n",
    "ml_range = lin\n",
    "td = np.zeros_like(ml_range)\n",
    "y_range = np.linspace(0.4, 0.8, 2)\n",
    "overlap_lens_sig = np.zeros_like(ml_range)\n",
    "\n",
    "#plt.figure(figsize = (10, 7))\n",
    "for i in range(len(y_range)):\n",
    "    params_temp = initial_params_template\n",
    "    params_source = initial_params_source\n",
    "    params_temp['y_temp'] = y_range[i]\n",
    "    params_source['y_source'] = y_range[i]\n",
    "    \n",
    "    for i in range(len(ml_range)):\n",
    "        params_temp['M_lz_temp'] = ml_range[i]\n",
    "        params_source['M_lz_source'] = ml_range[i]\n",
    "        model = overlap_lens_prop(params_source, params_temp)\n",
    "        overlap_lens_sig[i] = model.overlap()\n",
    "        td[i] = time_del(params_temp['M_lz_temp'], params_temp['y_temp'], lens = 'pm')\n",
    "    plt.semilogx(td, overlap_lens_sig, label = f\"y = {params_temp['y_temp']}, I = {mag(params_temp['M_lz_temp'], params_temp['y_temp'], lens = 'pm')[1] / mag(params_temp['M_lz_temp'], params_temp['y_temp'], lens = 'pm')[0]:.2f}\", marker = 'x')\n",
    "    plt.ylabel('$\\mathcal{O}(h^L_{geo}, h^L_{wave})$')\n",
    "    plt.xlabel('$\\Delta t_d$')\n",
    "    plt.legend(loc = 7)\n",
    "\n",
    "    plt.axhline(y = 0.830, linestyle = '--')\n",
    "    plt.axhline(y = 0.909, linestyle = 'dotted')\n",
    "    plt.axvline(x = 0.05)\n",
    "    #plt.axvline(x = 0.01)\n",
    "    plt.text(0.05,0.85,'$f_{low}^{-1}$', fontsize = 10)\n",
    "    #plt.text(0.01,0.85,'$f_{cut}^{-1}$', fontsize = 10)"
   ]
  },
  {
   "cell_type": "markdown",
   "metadata": {},
   "source": [
    "Our goal is to calculate the $\\mathcal{O}(h^{UL}, h^L)$ or $\\epsilon$ for that matter, between unlensed and lensed signal. In order to do that we need to differentiate the wave optice and the geometrical optics regime properly. In the wave optics regime, we have to use the full amplification factor given in Takahashi/Nakamura whereas in the geometrical optics regime, we can use the summed amplification factor where it is valid only in the regime where $f \\gg \\Delta t_d^{-1}$. \n",
    "\n",
    "The amplification factor in geometrical optics, in terms of our parameters $(I, \\Delta t_d)$ is given by $F(f) = |\\mu_+|^{1/2} (1 - i I^{1/2} e^{2 \\pi i f \\Delta t_d})$. We know that for our aLIGO noise curve the floor of the frequency is at $20Hz$ and the $f_{cut}$ is given by the total mass. For our value of chirp mass $\\mathcal{M} = 18.79 M_\\odot$ and symmmetric mass ratio $\\eta = 0.25$, the $f_{cut} ~ 100 Hz$. So, $f_{low} < f < f_{cut}$ or $f_{low}^{-1} > f > f_{cut}^{-1}$. \n",
    "\n",
    "Now in order to geometrical optics remain valid, $\\Delta t_d >> f^{-1}$ and for our aLIGO noise curve, we can say that the lower limit on the time delay should be given by $\\Delta t_d >> f_{low}^{-1}$. Now this means that from our figure above, the geometrical optics should be a good approximation (compared to wave optics) in the region right of the line at $f_{low}^{-1} = 0.05s$ because the $\\mathcal{O}(h^L_{geo}, h^L_{wave}) \\approx 1$. \n",
    "\n",
    "Since $\\Delta t_d = \\Delta t_d(M_L, y)$, the time delay depends on both the lens mass $M_L$ and the source position $y$ or the flux ratio $I = I(y)$. So we have to choose $M_L$ (and $y$) such that the $\\Delta t_d \\gg f_{low}^{-1}$. But if we want to see that transition from wave optics to geometrical optics, then we can choose $M_L$ (keeping $y$ constant) over a range where we can use wave optics as well as geometrical optics. Typically this means that we have to go at much smaller $M_L$, of the order $10^{-2} M_\\odot$. "
   ]
  },
  {
   "cell_type": "code",
   "execution_count": 37,
   "metadata": {},
   "outputs": [
    {
     "data": {
      "image/png": "[encoded data removed]",
      "text/plain": [
       "<Figure size 432x288 with 1 Axes>"
      ]
     },
     "metadata": {
      "needs_background": "light"
     },
     "output_type": "display_data"
    }
   ],
   "source": [
    "ml_range = np.linspace(0.05e1 * solar_mass, 2e4 * solar_mass, 50)\n",
    "#ml_range = lin\n",
    "td = np.zeros_like(ml_range)\n",
    "y_range = np.linspace(0.8, 0.9, 1)\n",
    "overlap_lens_sig = np.zeros_like(ml_range)\n",
    "\n",
    "#plt.figure(figsize = (10, 7))\n",
    "for i in range(len(y_range)):\n",
    "    params_temp = initial_params_template\n",
    "    params_source = initial_params_source\n",
    "    params_temp['y_temp'] = y_range[i]\n",
    "    params_source['y_source'] = y_range[i]\n",
    "    \n",
    "    for i in range(len(ml_range)):\n",
    "        params_temp['M_lz_temp'] = ml_range[i]\n",
    "        params_source['M_lz_source'] = ml_range[i]\n",
    "        model = overlap_lens_prop(params_source, params_temp)\n",
    "        overlap_lens_sig[i] = model.overlap()\n",
    "        td[i] = time_del(params_temp['M_lz_temp'], params_temp['y_temp'], lens = 'pm')\n",
    "    plt.loglog(td, 1 - overlap_lens_sig, label = f\"y = {params_temp['y_temp']}, I = {mag(params_temp['M_lz_temp'], params_temp['y_temp'], lens = 'pm')[1] / mag(params_temp['M_lz_temp'], params_temp['y_temp'], lens = 'pm')[0]:.2f}\")\n",
    "    plt.ylabel('$\\mathcal{O}(h^L_{geo}, h^L_{wave})$')\n",
    "    plt.xlabel('$\\Delta t_d$')\n",
    "    plt.legend(loc = 'lower left')\n",
    "    plt.axvline(x = 0.05)\n",
    "    plt.text(0.05,1e-6,'$f_{low}^{-1}$', fontsize = 10)"
   ]
  },
  {
   "cell_type": "code",
   "execution_count": 16,
   "metadata": {},
   "outputs": [
    {
     "data": {
      "text/plain": [
       "0.8304547985373997"
      ]
     },
     "execution_count": 16,
     "metadata": {},
     "output_type": "execute_result"
    }
   ],
   "source": [
    "I = 0.45\n",
    "1 / np.sqrt(1 + I)"
   ]
  },
  {
   "cell_type": "code",
   "execution_count": 49,
   "metadata": {},
   "outputs": [
    {
     "name": "stderr",
     "output_type": "stream",
     "text": [
      "/Users/saifali/opt/anaconda3/lib/python3.7/site-packages/scipy/integrate/quadpack.py:448: ComplexWarning: Casting complex values to real discards the imaginary part\n",
      "  return _quadpack._qagse(func,a,b,args,full_output,epsabs,epsrel,limit)\n"
     ]
    },
    {
     "data": {
      "image/png": "[encoded data removed]",
      "text/plain": [
       "<Figure size 432x288 with 1 Axes>"
      ]
     },
     "metadata": {
      "needs_background": "light"
     },
     "output_type": "display_data"
    }
   ],
   "source": [
    "ml_range = np.linspace(1e1 * solar_mass, 2e3 * solar_mass, 50)\n",
    "td = np.zeros_like(ml_range)\n",
    "mcz_range = np.linspace(17.79 * solar_mass, 28.79 * solar_mass, 3)\n",
    "overlap_lens_sig = np.zeros_like(ml_range)\n",
    "\n",
    "#plt.figure(figsize = (10, 7))\n",
    "for i in range(len(mcz_range)):\n",
    "    params_temp = initial_params_template\n",
    "    params_source = initial_params_source\n",
    "    params_temp['mcz_temp'] = mcz_range[i]\n",
    "    params_source['mcz_source'] = mcz_range[i]\n",
    "    \n",
    "    for i in range(len(ml_range)):\n",
    "        params_temp['M_lz_temp'] = ml_range[i]\n",
    "        params_source['M_lz_source'] = ml_range[i]\n",
    "        model = overlap_lens_prop(params_source, params_temp)\n",
    "        overlap_lens_sig[i] = model.overlap()\n",
    "        td[i] = time_del(params_temp['M_lz_temp'], params_temp['y_temp'], lens = 'pm')\n",
    "    plt.loglog(td, overlap_lens_sig, label = f\"{params_temp['mcz_temp'] * 2e5:.2f} solar_mass\")\n",
    "    plt.ylabel('$\\mathcal{O}(h^L_{geo}, h^L_{wave})$')\n",
    "    plt.xlabel('$\\Delta t_d$')\n",
    "    plt.axvline(x = 0.05)\n",
    "    plt.axvline(x = 0.01)\n",
    "    plt.legend(loc = 5)"
   ]
  },
  {
   "cell_type": "code",
   "execution_count": null,
   "metadata": {},
   "outputs": [],
   "source": []
  }
 ],
 "metadata": {
  "kernelspec": {
   "display_name": "Python 3",
   "language": "python",
   "name": "python3"
  },
  "language_info": {
   "codemirror_mode": {
    "name": "ipython",
    "version": 3
   },
   "file_extension": ".py",
   "mimetype": "text/x-python",
   "name": "python",
   "nbconvert_exporter": "python",
   "pygments_lexer": "ipython3",
   "version": "3.7.4"
  }
 },
 "nbformat": 4,
 "nbformat_minor": 4
}
