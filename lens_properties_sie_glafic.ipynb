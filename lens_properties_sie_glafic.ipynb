{
 "cells": [
  {
   "cell_type": "markdown",
   "metadata": {},
   "source": [
    "# SIE LENS \n",
    "Analysing the images' properties in the case of SIE lens using GLAFIC.\n",
    "\n",
    "~ Saif 01/03/22"
   ]
  },
  {
   "cell_type": "code",
   "execution_count": 1,
   "metadata": {},
   "outputs": [
    {
     "name": "stderr",
     "output_type": "stream",
     "text": [
      "/Users/saifali/opt/anaconda3/lib/python3.7/site-packages/statsmodels/tools/_testing.py:19: FutureWarning: pandas.util.testing is deprecated. Use the functions in the public API at pandas.testing instead.\n",
      "  import pandas.util.testing as tm\n"
     ]
    }
   ],
   "source": [
    "import numpy as np\n",
    "import pandas as pd\n",
    "import matplotlib.pyplot as plt\n",
    "import seaborn as sns\n",
    "%matplotlib inline\n",
    "from gw_lens_dir.overlap_lensing_sie_twoimages import overlap_sie\n",
    "from gw_lens_dir.L_unlensed import Lunlensed\n",
    "pd.set_option('display.float_format', lambda x: '%.3e' % x)\n",
    "\n",
    "#from pycbc.filter import match\n"
   ]
  },
  {
   "cell_type": "code",
   "execution_count": 2,
   "metadata": {
    "jupyter": {
     "source_hidden": true
    }
   },
   "outputs": [],
   "source": [
    "# CHECKING PURPOSE\n",
    "\n",
    "solar_mass = 4.92624076 * 10**-6 #[solar_mass] = sec\n",
    "giga_parsec = 1.02927125 * 10**17 #[giga_parsec] = sec\n",
    "year = 31557600 #[year] = sec\n",
    "\n",
    "def my_lin(lb, ub, steps, spacing = 3):\n",
    "    span = (ub-lb)\n",
    "    dx = 1.0 / (steps-1)\n",
    "    return np.array([lb + (i * dx) ** spacing * span for i in range(steps)])\n",
    "\n",
    "radius_range = np.linspace(0.29e-4, 1.98e-4, 10)\n",
    "\n",
    "initial_params_source = {\n",
    "    'theta_s_source' : 0.0, \n",
    "    'phi_s_source' : 0.0, \n",
    "    'theta_l_source' : 0.0, \n",
    "    'phi_l_source' : 0.0, \n",
    "    'mcz_source' : 18.79 * solar_mass, \n",
    "    'dist_source': 1.58 * giga_parsec, \n",
    "    'eta_source' : 0.25, \n",
    "    't0' : 0.0, \n",
    "    'phi_0' : 0.0,\n",
    "    'radius': radius_range[9]\n",
    "}\n",
    "\n",
    "initial_params_template = {\n",
    "    'theta_s_temp' : 0.0, \n",
    "    'phi_s_temp' : 0.0, \n",
    "    'theta_l_temp' : 0.0, \n",
    "    'phi_l_temp' : 0.0, \n",
    "    'mcz_temp' : 18.79 * solar_mass, \n",
    "    'dist_temp': 1.58 * giga_parsec, \n",
    "    'eta_temp' : 0.25, \n",
    "    #'tc' : 0.0, \n",
    "    #'phi_c' : 0.0,\n",
    "}\n",
    "\n",
    "# overlap_sie_init = overlap_sie(initial_params_source, initial_params_template)\n",
    "#print(overlap_sie_init.limit(initial_params_source, initial_params_template))\n",
    "# F = overlap_sie_init.F_source_sie(20)\n",
    "# F"
   ]
  },
  {
   "cell_type": "code",
   "execution_count": 5,
   "metadata": {
    "collapsed": true,
    "jupyter": {
     "outputs_hidden": true,
     "source_hidden": true
    }
   },
   "outputs": [
    {
     "data": {
      "text/plain": [
       "(-0.004746203855166895, 127.57934396307618)"
      ]
     },
     "execution_count": 5,
     "metadata": {},
     "output_type": "execute_result"
    }
   ],
   "source": [
    "solar_mass = 4.92624076 * 10**-6 #[solar_mass] = sec\n",
    "giga_parsec = 1.02927125 * 10**17 #[giga_parsec] = sec\n",
    "year = 31557600 #[year] = sec\n",
    "\n",
    "initial_params = {\n",
    "    'theta_s' : 0.0, \n",
    "    'phi_s' : 0.0, \n",
    "    'theta_l' : 0.0, \n",
    "    'phi_l' : 0.0, \n",
    "    'mcz' : 15 * solar_mass, \n",
    "    'dist': 1.5 * giga_parsec, \n",
    "    'eta' : 0.25, \n",
    "    'tc' : 0.0, \n",
    "    'phi_c' : 0.0,\n",
    "}\n",
    "\n",
    "unlensed_init = Lunlensed(initial_params)\n",
    "t_f_min = unlensed_init.get_tc()\n",
    "t_f_min"
   ]
  },
  {
   "cell_type": "code",
   "execution_count": 4,
   "metadata": {
    "collapsed": true,
    "jupyter": {
     "outputs_hidden": true,
     "source_hidden": true
    }
   },
   "outputs": [
    {
     "data": {
      "text/plain": [
       "2.335561661036544"
      ]
     },
     "execution_count": 4,
     "metadata": {},
     "output_type": "execute_result"
    }
   ],
   "source": [
    "t_f_cut = 0.004746203855166895\n",
    "t_f_min = 2.340307864891711\n",
    "t_f_min - t_f_cut"
   ]
  },
  {
   "cell_type": "code",
   "execution_count": null,
   "metadata": {
    "jupyter": {
     "source_hidden": true
    }
   },
   "outputs": [],
   "source": [
    "f = np.linspace(20, 102, 300)\n",
    "amp = np.zeros_like(f, dtype = np.complex128)\n",
    "integrand_1 = np.zeros_like(f, dtype = np.complex128)\n",
    "integrand_2 = np.zeros_like(f, dtype = np.complex128)\n",
    "integrand_3 = np.zeros_like(f, dtype = np.complex128)\n",
    "signal_source = np.zeros_like(f, dtype = np.complex128)\n",
    "signal_template = np.zeros_like(f, dtype = np.complex128)\n",
    "\n",
    "for i in range(len(f)):\n",
    "    #amp[i] = overlap_sie_init.F_source_sie(f[i])\n",
    "    integrand_1[i] = overlap_sie_init.integrand_1(f[i], 0., 0.)\n",
    "    integrand_2[i] = overlap_sie_init.integrand_2(f[i], 0., 0.)\n",
    "    integrand_3[i] = overlap_sie_init.integrand_3(f[i], 0., 0.)\n",
    "    signal_source[i] = overlap_sie_init.signal_source(f[i], 0., 0.)\n",
    "    signal_template[i] = overlap_sie_init.signal_temp(f[i], 0., 0.)\n",
    "    \n",
    "plt.figure(figsize = (10, 8))\n",
    "#plt.loglog(f, np.abs(amp))\n",
    "ax1 = plt.subplot(211)\n",
    "ax1.plot(f, np.abs(integrand_1), label = 'int 1')\n",
    "ax1.plot(f, np.abs(integrand_2), label = 'int 2')\n",
    "ax1.plot(f, np.abs(integrand_3), label = 'int 3')\n",
    "ax1.legend()\n",
    "\n",
    "ax2 = plt.subplot(212)\n",
    "ax2.plot(f, np.abs(signal_source), label = 'lensed')\n",
    "ax2.plot(f, np.abs(signal_template), label = 'unlensed')\n",
    "ax2.legend()"
   ]
  },
  {
   "cell_type": "code",
   "execution_count": null,
   "metadata": {
    "jupyter": {
     "source_hidden": true
    }
   },
   "outputs": [],
   "source": [
    "overlap_sie_init = overlap_sie(initial_params_source, initial_params_template)\n",
    "overlap = overlap_sie_init.overlap(x = (0., 0.))\n",
    "overlap"
   ]
  },
  {
   "cell_type": "code",
   "execution_count": 2,
   "metadata": {},
   "outputs": [],
   "source": [
    "datadirName = \"/Users/saifali/Desktop/gwlensing/SIE_glafic/data/\"\n",
    "plotdirName = \"/Users/saifali/Desktop/gwlensing/plots/\""
   ]
  },
  {
   "cell_type": "code",
   "execution_count": 3,
   "metadata": {},
   "outputs": [
    {
     "name": "stdout",
     "output_type": "stream",
     "text": [
      "0.000223751\n",
      "18069.242857142857\n"
     ]
    }
   ],
   "source": [
    "# FOR SIGMA = 4 km/s\n",
    "\n",
    "#einstein_rad = 0.0001767909\n",
    "#mass_inside_einstein_rad = 11280.541428571429 sol_mass\n",
    "data_einstein = '/Users/saifali/Desktop/gwlensing/SIE_glafic/out_ein2.dat'\n",
    "output_einstein = np.loadtxt(data_einstein)\n",
    "einstein_radius = output_einstein[-2]\n",
    "print(einstein_radius)\n",
    "\n",
    "# [MASS INSIDE EINSTEIN] = SOLAR MASS / h\n",
    "\n",
    "mass_inside_einstein = output_einstein[-1]\n",
    "print(mass_inside_einstein / 0.7)\n",
    "\n",
    "theta = np.array([0, 30, 45, 60, 90])\n",
    "fileName = [\"radial_distance_caustics_0.csv\",\n",
    "            \"radial_distance_caustics_30.csv\",\n",
    "           \"radial_distance_caustics_45.csv\",\n",
    "            \"radial_distance_caustics_60.csv\",\n",
    "           \"radial_distance_caustics_90.csv\"]\n",
    "\n",
    "caustic_in = []\n",
    "caustic_out = []\n",
    "\n",
    "for i in range(len(fileName)):\n",
    "    df_radial_distance = pd.read_csv(datadirName + fileName[i])\n",
    "    df_get_radius_caustic_in = df_radial_distance.loc[df_radial_distance['images_num'] > 2.0]\n",
    "    caustic_in.append(df_get_radius_caustic_in.iloc[-1]['radius'])\n",
    "    df_get_radius_caustic_out = df_radial_distance.loc[df_radial_distance['images_num'] > 1.0]\n",
    "    caustic_out.append(df_get_radius_caustic_out.iloc[-1]['radius'])"
   ]
  },
  {
   "cell_type": "code",
   "execution_count": 5,
   "metadata": {},
   "outputs": [
    {
     "data": {
      "text/html": [
       "<div>\n",
       "<style scoped>\n",
       "    .dataframe tbody tr th:only-of-type {\n",
       "        vertical-align: middle;\n",
       "    }\n",
       "\n",
       "    .dataframe tbody tr th {\n",
       "        vertical-align: top;\n",
       "    }\n",
       "\n",
       "    .dataframe thead th {\n",
       "        text-align: right;\n",
       "    }\n",
       "</style>\n",
       "<table border=\"1\" class=\"dataframe\">\n",
       "  <thead>\n",
       "    <tr style=\"text-align: right;\">\n",
       "      <th></th>\n",
       "      <th>0</th>\n",
       "      <th>30</th>\n",
       "      <th>45</th>\n",
       "      <th>60</th>\n",
       "      <th>90</th>\n",
       "    </tr>\n",
       "  </thead>\n",
       "  <tbody>\n",
       "    <tr>\n",
       "      <th>r_caustic_in</th>\n",
       "      <td>2.653e-05</td>\n",
       "      <td>1.404e-05</td>\n",
       "      <td>1.407e-05</td>\n",
       "      <td>1.548e-05</td>\n",
       "      <td>3.095e-05</td>\n",
       "    </tr>\n",
       "    <tr>\n",
       "      <th>r_caustic_out</th>\n",
       "      <td>2.023e-04</td>\n",
       "      <td>1.940e-04</td>\n",
       "      <td>1.907e-04</td>\n",
       "      <td>1.879e-04</td>\n",
       "      <td>1.868e-04</td>\n",
       "    </tr>\n",
       "  </tbody>\n",
       "</table>\n",
       "</div>"
      ],
      "text/plain": [
       "                      0        30        45        60        90\n",
       "r_caustic_in  2.653e-05 1.404e-05 1.407e-05 1.548e-05 3.095e-05\n",
       "r_caustic_out 2.023e-04 1.940e-04 1.907e-04 1.879e-04 1.868e-04"
      ]
     },
     "execution_count": 5,
     "metadata": {},
     "output_type": "execute_result"
    }
   ],
   "source": [
    "df_caustic_radii = pd.DataFrame(columns=('0', '30', '45', '60', '90'), index=('r_caustic_in', 'r_caustic_out'))\n",
    "df_caustic_radii.loc['r_caustic_in'] = caustic_in \n",
    "df_caustic_radii.loc['r_caustic_out'] = caustic_out  \n",
    "df_caustic_radii"
   ]
  },
  {
   "cell_type": "code",
   "execution_count": 6,
   "metadata": {},
   "outputs": [
    {
     "data": {
      "text/plain": [
       "<matplotlib.legend.Legend at 0x7fd25612c810>"
      ]
     },
     "execution_count": 6,
     "metadata": {},
     "output_type": "execute_result"
    },
    {
     "data": {
      "image/png": "[encoded data removed]",
      "text/plain": [
       "<Figure size 432x288 with 1 Axes>"
      ]
     },
     "metadata": {
      "needs_background": "light"
     },
     "output_type": "display_data"
    }
   ],
   "source": [
    "plt.plot(theta, caustic_out / einstein_radius, label = 'r_caustic_out')\n",
    "plt.plot(theta, caustic_in / einstein_radius, label = 'r_caustic_in')\n",
    "plt.xlabel(r'$\\theta$')\n",
    "plt.ylabel(r'$r_{caustic}$')\n",
    "plt.legend()\n",
    "#plt.ylim(0, 1.3)\n",
    "#plt.text(30, 1.2, 'ONE IMGAGE REGIME', color = 'red')\n",
    "#plt.text(30, 0.6, 'TWO IMGAGES REGIME', color = 'blue')\n",
    "#plt.text(30, 0.02, 'FOUR IMGAES REGIME', color = 'green')\n",
    "#plt.savefig(plotdirName + \"casutic_radius.eps\")"
   ]
  },
  {
   "cell_type": "markdown",
   "metadata": {},
   "source": [
    "************************************************************************************************************************"
   ]
  },
  {
   "cell_type": "markdown",
   "metadata": {},
   "source": [
    "************************************************************************************************************************"
   ]
  },
  {
   "cell_type": "code",
   "execution_count": 7,
   "metadata": {},
   "outputs": [],
   "source": [
    "def dataframe_sorted_two_images(dataframe):\n",
    "    \n",
    "    df_unsorted = dataframe\n",
    "    \n",
    "    old_td_ind = [[0, 1] for i in range(df_unsorted.shape[0])]\n",
    "    new_td_ind = [[0, 0] for i in range(df_unsorted.shape[0])]\n",
    "\n",
    "    sorted_arr = np.zeros(df_unsorted.shape)\n",
    "    \n",
    "    for i_row in range(df_unsorted.shape[0]):\n",
    "        \n",
    "        #df_sorted = pd.DataFrame(columns=('source_y', 'mu_1', 'mu_2', 'td_1', 'td_2'))\n",
    "        old_td_arr = np.array(df_unsorted.loc[i_row][-2:])\n",
    "        #print(old_td_arr)\n",
    "        new_td_arr = np.sort(old_td_arr)\n",
    "        #print(new_td_arr)\n",
    "        \n",
    "        new_td_ind[i_row][0] = np.where(new_td_arr[0] == old_td_arr)[0][0]\n",
    "        new_td_ind[i_row][1] = np.where(new_td_arr[1] == old_td_arr)[0][0]\n",
    "        \n",
    "        old_mu_arr = np.array(df_unsorted.loc[i_row][1:3])\n",
    "        #print(old_mu_arr)\n",
    "        new_mu_arr = np.array([old_mu_arr[new_td_ind[i_row][0]], old_mu_arr[new_td_ind[i_row][1]]])\n",
    "        #print(new_mu_arr)\n",
    "        \n",
    "        sorted_arr[i_row][0] = df_unsorted.loc[i_row][0]\n",
    "        sorted_arr[i_row][1] = new_mu_arr[0]\n",
    "        sorted_arr[i_row][2] = new_mu_arr[1]\n",
    "        sorted_arr[i_row][3] = new_td_arr[0]\n",
    "        sorted_arr[i_row][4] = new_td_arr[1]\n",
    "        \n",
    "    df_sorted = pd.DataFrame(sorted_arr, columns = ['source_y', 'mu_1', 'mu_2', 'td_1', 'td_2'])\n",
    "    \n",
    "    return df_sorted"
   ]
  },
  {
   "cell_type": "markdown",
   "metadata": {},
   "source": [
    "## TWO IMAGES CASE"
   ]
  },
  {
   "cell_type": "code",
   "execution_count": 4,
   "metadata": {},
   "outputs": [
    {
     "data": {
      "text/html": [
       "<div>\n",
       "<style scoped>\n",
       "    .dataframe tbody tr th:only-of-type {\n",
       "        vertical-align: middle;\n",
       "    }\n",
       "\n",
       "    .dataframe tbody tr th {\n",
       "        vertical-align: top;\n",
       "    }\n",
       "\n",
       "    .dataframe thead th {\n",
       "        text-align: right;\n",
       "    }\n",
       "</style>\n",
       "<table border=\"1\" class=\"dataframe\">\n",
       "  <thead>\n",
       "    <tr style=\"text-align: right;\">\n",
       "      <th></th>\n",
       "      <th>source_x</th>\n",
       "      <th>mu_1</th>\n",
       "      <th>mu_2</th>\n",
       "      <th>td_1</th>\n",
       "      <th>td_2</th>\n",
       "      <th>I</th>\n",
       "    </tr>\n",
       "  </thead>\n",
       "  <tbody>\n",
       "    <tr>\n",
       "      <th>0</th>\n",
       "      <td>2.900e-05</td>\n",
       "      <td>4.132e+00</td>\n",
       "      <td>-1.128e+02</td>\n",
       "      <td>0.000e+00</td>\n",
       "      <td>1.264e-01</td>\n",
       "      <td>2.729e+01</td>\n",
       "    </tr>\n",
       "    <tr>\n",
       "      <th>1</th>\n",
       "      <td>4.778e-05</td>\n",
       "      <td>3.350e+00</td>\n",
       "      <td>-7.695e+00</td>\n",
       "      <td>0.000e+00</td>\n",
       "      <td>2.082e-01</td>\n",
       "      <td>2.297e+00</td>\n",
       "    </tr>\n",
       "    <tr>\n",
       "      <th>2</th>\n",
       "      <td>6.656e-05</td>\n",
       "      <td>2.881e+00</td>\n",
       "      <td>-3.520e+00</td>\n",
       "      <td>0.000e+00</td>\n",
       "      <td>2.900e-01</td>\n",
       "      <td>1.222e+00</td>\n",
       "    </tr>\n",
       "    <tr>\n",
       "      <th>3</th>\n",
       "      <td>8.533e-05</td>\n",
       "      <td>2.568e+00</td>\n",
       "      <td>-2.054e+00</td>\n",
       "      <td>0.000e+00</td>\n",
       "      <td>3.718e-01</td>\n",
       "      <td>8.000e-01</td>\n",
       "    </tr>\n",
       "    <tr>\n",
       "      <th>4</th>\n",
       "      <td>1.041e-04</td>\n",
       "      <td>2.344e+00</td>\n",
       "      <td>-1.306e+00</td>\n",
       "      <td>0.000e+00</td>\n",
       "      <td>4.536e-01</td>\n",
       "      <td>5.572e-01</td>\n",
       "    </tr>\n",
       "    <tr>\n",
       "      <th>5</th>\n",
       "      <td>1.229e-04</td>\n",
       "      <td>2.176e+00</td>\n",
       "      <td>-8.523e-01</td>\n",
       "      <td>0.000e+00</td>\n",
       "      <td>5.354e-01</td>\n",
       "      <td>3.917e-01</td>\n",
       "    </tr>\n",
       "    <tr>\n",
       "      <th>6</th>\n",
       "      <td>1.417e-04</td>\n",
       "      <td>2.045e+00</td>\n",
       "      <td>-5.478e-01</td>\n",
       "      <td>0.000e+00</td>\n",
       "      <td>6.172e-01</td>\n",
       "      <td>2.678e-01</td>\n",
       "    </tr>\n",
       "    <tr>\n",
       "      <th>7</th>\n",
       "      <td>1.604e-04</td>\n",
       "      <td>1.941e+00</td>\n",
       "      <td>-3.293e-01</td>\n",
       "      <td>0.000e+00</td>\n",
       "      <td>6.991e-01</td>\n",
       "      <td>1.696e-01</td>\n",
       "    </tr>\n",
       "    <tr>\n",
       "      <th>8</th>\n",
       "      <td>1.792e-04</td>\n",
       "      <td>1.855e+00</td>\n",
       "      <td>-1.648e-01</td>\n",
       "      <td>0.000e+00</td>\n",
       "      <td>7.809e-01</td>\n",
       "      <td>8.883e-02</td>\n",
       "    </tr>\n",
       "    <tr>\n",
       "      <th>9</th>\n",
       "      <td>1.980e-04</td>\n",
       "      <td>1.784e+00</td>\n",
       "      <td>-3.657e-02</td>\n",
       "      <td>0.000e+00</td>\n",
       "      <td>8.627e-01</td>\n",
       "      <td>2.050e-02</td>\n",
       "    </tr>\n",
       "  </tbody>\n",
       "</table>\n",
       "</div>"
      ],
      "text/plain": [
       "   source_x      mu_1       mu_2      td_1      td_2         I\n",
       "0 2.900e-05 4.132e+00 -1.128e+02 0.000e+00 1.264e-01 2.729e+01\n",
       "1 4.778e-05 3.350e+00 -7.695e+00 0.000e+00 2.082e-01 2.297e+00\n",
       "2 6.656e-05 2.881e+00 -3.520e+00 0.000e+00 2.900e-01 1.222e+00\n",
       "3 8.533e-05 2.568e+00 -2.054e+00 0.000e+00 3.718e-01 8.000e-01\n",
       "4 1.041e-04 2.344e+00 -1.306e+00 0.000e+00 4.536e-01 5.572e-01\n",
       "5 1.229e-04 2.176e+00 -8.523e-01 0.000e+00 5.354e-01 3.917e-01\n",
       "6 1.417e-04 2.045e+00 -5.478e-01 0.000e+00 6.172e-01 2.678e-01\n",
       "7 1.604e-04 1.941e+00 -3.293e-01 0.000e+00 6.991e-01 1.696e-01\n",
       "8 1.792e-04 1.855e+00 -1.648e-01 0.000e+00 7.809e-01 8.883e-02\n",
       "9 1.980e-04 1.784e+00 -3.657e-02 0.000e+00 8.627e-01 2.050e-02"
      ]
     },
     "execution_count": 4,
     "metadata": {},
     "output_type": "execute_result"
    }
   ],
   "source": [
    "df_theta_0 = pd.read_csv(datadirName + \"flux_twoimages_theta_0.csv\")\n",
    "df_theta_0['source_x'] = df_theta_0['source_x'] \n",
    "df_theta_0['td_2'] = df_theta_0['td_2'] * 86400 \n",
    "df_theta_0['I'] = np.abs(df_theta_0['mu_2']) / np.abs(df_theta_0['mu_1'])\n",
    "df_theta_0.to_csv(datadirName + \"flux_twoimages_theta_0_sorted.csv\", index = False)\n",
    "#df_theta_0['low ft_d lim'] = df_theta_0['td_2'] * 20\n",
    "df_theta_0"
   ]
  },
  {
   "cell_type": "code",
   "execution_count": 17,
   "metadata": {},
   "outputs": [
    {
     "data": {
      "text/html": [
       "<div>\n",
       "<style scoped>\n",
       "    .dataframe tbody tr th:only-of-type {\n",
       "        vertical-align: middle;\n",
       "    }\n",
       "\n",
       "    .dataframe tbody tr th {\n",
       "        vertical-align: top;\n",
       "    }\n",
       "\n",
       "    .dataframe thead th {\n",
       "        text-align: right;\n",
       "    }\n",
       "</style>\n",
       "<table border=\"1\" class=\"dataframe\">\n",
       "  <thead>\n",
       "    <tr style=\"text-align: right;\">\n",
       "      <th></th>\n",
       "      <th>source_y</th>\n",
       "      <th>mu_1</th>\n",
       "      <th>mu_2</th>\n",
       "      <th>td_1</th>\n",
       "      <th>td_2</th>\n",
       "      <th>I</th>\n",
       "    </tr>\n",
       "  </thead>\n",
       "  <tbody>\n",
       "    <tr>\n",
       "      <th>0</th>\n",
       "      <td>3.300e-05</td>\n",
       "      <td>1.374e+02</td>\n",
       "      <td>-2.433e+00</td>\n",
       "      <td>0.000e+00</td>\n",
       "      <td>1.335e-01</td>\n",
       "      <td>1.770e-02</td>\n",
       "    </tr>\n",
       "    <tr>\n",
       "      <th>1</th>\n",
       "      <td>4.989e-05</td>\n",
       "      <td>1.294e+01</td>\n",
       "      <td>-1.719e+00</td>\n",
       "      <td>0.000e+00</td>\n",
       "      <td>2.018e-01</td>\n",
       "      <td>1.329e-01</td>\n",
       "    </tr>\n",
       "    <tr>\n",
       "      <th>2</th>\n",
       "      <td>6.678e-05</td>\n",
       "      <td>7.243e+00</td>\n",
       "      <td>-1.251e+00</td>\n",
       "      <td>0.000e+00</td>\n",
       "      <td>2.701e-01</td>\n",
       "      <td>1.728e-01</td>\n",
       "    </tr>\n",
       "    <tr>\n",
       "      <th>3</th>\n",
       "      <td>8.367e-05</td>\n",
       "      <td>5.226e+00</td>\n",
       "      <td>-9.209e-01</td>\n",
       "      <td>0.000e+00</td>\n",
       "      <td>3.384e-01</td>\n",
       "      <td>1.762e-01</td>\n",
       "    </tr>\n",
       "    <tr>\n",
       "      <th>4</th>\n",
       "      <td>1.006e-04</td>\n",
       "      <td>4.195e+00</td>\n",
       "      <td>-6.750e-01</td>\n",
       "      <td>0.000e+00</td>\n",
       "      <td>4.067e-01</td>\n",
       "      <td>1.609e-01</td>\n",
       "    </tr>\n",
       "    <tr>\n",
       "      <th>5</th>\n",
       "      <td>1.174e-04</td>\n",
       "      <td>3.568e+00</td>\n",
       "      <td>-4.849e-01</td>\n",
       "      <td>0.000e+00</td>\n",
       "      <td>4.751e-01</td>\n",
       "      <td>1.359e-01</td>\n",
       "    </tr>\n",
       "    <tr>\n",
       "      <th>6</th>\n",
       "      <td>1.343e-04</td>\n",
       "      <td>3.146e+00</td>\n",
       "      <td>-3.336e-01</td>\n",
       "      <td>0.000e+00</td>\n",
       "      <td>5.434e-01</td>\n",
       "      <td>1.060e-01</td>\n",
       "    </tr>\n",
       "    <tr>\n",
       "      <th>7</th>\n",
       "      <td>1.512e-04</td>\n",
       "      <td>2.844e+00</td>\n",
       "      <td>-2.102e-01</td>\n",
       "      <td>0.000e+00</td>\n",
       "      <td>6.117e-01</td>\n",
       "      <td>7.392e-02</td>\n",
       "    </tr>\n",
       "    <tr>\n",
       "      <th>8</th>\n",
       "      <td>1.681e-04</td>\n",
       "      <td>2.616e+00</td>\n",
       "      <td>-1.078e-01</td>\n",
       "      <td>0.000e+00</td>\n",
       "      <td>6.800e-01</td>\n",
       "      <td>4.119e-02</td>\n",
       "    </tr>\n",
       "    <tr>\n",
       "      <th>9</th>\n",
       "      <td>1.850e-04</td>\n",
       "      <td>2.439e+00</td>\n",
       "      <td>-2.130e-02</td>\n",
       "      <td>0.000e+00</td>\n",
       "      <td>7.483e-01</td>\n",
       "      <td>8.734e-03</td>\n",
       "    </tr>\n",
       "  </tbody>\n",
       "</table>\n",
       "</div>"
      ],
      "text/plain": [
       "   source_y      mu_1       mu_2      td_1      td_2         I\n",
       "0 3.300e-05 1.374e+02 -2.433e+00 0.000e+00 1.335e-01 1.770e-02\n",
       "1 4.989e-05 1.294e+01 -1.719e+00 0.000e+00 2.018e-01 1.329e-01\n",
       "2 6.678e-05 7.243e+00 -1.251e+00 0.000e+00 2.701e-01 1.728e-01\n",
       "3 8.367e-05 5.226e+00 -9.209e-01 0.000e+00 3.384e-01 1.762e-01\n",
       "4 1.006e-04 4.195e+00 -6.750e-01 0.000e+00 4.067e-01 1.609e-01\n",
       "5 1.174e-04 3.568e+00 -4.849e-01 0.000e+00 4.751e-01 1.359e-01\n",
       "6 1.343e-04 3.146e+00 -3.336e-01 0.000e+00 5.434e-01 1.060e-01\n",
       "7 1.512e-04 2.844e+00 -2.102e-01 0.000e+00 6.117e-01 7.392e-02\n",
       "8 1.681e-04 2.616e+00 -1.078e-01 0.000e+00 6.800e-01 4.119e-02\n",
       "9 1.850e-04 2.439e+00 -2.130e-02 0.000e+00 7.483e-01 8.734e-03"
      ]
     },
     "execution_count": 17,
     "metadata": {},
     "output_type": "execute_result"
    }
   ],
   "source": [
    "df_theta_90 = pd.read_csv(datadirName + \"flux_twoimages_theta_90.csv\")\n",
    "df_theta_90 = dataframe_sorted_two_images(df_theta_90)\n",
    "df_theta_90['source_y'] = df_theta_90['source_y']\n",
    "df_theta_90['td_2'] = df_theta_90['td_2'] * 86400 \n",
    "df_theta_90['I'] = np.abs(df_theta_90['mu_2']) / np.abs(df_theta_90['mu_1'])\n",
    "df_theta_90.to_csv(datadirName + \"flux_twoimages_theta_90_sorted.csv\", index = False)\n",
    "df_theta_90"
   ]
  },
  {
   "cell_type": "code",
   "execution_count": 42,
   "metadata": {
    "collapsed": true,
    "jupyter": {
     "outputs_hidden": true,
     "source_hidden": true
    }
   },
   "outputs": [
    {
     "ename": "FileNotFoundError",
     "evalue": "[Errno 2] No such file or directory: '/Users/saifali/Desktop/gwlensing/SIE_glafic/data/flux_twoimages_theta_90_wo_flip.csv'",
     "output_type": "error",
     "traceback": [
      "\u001b[0;31m---------------------------------------------------------------------------\u001b[0m",
      "\u001b[0;31mFileNotFoundError\u001b[0m                         Traceback (most recent call last)",
      "\u001b[0;32m<ipython-input-42-e1f2987abca7>\u001b[0m in \u001b[0;36m<module>\u001b[0;34m\u001b[0m\n\u001b[0;32m----> 1\u001b[0;31m \u001b[0mdf_theta_90_wo_flip\u001b[0m \u001b[0;34m=\u001b[0m \u001b[0mpd\u001b[0m\u001b[0;34m.\u001b[0m\u001b[0mread_csv\u001b[0m\u001b[0;34m(\u001b[0m\u001b[0mdatadirName\u001b[0m \u001b[0;34m+\u001b[0m \u001b[0;34m\"flux_twoimages_theta_90_wo_flip.csv\"\u001b[0m\u001b[0;34m)\u001b[0m\u001b[0;34m\u001b[0m\u001b[0;34m\u001b[0m\u001b[0m\n\u001b[0m\u001b[1;32m      2\u001b[0m \u001b[0mdf_theta_90_wo_flip\u001b[0m\u001b[0;34m[\u001b[0m\u001b[0;34m'I'\u001b[0m\u001b[0;34m]\u001b[0m \u001b[0;34m=\u001b[0m \u001b[0mnp\u001b[0m\u001b[0;34m.\u001b[0m\u001b[0mabs\u001b[0m\u001b[0;34m(\u001b[0m\u001b[0mdf_theta_90_wo_flip\u001b[0m\u001b[0;34m[\u001b[0m\u001b[0;34m'mu_2'\u001b[0m\u001b[0;34m]\u001b[0m\u001b[0;34m)\u001b[0m \u001b[0;34m/\u001b[0m \u001b[0mnp\u001b[0m\u001b[0;34m.\u001b[0m\u001b[0mabs\u001b[0m\u001b[0;34m(\u001b[0m\u001b[0mdf_theta_90_wo_flip\u001b[0m\u001b[0;34m[\u001b[0m\u001b[0;34m'mu_1'\u001b[0m\u001b[0;34m]\u001b[0m\u001b[0;34m)\u001b[0m\u001b[0;34m\u001b[0m\u001b[0;34m\u001b[0m\u001b[0m\n\u001b[1;32m      3\u001b[0m \u001b[0mdf_theta_90_wo_flip\u001b[0m\u001b[0;34m\u001b[0m\u001b[0;34m\u001b[0m\u001b[0m\n",
      "\u001b[0;32m~/opt/anaconda3/lib/python3.7/site-packages/pandas/io/parsers.py\u001b[0m in \u001b[0;36mread_csv\u001b[0;34m(filepath_or_buffer, sep, delimiter, header, names, index_col, usecols, squeeze, prefix, mangle_dupe_cols, dtype, engine, converters, true_values, false_values, skipinitialspace, skiprows, skipfooter, nrows, na_values, keep_default_na, na_filter, verbose, skip_blank_lines, parse_dates, infer_datetime_format, keep_date_col, date_parser, dayfirst, cache_dates, iterator, chunksize, compression, thousands, decimal, lineterminator, quotechar, quoting, doublequote, escapechar, comment, encoding, dialect, error_bad_lines, warn_bad_lines, delim_whitespace, low_memory, memory_map, float_precision)\u001b[0m\n\u001b[1;32m    684\u001b[0m     )\n\u001b[1;32m    685\u001b[0m \u001b[0;34m\u001b[0m\u001b[0m\n\u001b[0;32m--> 686\u001b[0;31m     \u001b[0;32mreturn\u001b[0m \u001b[0m_read\u001b[0m\u001b[0;34m(\u001b[0m\u001b[0mfilepath_or_buffer\u001b[0m\u001b[0;34m,\u001b[0m \u001b[0mkwds\u001b[0m\u001b[0;34m)\u001b[0m\u001b[0;34m\u001b[0m\u001b[0;34m\u001b[0m\u001b[0m\n\u001b[0m\u001b[1;32m    687\u001b[0m \u001b[0;34m\u001b[0m\u001b[0m\n\u001b[1;32m    688\u001b[0m \u001b[0;34m\u001b[0m\u001b[0m\n",
      "\u001b[0;32m~/opt/anaconda3/lib/python3.7/site-packages/pandas/io/parsers.py\u001b[0m in \u001b[0;36m_read\u001b[0;34m(filepath_or_buffer, kwds)\u001b[0m\n\u001b[1;32m    450\u001b[0m \u001b[0;34m\u001b[0m\u001b[0m\n\u001b[1;32m    451\u001b[0m     \u001b[0;31m# Create the parser.\u001b[0m\u001b[0;34m\u001b[0m\u001b[0;34m\u001b[0m\u001b[0;34m\u001b[0m\u001b[0m\n\u001b[0;32m--> 452\u001b[0;31m     \u001b[0mparser\u001b[0m \u001b[0;34m=\u001b[0m \u001b[0mTextFileReader\u001b[0m\u001b[0;34m(\u001b[0m\u001b[0mfp_or_buf\u001b[0m\u001b[0;34m,\u001b[0m \u001b[0;34m**\u001b[0m\u001b[0mkwds\u001b[0m\u001b[0;34m)\u001b[0m\u001b[0;34m\u001b[0m\u001b[0;34m\u001b[0m\u001b[0m\n\u001b[0m\u001b[1;32m    453\u001b[0m \u001b[0;34m\u001b[0m\u001b[0m\n\u001b[1;32m    454\u001b[0m     \u001b[0;32mif\u001b[0m \u001b[0mchunksize\u001b[0m \u001b[0;32mor\u001b[0m \u001b[0miterator\u001b[0m\u001b[0;34m:\u001b[0m\u001b[0;34m\u001b[0m\u001b[0;34m\u001b[0m\u001b[0m\n",
      "\u001b[0;32m~/opt/anaconda3/lib/python3.7/site-packages/pandas/io/parsers.py\u001b[0m in \u001b[0;36m__init__\u001b[0;34m(self, f, engine, **kwds)\u001b[0m\n\u001b[1;32m    934\u001b[0m             \u001b[0mself\u001b[0m\u001b[0;34m.\u001b[0m\u001b[0moptions\u001b[0m\u001b[0;34m[\u001b[0m\u001b[0;34m\"has_index_names\"\u001b[0m\u001b[0;34m]\u001b[0m \u001b[0;34m=\u001b[0m \u001b[0mkwds\u001b[0m\u001b[0;34m[\u001b[0m\u001b[0;34m\"has_index_names\"\u001b[0m\u001b[0;34m]\u001b[0m\u001b[0;34m\u001b[0m\u001b[0;34m\u001b[0m\u001b[0m\n\u001b[1;32m    935\u001b[0m \u001b[0;34m\u001b[0m\u001b[0m\n\u001b[0;32m--> 936\u001b[0;31m         \u001b[0mself\u001b[0m\u001b[0;34m.\u001b[0m\u001b[0m_make_engine\u001b[0m\u001b[0;34m(\u001b[0m\u001b[0mself\u001b[0m\u001b[0;34m.\u001b[0m\u001b[0mengine\u001b[0m\u001b[0;34m)\u001b[0m\u001b[0;34m\u001b[0m\u001b[0;34m\u001b[0m\u001b[0m\n\u001b[0m\u001b[1;32m    937\u001b[0m \u001b[0;34m\u001b[0m\u001b[0m\n\u001b[1;32m    938\u001b[0m     \u001b[0;32mdef\u001b[0m \u001b[0mclose\u001b[0m\u001b[0;34m(\u001b[0m\u001b[0mself\u001b[0m\u001b[0;34m)\u001b[0m\u001b[0;34m:\u001b[0m\u001b[0;34m\u001b[0m\u001b[0;34m\u001b[0m\u001b[0m\n",
      "\u001b[0;32m~/opt/anaconda3/lib/python3.7/site-packages/pandas/io/parsers.py\u001b[0m in \u001b[0;36m_make_engine\u001b[0;34m(self, engine)\u001b[0m\n\u001b[1;32m   1166\u001b[0m     \u001b[0;32mdef\u001b[0m \u001b[0m_make_engine\u001b[0m\u001b[0;34m(\u001b[0m\u001b[0mself\u001b[0m\u001b[0;34m,\u001b[0m \u001b[0mengine\u001b[0m\u001b[0;34m=\u001b[0m\u001b[0;34m\"c\"\u001b[0m\u001b[0;34m)\u001b[0m\u001b[0;34m:\u001b[0m\u001b[0;34m\u001b[0m\u001b[0;34m\u001b[0m\u001b[0m\n\u001b[1;32m   1167\u001b[0m         \u001b[0;32mif\u001b[0m \u001b[0mengine\u001b[0m \u001b[0;34m==\u001b[0m \u001b[0;34m\"c\"\u001b[0m\u001b[0;34m:\u001b[0m\u001b[0;34m\u001b[0m\u001b[0;34m\u001b[0m\u001b[0m\n\u001b[0;32m-> 1168\u001b[0;31m             \u001b[0mself\u001b[0m\u001b[0;34m.\u001b[0m\u001b[0m_engine\u001b[0m \u001b[0;34m=\u001b[0m \u001b[0mCParserWrapper\u001b[0m\u001b[0;34m(\u001b[0m\u001b[0mself\u001b[0m\u001b[0;34m.\u001b[0m\u001b[0mf\u001b[0m\u001b[0;34m,\u001b[0m \u001b[0;34m**\u001b[0m\u001b[0mself\u001b[0m\u001b[0;34m.\u001b[0m\u001b[0moptions\u001b[0m\u001b[0;34m)\u001b[0m\u001b[0;34m\u001b[0m\u001b[0;34m\u001b[0m\u001b[0m\n\u001b[0m\u001b[1;32m   1169\u001b[0m         \u001b[0;32melse\u001b[0m\u001b[0;34m:\u001b[0m\u001b[0;34m\u001b[0m\u001b[0;34m\u001b[0m\u001b[0m\n\u001b[1;32m   1170\u001b[0m             \u001b[0;32mif\u001b[0m \u001b[0mengine\u001b[0m \u001b[0;34m==\u001b[0m \u001b[0;34m\"python\"\u001b[0m\u001b[0;34m:\u001b[0m\u001b[0;34m\u001b[0m\u001b[0;34m\u001b[0m\u001b[0m\n",
      "\u001b[0;32m~/opt/anaconda3/lib/python3.7/site-packages/pandas/io/parsers.py\u001b[0m in \u001b[0;36m__init__\u001b[0;34m(self, src, **kwds)\u001b[0m\n\u001b[1;32m   1996\u001b[0m         \u001b[0mkwds\u001b[0m\u001b[0;34m[\u001b[0m\u001b[0;34m\"usecols\"\u001b[0m\u001b[0;34m]\u001b[0m \u001b[0;34m=\u001b[0m \u001b[0mself\u001b[0m\u001b[0;34m.\u001b[0m\u001b[0musecols\u001b[0m\u001b[0;34m\u001b[0m\u001b[0;34m\u001b[0m\u001b[0m\n\u001b[1;32m   1997\u001b[0m \u001b[0;34m\u001b[0m\u001b[0m\n\u001b[0;32m-> 1998\u001b[0;31m         \u001b[0mself\u001b[0m\u001b[0;34m.\u001b[0m\u001b[0m_reader\u001b[0m \u001b[0;34m=\u001b[0m \u001b[0mparsers\u001b[0m\u001b[0;34m.\u001b[0m\u001b[0mTextReader\u001b[0m\u001b[0;34m(\u001b[0m\u001b[0msrc\u001b[0m\u001b[0;34m,\u001b[0m \u001b[0;34m**\u001b[0m\u001b[0mkwds\u001b[0m\u001b[0;34m)\u001b[0m\u001b[0;34m\u001b[0m\u001b[0;34m\u001b[0m\u001b[0m\n\u001b[0m\u001b[1;32m   1999\u001b[0m         \u001b[0mself\u001b[0m\u001b[0;34m.\u001b[0m\u001b[0munnamed_cols\u001b[0m \u001b[0;34m=\u001b[0m \u001b[0mself\u001b[0m\u001b[0;34m.\u001b[0m\u001b[0m_reader\u001b[0m\u001b[0;34m.\u001b[0m\u001b[0munnamed_cols\u001b[0m\u001b[0;34m\u001b[0m\u001b[0;34m\u001b[0m\u001b[0m\n\u001b[1;32m   2000\u001b[0m \u001b[0;34m\u001b[0m\u001b[0m\n",
      "\u001b[0;32mpandas/_libs/parsers.pyx\u001b[0m in \u001b[0;36mpandas._libs.parsers.TextReader.__cinit__\u001b[0;34m()\u001b[0m\n",
      "\u001b[0;32mpandas/_libs/parsers.pyx\u001b[0m in \u001b[0;36mpandas._libs.parsers.TextReader._setup_parser_source\u001b[0;34m()\u001b[0m\n",
      "\u001b[0;31mFileNotFoundError\u001b[0m: [Errno 2] No such file or directory: '/Users/saifali/Desktop/gwlensing/SIE_glafic/data/flux_twoimages_theta_90_wo_flip.csv'"
     ]
    }
   ],
   "source": [
    "df_theta_90_wo_flip = pd.read_csv(datadirName + \"flux_twoimages_theta_90_wo_flip.csv\")\n",
    "df_theta_90_wo_flip['I'] = np.abs(df_theta_90_wo_flip['mu_2']) / np.abs(df_theta_90_wo_flip['mu_1'])\n",
    "df_theta_90_wo_flip"
   ]
  },
  {
   "cell_type": "code",
   "execution_count": 43,
   "metadata": {
    "collapsed": true,
    "jupyter": {
     "outputs_hidden": true,
     "source_hidden": true
    }
   },
   "outputs": [
    {
     "ename": "FileNotFoundError",
     "evalue": "[Errno 2] No such file or directory: '/Users/saifali/Desktop/gwlensing/SIE_glafic/data/flux_twoimages_theta_90_w_position.csv'",
     "output_type": "error",
     "traceback": [
      "\u001b[0;31m---------------------------------------------------------------------------\u001b[0m",
      "\u001b[0;31mFileNotFoundError\u001b[0m                         Traceback (most recent call last)",
      "\u001b[0;32m<ipython-input-43-6c015d5a03ac>\u001b[0m in \u001b[0;36m<module>\u001b[0;34m\u001b[0m\n\u001b[0;32m----> 1\u001b[0;31m \u001b[0mdf_theta_90_w_position\u001b[0m \u001b[0;34m=\u001b[0m \u001b[0mpd\u001b[0m\u001b[0;34m.\u001b[0m\u001b[0mread_csv\u001b[0m\u001b[0;34m(\u001b[0m\u001b[0mdatadirName\u001b[0m \u001b[0;34m+\u001b[0m \u001b[0;34m\"flux_twoimages_theta_90_w_position.csv\"\u001b[0m\u001b[0;34m)\u001b[0m\u001b[0;34m\u001b[0m\u001b[0;34m\u001b[0m\u001b[0m\n\u001b[0m\u001b[1;32m      2\u001b[0m \u001b[0mdf_theta_90_w_position\u001b[0m\u001b[0;34m[\u001b[0m\u001b[0;34m'I'\u001b[0m\u001b[0;34m]\u001b[0m \u001b[0;34m=\u001b[0m \u001b[0mnp\u001b[0m\u001b[0;34m.\u001b[0m\u001b[0mabs\u001b[0m\u001b[0;34m(\u001b[0m\u001b[0mdf_theta_90_w_position\u001b[0m\u001b[0;34m[\u001b[0m\u001b[0;34m'mu_2'\u001b[0m\u001b[0;34m]\u001b[0m\u001b[0;34m)\u001b[0m \u001b[0;34m/\u001b[0m \u001b[0mnp\u001b[0m\u001b[0;34m.\u001b[0m\u001b[0mabs\u001b[0m\u001b[0;34m(\u001b[0m\u001b[0mdf_theta_90_w_position\u001b[0m\u001b[0;34m[\u001b[0m\u001b[0;34m'mu_1'\u001b[0m\u001b[0;34m]\u001b[0m\u001b[0;34m)\u001b[0m\u001b[0;34m\u001b[0m\u001b[0;34m\u001b[0m\u001b[0m\n\u001b[1;32m      3\u001b[0m \u001b[0mdf_theta_90_w_position\u001b[0m\u001b[0;34m\u001b[0m\u001b[0;34m\u001b[0m\u001b[0m\n",
      "\u001b[0;32m~/opt/anaconda3/lib/python3.7/site-packages/pandas/io/parsers.py\u001b[0m in \u001b[0;36mread_csv\u001b[0;34m(filepath_or_buffer, sep, delimiter, header, names, index_col, usecols, squeeze, prefix, mangle_dupe_cols, dtype, engine, converters, true_values, false_values, skipinitialspace, skiprows, skipfooter, nrows, na_values, keep_default_na, na_filter, verbose, skip_blank_lines, parse_dates, infer_datetime_format, keep_date_col, date_parser, dayfirst, cache_dates, iterator, chunksize, compression, thousands, decimal, lineterminator, quotechar, quoting, doublequote, escapechar, comment, encoding, dialect, error_bad_lines, warn_bad_lines, delim_whitespace, low_memory, memory_map, float_precision)\u001b[0m\n\u001b[1;32m    684\u001b[0m     )\n\u001b[1;32m    685\u001b[0m \u001b[0;34m\u001b[0m\u001b[0m\n\u001b[0;32m--> 686\u001b[0;31m     \u001b[0;32mreturn\u001b[0m \u001b[0m_read\u001b[0m\u001b[0;34m(\u001b[0m\u001b[0mfilepath_or_buffer\u001b[0m\u001b[0;34m,\u001b[0m \u001b[0mkwds\u001b[0m\u001b[0;34m)\u001b[0m\u001b[0;34m\u001b[0m\u001b[0;34m\u001b[0m\u001b[0m\n\u001b[0m\u001b[1;32m    687\u001b[0m \u001b[0;34m\u001b[0m\u001b[0m\n\u001b[1;32m    688\u001b[0m \u001b[0;34m\u001b[0m\u001b[0m\n",
      "\u001b[0;32m~/opt/anaconda3/lib/python3.7/site-packages/pandas/io/parsers.py\u001b[0m in \u001b[0;36m_read\u001b[0;34m(filepath_or_buffer, kwds)\u001b[0m\n\u001b[1;32m    450\u001b[0m \u001b[0;34m\u001b[0m\u001b[0m\n\u001b[1;32m    451\u001b[0m     \u001b[0;31m# Create the parser.\u001b[0m\u001b[0;34m\u001b[0m\u001b[0;34m\u001b[0m\u001b[0;34m\u001b[0m\u001b[0m\n\u001b[0;32m--> 452\u001b[0;31m     \u001b[0mparser\u001b[0m \u001b[0;34m=\u001b[0m \u001b[0mTextFileReader\u001b[0m\u001b[0;34m(\u001b[0m\u001b[0mfp_or_buf\u001b[0m\u001b[0;34m,\u001b[0m \u001b[0;34m**\u001b[0m\u001b[0mkwds\u001b[0m\u001b[0;34m)\u001b[0m\u001b[0;34m\u001b[0m\u001b[0;34m\u001b[0m\u001b[0m\n\u001b[0m\u001b[1;32m    453\u001b[0m \u001b[0;34m\u001b[0m\u001b[0m\n\u001b[1;32m    454\u001b[0m     \u001b[0;32mif\u001b[0m \u001b[0mchunksize\u001b[0m \u001b[0;32mor\u001b[0m \u001b[0miterator\u001b[0m\u001b[0;34m:\u001b[0m\u001b[0;34m\u001b[0m\u001b[0;34m\u001b[0m\u001b[0m\n",
      "\u001b[0;32m~/opt/anaconda3/lib/python3.7/site-packages/pandas/io/parsers.py\u001b[0m in \u001b[0;36m__init__\u001b[0;34m(self, f, engine, **kwds)\u001b[0m\n\u001b[1;32m    934\u001b[0m             \u001b[0mself\u001b[0m\u001b[0;34m.\u001b[0m\u001b[0moptions\u001b[0m\u001b[0;34m[\u001b[0m\u001b[0;34m\"has_index_names\"\u001b[0m\u001b[0;34m]\u001b[0m \u001b[0;34m=\u001b[0m \u001b[0mkwds\u001b[0m\u001b[0;34m[\u001b[0m\u001b[0;34m\"has_index_names\"\u001b[0m\u001b[0;34m]\u001b[0m\u001b[0;34m\u001b[0m\u001b[0;34m\u001b[0m\u001b[0m\n\u001b[1;32m    935\u001b[0m \u001b[0;34m\u001b[0m\u001b[0m\n\u001b[0;32m--> 936\u001b[0;31m         \u001b[0mself\u001b[0m\u001b[0;34m.\u001b[0m\u001b[0m_make_engine\u001b[0m\u001b[0;34m(\u001b[0m\u001b[0mself\u001b[0m\u001b[0;34m.\u001b[0m\u001b[0mengine\u001b[0m\u001b[0;34m)\u001b[0m\u001b[0;34m\u001b[0m\u001b[0;34m\u001b[0m\u001b[0m\n\u001b[0m\u001b[1;32m    937\u001b[0m \u001b[0;34m\u001b[0m\u001b[0m\n\u001b[1;32m    938\u001b[0m     \u001b[0;32mdef\u001b[0m \u001b[0mclose\u001b[0m\u001b[0;34m(\u001b[0m\u001b[0mself\u001b[0m\u001b[0;34m)\u001b[0m\u001b[0;34m:\u001b[0m\u001b[0;34m\u001b[0m\u001b[0;34m\u001b[0m\u001b[0m\n",
      "\u001b[0;32m~/opt/anaconda3/lib/python3.7/site-packages/pandas/io/parsers.py\u001b[0m in \u001b[0;36m_make_engine\u001b[0;34m(self, engine)\u001b[0m\n\u001b[1;32m   1166\u001b[0m     \u001b[0;32mdef\u001b[0m \u001b[0m_make_engine\u001b[0m\u001b[0;34m(\u001b[0m\u001b[0mself\u001b[0m\u001b[0;34m,\u001b[0m \u001b[0mengine\u001b[0m\u001b[0;34m=\u001b[0m\u001b[0;34m\"c\"\u001b[0m\u001b[0;34m)\u001b[0m\u001b[0;34m:\u001b[0m\u001b[0;34m\u001b[0m\u001b[0;34m\u001b[0m\u001b[0m\n\u001b[1;32m   1167\u001b[0m         \u001b[0;32mif\u001b[0m \u001b[0mengine\u001b[0m \u001b[0;34m==\u001b[0m \u001b[0;34m\"c\"\u001b[0m\u001b[0;34m:\u001b[0m\u001b[0;34m\u001b[0m\u001b[0;34m\u001b[0m\u001b[0m\n\u001b[0;32m-> 1168\u001b[0;31m             \u001b[0mself\u001b[0m\u001b[0;34m.\u001b[0m\u001b[0m_engine\u001b[0m \u001b[0;34m=\u001b[0m \u001b[0mCParserWrapper\u001b[0m\u001b[0;34m(\u001b[0m\u001b[0mself\u001b[0m\u001b[0;34m.\u001b[0m\u001b[0mf\u001b[0m\u001b[0;34m,\u001b[0m \u001b[0;34m**\u001b[0m\u001b[0mself\u001b[0m\u001b[0;34m.\u001b[0m\u001b[0moptions\u001b[0m\u001b[0;34m)\u001b[0m\u001b[0;34m\u001b[0m\u001b[0;34m\u001b[0m\u001b[0m\n\u001b[0m\u001b[1;32m   1169\u001b[0m         \u001b[0;32melse\u001b[0m\u001b[0;34m:\u001b[0m\u001b[0;34m\u001b[0m\u001b[0;34m\u001b[0m\u001b[0m\n\u001b[1;32m   1170\u001b[0m             \u001b[0;32mif\u001b[0m \u001b[0mengine\u001b[0m \u001b[0;34m==\u001b[0m \u001b[0;34m\"python\"\u001b[0m\u001b[0;34m:\u001b[0m\u001b[0;34m\u001b[0m\u001b[0;34m\u001b[0m\u001b[0m\n",
      "\u001b[0;32m~/opt/anaconda3/lib/python3.7/site-packages/pandas/io/parsers.py\u001b[0m in \u001b[0;36m__init__\u001b[0;34m(self, src, **kwds)\u001b[0m\n\u001b[1;32m   1996\u001b[0m         \u001b[0mkwds\u001b[0m\u001b[0;34m[\u001b[0m\u001b[0;34m\"usecols\"\u001b[0m\u001b[0;34m]\u001b[0m \u001b[0;34m=\u001b[0m \u001b[0mself\u001b[0m\u001b[0;34m.\u001b[0m\u001b[0musecols\u001b[0m\u001b[0;34m\u001b[0m\u001b[0;34m\u001b[0m\u001b[0m\n\u001b[1;32m   1997\u001b[0m \u001b[0;34m\u001b[0m\u001b[0m\n\u001b[0;32m-> 1998\u001b[0;31m         \u001b[0mself\u001b[0m\u001b[0;34m.\u001b[0m\u001b[0m_reader\u001b[0m \u001b[0;34m=\u001b[0m \u001b[0mparsers\u001b[0m\u001b[0;34m.\u001b[0m\u001b[0mTextReader\u001b[0m\u001b[0;34m(\u001b[0m\u001b[0msrc\u001b[0m\u001b[0;34m,\u001b[0m \u001b[0;34m**\u001b[0m\u001b[0mkwds\u001b[0m\u001b[0;34m)\u001b[0m\u001b[0;34m\u001b[0m\u001b[0;34m\u001b[0m\u001b[0m\n\u001b[0m\u001b[1;32m   1999\u001b[0m         \u001b[0mself\u001b[0m\u001b[0;34m.\u001b[0m\u001b[0munnamed_cols\u001b[0m \u001b[0;34m=\u001b[0m \u001b[0mself\u001b[0m\u001b[0;34m.\u001b[0m\u001b[0m_reader\u001b[0m\u001b[0;34m.\u001b[0m\u001b[0munnamed_cols\u001b[0m\u001b[0;34m\u001b[0m\u001b[0;34m\u001b[0m\u001b[0m\n\u001b[1;32m   2000\u001b[0m \u001b[0;34m\u001b[0m\u001b[0m\n",
      "\u001b[0;32mpandas/_libs/parsers.pyx\u001b[0m in \u001b[0;36mpandas._libs.parsers.TextReader.__cinit__\u001b[0;34m()\u001b[0m\n",
      "\u001b[0;32mpandas/_libs/parsers.pyx\u001b[0m in \u001b[0;36mpandas._libs.parsers.TextReader._setup_parser_source\u001b[0;34m()\u001b[0m\n",
      "\u001b[0;31mFileNotFoundError\u001b[0m: [Errno 2] No such file or directory: '/Users/saifali/Desktop/gwlensing/SIE_glafic/data/flux_twoimages_theta_90_w_position.csv'"
     ]
    }
   ],
   "source": [
    "df_theta_90_w_position = pd.read_csv(datadirName + \"flux_twoimages_theta_90_w_position.csv\")\n",
    "df_theta_90_w_position['I'] = np.abs(df_theta_90_w_position['mu_2']) / np.abs(df_theta_90_w_position['mu_1'])\n",
    "df_theta_90_w_position"
   ]
  },
  {
   "cell_type": "code",
   "execution_count": 16,
   "metadata": {},
   "outputs": [
    {
     "data": {
      "text/html": [
       "<div>\n",
       "<style scoped>\n",
       "    .dataframe tbody tr th:only-of-type {\n",
       "        vertical-align: middle;\n",
       "    }\n",
       "\n",
       "    .dataframe tbody tr th {\n",
       "        vertical-align: top;\n",
       "    }\n",
       "\n",
       "    .dataframe thead th {\n",
       "        text-align: right;\n",
       "    }\n",
       "</style>\n",
       "<table border=\"1\" class=\"dataframe\">\n",
       "  <thead>\n",
       "    <tr style=\"text-align: right;\">\n",
       "      <th></th>\n",
       "      <th>source_x</th>\n",
       "      <th>mu_1</th>\n",
       "      <th>mu_2</th>\n",
       "      <th>td_1</th>\n",
       "      <th>td_2</th>\n",
       "      <th>I</th>\n",
       "    </tr>\n",
       "  </thead>\n",
       "  <tbody>\n",
       "    <tr>\n",
       "      <th>0</th>\n",
       "      <td>3.394e-05</td>\n",
       "      <td>4.634e+00</td>\n",
       "      <td>-3.194e+00</td>\n",
       "      <td>0.000e+00</td>\n",
       "      <td>1.538e-01</td>\n",
       "      <td>6.892e-01</td>\n",
       "    </tr>\n",
       "    <tr>\n",
       "      <th>1</th>\n",
       "      <td>5.028e-05</td>\n",
       "      <td>3.919e+00</td>\n",
       "      <td>-2.334e+00</td>\n",
       "      <td>0.000e+00</td>\n",
       "      <td>2.196e-01</td>\n",
       "      <td>5.955e-01</td>\n",
       "    </tr>\n",
       "    <tr>\n",
       "      <th>2</th>\n",
       "      <td>6.663e-05</td>\n",
       "      <td>3.409e+00</td>\n",
       "      <td>-1.708e+00</td>\n",
       "      <td>0.000e+00</td>\n",
       "      <td>2.866e-01</td>\n",
       "      <td>5.012e-01</td>\n",
       "    </tr>\n",
       "    <tr>\n",
       "      <th>3</th>\n",
       "      <td>8.297e-05</td>\n",
       "      <td>3.036e+00</td>\n",
       "      <td>-1.257e+00</td>\n",
       "      <td>0.000e+00</td>\n",
       "      <td>3.541e-01</td>\n",
       "      <td>4.138e-01</td>\n",
       "    </tr>\n",
       "    <tr>\n",
       "      <th>4</th>\n",
       "      <td>9.931e-05</td>\n",
       "      <td>2.757e+00</td>\n",
       "      <td>-9.233e-01</td>\n",
       "      <td>0.000e+00</td>\n",
       "      <td>4.221e-01</td>\n",
       "      <td>3.349e-01</td>\n",
       "    </tr>\n",
       "    <tr>\n",
       "      <th>5</th>\n",
       "      <td>1.157e-04</td>\n",
       "      <td>2.542e+00</td>\n",
       "      <td>-6.708e-01</td>\n",
       "      <td>0.000e+00</td>\n",
       "      <td>4.902e-01</td>\n",
       "      <td>2.639e-01</td>\n",
       "    </tr>\n",
       "    <tr>\n",
       "      <th>6</th>\n",
       "      <td>1.320e-04</td>\n",
       "      <td>2.372e+00</td>\n",
       "      <td>-4.743e-01</td>\n",
       "      <td>0.000e+00</td>\n",
       "      <td>5.585e-01</td>\n",
       "      <td>2.000e-01</td>\n",
       "    </tr>\n",
       "    <tr>\n",
       "      <th>7</th>\n",
       "      <td>1.483e-04</td>\n",
       "      <td>2.235e+00</td>\n",
       "      <td>-3.177e-01</td>\n",
       "      <td>0.000e+00</td>\n",
       "      <td>6.269e-01</td>\n",
       "      <td>1.422e-01</td>\n",
       "    </tr>\n",
       "    <tr>\n",
       "      <th>8</th>\n",
       "      <td>1.647e-04</td>\n",
       "      <td>2.122e+00</td>\n",
       "      <td>-1.904e-01</td>\n",
       "      <td>0.000e+00</td>\n",
       "      <td>6.953e-01</td>\n",
       "      <td>8.971e-02</td>\n",
       "    </tr>\n",
       "    <tr>\n",
       "      <th>9</th>\n",
       "      <td>1.810e-04</td>\n",
       "      <td>2.028e+00</td>\n",
       "      <td>-8.492e-02</td>\n",
       "      <td>0.000e+00</td>\n",
       "      <td>7.638e-01</td>\n",
       "      <td>4.188e-02</td>\n",
       "    </tr>\n",
       "  </tbody>\n",
       "</table>\n",
       "</div>"
      ],
      "text/plain": [
       "   source_x      mu_1       mu_2      td_1      td_2         I\n",
       "0 3.394e-05 4.634e+00 -3.194e+00 0.000e+00 1.538e-01 6.892e-01\n",
       "1 5.028e-05 3.919e+00 -2.334e+00 0.000e+00 2.196e-01 5.955e-01\n",
       "2 6.663e-05 3.409e+00 -1.708e+00 0.000e+00 2.866e-01 5.012e-01\n",
       "3 8.297e-05 3.036e+00 -1.257e+00 0.000e+00 3.541e-01 4.138e-01\n",
       "4 9.931e-05 2.757e+00 -9.233e-01 0.000e+00 4.221e-01 3.349e-01\n",
       "5 1.157e-04 2.542e+00 -6.708e-01 0.000e+00 4.902e-01 2.639e-01\n",
       "6 1.320e-04 2.372e+00 -4.743e-01 0.000e+00 5.585e-01 2.000e-01\n",
       "7 1.483e-04 2.235e+00 -3.177e-01 0.000e+00 6.269e-01 1.422e-01\n",
       "8 1.647e-04 2.122e+00 -1.904e-01 0.000e+00 6.953e-01 8.971e-02\n",
       "9 1.810e-04 2.028e+00 -8.492e-02 0.000e+00 7.638e-01 4.188e-02"
      ]
     },
     "execution_count": 16,
     "metadata": {},
     "output_type": "execute_result"
    }
   ],
   "source": [
    "df_theta_45 = pd.read_csv(datadirName + \"flux_twoimages_theta_45.csv\")\n",
    "df_theta_45['source_x'] = df_theta_45['source_x'] \n",
    "df_theta_45['td_2'] = df_theta_45['td_2'] * 86400 \n",
    "df_theta_45['I'] = np.abs(df_theta_45['mu_2']) / np.abs(df_theta_45['mu_1'])\n",
    "df_theta_45.to_csv(datadirName + \"flux_twoimages_theta_45_sorted.csv\", index = False)\n",
    "df_theta_45"
   ]
  },
  {
   "cell_type": "code",
   "execution_count": 18,
   "metadata": {},
   "outputs": [
    {
     "data": {
      "text/plain": [
       "<matplotlib.legend.Legend at 0x7fd25220ab90>"
      ]
     },
     "execution_count": 18,
     "metadata": {},
     "output_type": "execute_result"
    },
    {
     "data": {
      "image/png": "[encoded data removed]",
      "text/plain": [
       "<Figure size 432x288 with 1 Axes>"
      ]
     },
     "metadata": {
      "needs_background": "light"
     },
     "output_type": "display_data"
    }
   ],
   "source": [
    "plt.loglog(np.array(df_theta_0['source_x']), np.array(df_theta_0['I']), label = r'$\\theta = 0$')\n",
    "plt.loglog(np.array(df_theta_90['source_y']), np.array(df_theta_90['I']), label = r'$\\theta = \\pi / 2$')\n",
    "#plt.loglog(np.array(df_theta_90_wo_flip['source_y']), np.array(df_theta_90_wo_flip['I']), label = r'$\\theta = \\pi / 2$ wo flip')\n",
    "plt.loglog(np.array(df_theta_45['source_x']), np.array(df_theta_45['I']), label = r'$\\theta = \\pi / 4$')\n",
    "plt.legend(loc = 'best')"
   ]
  },
  {
   "cell_type": "code",
   "execution_count": 20,
   "metadata": {
    "scrolled": true
   },
   "outputs": [
    {
     "data": {
      "text/plain": [
       "<matplotlib.legend.Legend at 0x7fd2587e4dd0>"
      ]
     },
     "execution_count": 20,
     "metadata": {},
     "output_type": "execute_result"
    },
    {
     "data": {
      "image/png": "[encoded data removed]",
      "text/plain": [
       "<Figure size 720x1296 with 3 Axes>"
      ]
     },
     "metadata": {
      "needs_background": "light"
     },
     "output_type": "display_data"
    }
   ],
   "source": [
    "plt.figure(figsize = (10, 18))\n",
    "# TIME DELAY PLOT FOR THETA = 0 DEG\n",
    "plt.subplot(3, 1, 1)\n",
    "#plt.figure(figsize = (8, 5))\n",
    "plt.loglog(np.array(df_theta_0['source_x']), np.array(df_theta_0['td_2']), label = r'$td_2$')\n",
    "plt.axhline(y = 1.56, ls = '--', label = r'$\\tau_{insp}$')\n",
    "plt.axhline(y = 0.05, ls = '--', label = r'$1 / f_{min}$')\n",
    "plt.xlabel('y')\n",
    "plt.ylabel(r'$\\Delta t_d$')\n",
    "plt.title(\"time delay for theta = 0\")\n",
    "plt.legend()\n",
    "\n",
    "\n",
    "# TIME DELAY PLOT FOR THETA = 45 DEG\n",
    "plt.subplot(3, 1, 2)\n",
    "#plt.figure(figsize = (8, 5))\n",
    "plt.loglog(np.array(df_theta_45['source_x']), np.array(df_theta_45['td_2']), label = r'$td_2$')\n",
    "plt.axhline(y = 1.56, ls = '--', label = r'$\\tau_{insp}$')\n",
    "plt.axhline(y = 0.05, ls = '--', label = r'$1 / f_{min}$')\n",
    "plt.xlabel('y')\n",
    "plt.ylabel(r'$\\Delta t_d$')\n",
    "plt.title(\"time delay for theta = pi/4\")\n",
    "plt.legend()\n",
    "\n",
    "# TIME DELAY PLOT FOR THETA = 90 DEG\n",
    "plt.subplot(3, 1, 3)\n",
    "#plt.figure(figsize = (8, 5))\n",
    "plt.loglog(np.array(df_theta_90['source_y']), np.array(df_theta_90['td_2']), label = r'$td_2$')\n",
    "plt.axhline(y = 1.56, ls = '--', label = r'$\\tau_{insp}$')\n",
    "plt.axhline(y = 0.05, ls = '--', label = r'$1 / f_{min}$')\n",
    "plt.xlabel('y')\n",
    "plt.ylabel(r'$\\Delta t_d$')\n",
    "plt.title(\"time delay for theta = pi/2\")\n",
    "plt.legend()"
   ]
  },
  {
   "cell_type": "markdown",
   "metadata": {},
   "source": [
    "************************************************************************************************************************"
   ]
  },
  {
   "cell_type": "markdown",
   "metadata": {},
   "source": [
    "************************************************************************************************************************"
   ]
  },
  {
   "cell_type": "markdown",
   "metadata": {},
   "source": [
    "## FOUR IMAGES CASE"
   ]
  },
  {
   "cell_type": "code",
   "execution_count": 27,
   "metadata": {},
   "outputs": [],
   "source": [
    "def dataframe_sorted_four_images(dataframe):\n",
    "    \n",
    "    df_unsorted = dataframe\n",
    "    \n",
    "    old_td_ind = [[0, 1, 2, 3] for i in range(df_unsorted.shape[0])]\n",
    "    new_td_ind = [[0, 0, 0, 0] for i in range(df_unsorted.shape[0])]\n",
    "    \n",
    "    sorted_arr = np.zeros(df_unsorted.shape)\n",
    "    #print(sorted_arr)\n",
    "    for i_row in range(df_unsorted.shape[0]):\n",
    "        \n",
    "        old_td_arr = np.array(df_unsorted.loc[i_row][-4:])\n",
    "        #print(old_td_arr)\n",
    "        new_td_arr = np.sort(old_td_arr)\n",
    "        #print(new_td_arr)\n",
    "       \n",
    "        \n",
    "        new_td_ind[i_row][0] = np.where(new_td_arr[0] == old_td_arr)[0][0]\n",
    "        new_td_ind[i_row][1] = np.where(new_td_arr[1] == old_td_arr)[0][0]\n",
    "        new_td_ind[i_row][2] = np.where(new_td_arr[2] == old_td_arr)[0][0]\n",
    "        new_td_ind[i_row][3] = np.where(new_td_arr[3] == old_td_arr)[0][0]\n",
    "        \n",
    "        \n",
    "        if len(new_td_ind[i_row]) != len(set(new_td_ind[i_row])):\n",
    "            dup_ind = [idx for idx, item in enumerate(new_td_ind[i_row]) if item in new_td_ind[i_row][:idx]]\n",
    "            new_td_ind[i_row][dup_ind[0]] += 1\n",
    "            \n",
    "        #if len(new_td_ind[i_row]) != len(set(new_td_ind[i_row])):\n",
    "            #uniq_arr, dup_ind = np.unique(new_td_ind[i_row], return_index = True)\n",
    "            #print(uniq_arr, dup_ind)\n",
    "            #new_td_ind[i_row][dup_ind[-1]] += 1\n",
    "\n",
    "        #print(new_td_ind[i_row])\n",
    "        \n",
    "        old_mu_arr = np.array(df_unsorted.loc[i_row][1:5])\n",
    "        #print(old_mu_arr)\n",
    "        new_mu_arr = np.array([old_mu_arr[new_td_ind[i_row][0]], old_mu_arr[new_td_ind[i_row][1]], old_mu_arr[new_td_ind[i_row][2]], \n",
    "                               old_mu_arr[new_td_ind[i_row][3]]])\n",
    "        #print(new_mu_arr)\n",
    "        #print('\\n')\n",
    "        sorted_arr[i_row][0] = df_unsorted.loc[i_row][0]\n",
    "        sorted_arr[i_row][1] = new_mu_arr[0]\n",
    "        sorted_arr[i_row][2] = new_mu_arr[1]\n",
    "        sorted_arr[i_row][3] = new_mu_arr[2]\n",
    "        sorted_arr[i_row][4] = new_mu_arr[3]\n",
    "        sorted_arr[i_row][5] = new_td_arr[0]\n",
    "        sorted_arr[i_row][6] = new_td_arr[1]\n",
    "        sorted_arr[i_row][7] = new_td_arr[2]\n",
    "        sorted_arr[i_row][8] = new_td_arr[3]\n",
    "    #print(sorted_arr)   \n",
    "    df_sorted = pd.DataFrame(sorted_arr, columns = ['source_x', 'mu_1', 'mu_2', 'mu_3', 'mu_4', 'td_1', 'td_2', 'td_3', 'td_4'])\n",
    "    \n",
    "    return df_sorted"
   ]
  },
  {
   "cell_type": "code",
   "execution_count": 28,
   "metadata": {
    "scrolled": true
   },
   "outputs": [
    {
     "data": {
      "text/html": [
       "<div>\n",
       "<style scoped>\n",
       "    .dataframe tbody tr th:only-of-type {\n",
       "        vertical-align: middle;\n",
       "    }\n",
       "\n",
       "    .dataframe tbody tr th {\n",
       "        vertical-align: top;\n",
       "    }\n",
       "\n",
       "    .dataframe thead th {\n",
       "        text-align: right;\n",
       "    }\n",
       "</style>\n",
       "<table border=\"1\" class=\"dataframe\">\n",
       "  <thead>\n",
       "    <tr style=\"text-align: right;\">\n",
       "      <th></th>\n",
       "      <th>source_x</th>\n",
       "      <th>mu_1</th>\n",
       "      <th>mu_2</th>\n",
       "      <th>mu_3</th>\n",
       "      <th>mu_4</th>\n",
       "      <th>td_1</th>\n",
       "      <th>td_2</th>\n",
       "      <th>td_3</th>\n",
       "      <th>td_4</th>\n",
       "      <th>I_2</th>\n",
       "      <th>I_3</th>\n",
       "      <th>I_4</th>\n",
       "    </tr>\n",
       "  </thead>\n",
       "  <tbody>\n",
       "    <tr>\n",
       "      <th>0</th>\n",
       "      <td>1.500e-05</td>\n",
       "      <td>5.165e+00</td>\n",
       "      <td>1.520e+01</td>\n",
       "      <td>-8.792e+00</td>\n",
       "      <td>-8.792e+00</td>\n",
       "      <td>0.000e+00</td>\n",
       "      <td>6.536e-02</td>\n",
       "      <td>7.192e-02</td>\n",
       "      <td>7.192e-02</td>\n",
       "      <td>2.944e+00</td>\n",
       "      <td>1.702e+00</td>\n",
       "      <td>1.702e+00</td>\n",
       "    </tr>\n",
       "    <tr>\n",
       "      <th>1</th>\n",
       "      <td>1.622e-05</td>\n",
       "      <td>5.049e+00</td>\n",
       "      <td>1.675e+01</td>\n",
       "      <td>-9.508e+00</td>\n",
       "      <td>-9.508e+00</td>\n",
       "      <td>0.000e+00</td>\n",
       "      <td>7.068e-02</td>\n",
       "      <td>7.604e-02</td>\n",
       "      <td>7.604e-02</td>\n",
       "      <td>3.318e+00</td>\n",
       "      <td>1.883e+00</td>\n",
       "      <td>1.883e+00</td>\n",
       "    </tr>\n",
       "    <tr>\n",
       "      <th>2</th>\n",
       "      <td>1.744e-05</td>\n",
       "      <td>4.938e+00</td>\n",
       "      <td>1.868e+01</td>\n",
       "      <td>-1.042e+01</td>\n",
       "      <td>-1.042e+01</td>\n",
       "      <td>0.000e+00</td>\n",
       "      <td>7.601e-02</td>\n",
       "      <td>8.028e-02</td>\n",
       "      <td>8.028e-02</td>\n",
       "      <td>3.782e+00</td>\n",
       "      <td>2.109e+00</td>\n",
       "      <td>2.109e+00</td>\n",
       "    </tr>\n",
       "    <tr>\n",
       "      <th>3</th>\n",
       "      <td>1.867e-05</td>\n",
       "      <td>4.834e+00</td>\n",
       "      <td>2.114e+01</td>\n",
       "      <td>-1.160e+01</td>\n",
       "      <td>-1.160e+01</td>\n",
       "      <td>0.000e+00</td>\n",
       "      <td>8.133e-02</td>\n",
       "      <td>8.464e-02</td>\n",
       "      <td>8.464e-02</td>\n",
       "      <td>4.373e+00</td>\n",
       "      <td>2.399e+00</td>\n",
       "      <td>2.399e+00</td>\n",
       "    </tr>\n",
       "    <tr>\n",
       "      <th>4</th>\n",
       "      <td>1.989e-05</td>\n",
       "      <td>4.735e+00</td>\n",
       "      <td>2.439e+01</td>\n",
       "      <td>-1.318e+01</td>\n",
       "      <td>-1.318e+01</td>\n",
       "      <td>0.000e+00</td>\n",
       "      <td>8.666e-02</td>\n",
       "      <td>8.912e-02</td>\n",
       "      <td>8.912e-02</td>\n",
       "      <td>5.152e+00</td>\n",
       "      <td>2.783e+00</td>\n",
       "      <td>2.783e+00</td>\n",
       "    </tr>\n",
       "    <tr>\n",
       "      <th>5</th>\n",
       "      <td>2.111e-05</td>\n",
       "      <td>4.641e+00</td>\n",
       "      <td>2.891e+01</td>\n",
       "      <td>-1.539e+01</td>\n",
       "      <td>-1.539e+01</td>\n",
       "      <td>0.000e+00</td>\n",
       "      <td>9.198e-02</td>\n",
       "      <td>9.372e-02</td>\n",
       "      <td>9.372e-02</td>\n",
       "      <td>6.229e+00</td>\n",
       "      <td>3.316e+00</td>\n",
       "      <td>3.316e+00</td>\n",
       "    </tr>\n",
       "    <tr>\n",
       "      <th>6</th>\n",
       "      <td>2.233e-05</td>\n",
       "      <td>4.551e+00</td>\n",
       "      <td>3.558e+01</td>\n",
       "      <td>-1.868e+01</td>\n",
       "      <td>-1.868e+01</td>\n",
       "      <td>0.000e+00</td>\n",
       "      <td>9.731e-02</td>\n",
       "      <td>9.844e-02</td>\n",
       "      <td>9.844e-02</td>\n",
       "      <td>7.817e+00</td>\n",
       "      <td>4.104e+00</td>\n",
       "      <td>4.104e+00</td>\n",
       "    </tr>\n",
       "    <tr>\n",
       "      <th>7</th>\n",
       "      <td>2.356e-05</td>\n",
       "      <td>4.466e+00</td>\n",
       "      <td>4.644e+01</td>\n",
       "      <td>-2.407e+01</td>\n",
       "      <td>-2.407e+01</td>\n",
       "      <td>0.000e+00</td>\n",
       "      <td>1.026e-01</td>\n",
       "      <td>1.033e-01</td>\n",
       "      <td>1.033e-01</td>\n",
       "      <td>1.040e+01</td>\n",
       "      <td>5.389e+00</td>\n",
       "      <td>5.389e+00</td>\n",
       "    </tr>\n",
       "    <tr>\n",
       "      <th>8</th>\n",
       "      <td>2.478e-05</td>\n",
       "      <td>4.385e+00</td>\n",
       "      <td>6.726e+01</td>\n",
       "      <td>-3.444e+01</td>\n",
       "      <td>-3.444e+01</td>\n",
       "      <td>0.000e+00</td>\n",
       "      <td>1.080e-01</td>\n",
       "      <td>1.083e-01</td>\n",
       "      <td>1.083e-01</td>\n",
       "      <td>1.534e+01</td>\n",
       "      <td>7.854e+00</td>\n",
       "      <td>7.854e+00</td>\n",
       "    </tr>\n",
       "    <tr>\n",
       "      <th>9</th>\n",
       "      <td>2.600e-05</td>\n",
       "      <td>4.308e+00</td>\n",
       "      <td>1.233e+02</td>\n",
       "      <td>-6.241e+01</td>\n",
       "      <td>-6.241e+01</td>\n",
       "      <td>0.000e+00</td>\n",
       "      <td>1.133e-01</td>\n",
       "      <td>1.134e-01</td>\n",
       "      <td>1.134e-01</td>\n",
       "      <td>2.861e+01</td>\n",
       "      <td>1.449e+01</td>\n",
       "      <td>1.449e+01</td>\n",
       "    </tr>\n",
       "  </tbody>\n",
       "</table>\n",
       "</div>"
      ],
      "text/plain": [
       "   source_x      mu_1      mu_2       mu_3       mu_4      td_1      td_2  \\\n",
       "0 1.500e-05 5.165e+00 1.520e+01 -8.792e+00 -8.792e+00 0.000e+00 6.536e-02   \n",
       "1 1.622e-05 5.049e+00 1.675e+01 -9.508e+00 -9.508e+00 0.000e+00 7.068e-02   \n",
       "2 1.744e-05 4.938e+00 1.868e+01 -1.042e+01 -1.042e+01 0.000e+00 7.601e-02   \n",
       "3 1.867e-05 4.834e+00 2.114e+01 -1.160e+01 -1.160e+01 0.000e+00 8.133e-02   \n",
       "4 1.989e-05 4.735e+00 2.439e+01 -1.318e+01 -1.318e+01 0.000e+00 8.666e-02   \n",
       "5 2.111e-05 4.641e+00 2.891e+01 -1.539e+01 -1.539e+01 0.000e+00 9.198e-02   \n",
       "6 2.233e-05 4.551e+00 3.558e+01 -1.868e+01 -1.868e+01 0.000e+00 9.731e-02   \n",
       "7 2.356e-05 4.466e+00 4.644e+01 -2.407e+01 -2.407e+01 0.000e+00 1.026e-01   \n",
       "8 2.478e-05 4.385e+00 6.726e+01 -3.444e+01 -3.444e+01 0.000e+00 1.080e-01   \n",
       "9 2.600e-05 4.308e+00 1.233e+02 -6.241e+01 -6.241e+01 0.000e+00 1.133e-01   \n",
       "\n",
       "       td_3      td_4       I_2       I_3       I_4  \n",
       "0 7.192e-02 7.192e-02 2.944e+00 1.702e+00 1.702e+00  \n",
       "1 7.604e-02 7.604e-02 3.318e+00 1.883e+00 1.883e+00  \n",
       "2 8.028e-02 8.028e-02 3.782e+00 2.109e+00 2.109e+00  \n",
       "3 8.464e-02 8.464e-02 4.373e+00 2.399e+00 2.399e+00  \n",
       "4 8.912e-02 8.912e-02 5.152e+00 2.783e+00 2.783e+00  \n",
       "5 9.372e-02 9.372e-02 6.229e+00 3.316e+00 3.316e+00  \n",
       "6 9.844e-02 9.844e-02 7.817e+00 4.104e+00 4.104e+00  \n",
       "7 1.033e-01 1.033e-01 1.040e+01 5.389e+00 5.389e+00  \n",
       "8 1.083e-01 1.083e-01 1.534e+01 7.854e+00 7.854e+00  \n",
       "9 1.134e-01 1.134e-01 2.861e+01 1.449e+01 1.449e+01  "
      ]
     },
     "execution_count": 28,
     "metadata": {},
     "output_type": "execute_result"
    }
   ],
   "source": [
    "df_theta_0_four = pd.read_csv(datadirName + \"flux_fourimages_theta_0.csv\")\n",
    "df_theta_0_four = dataframe_sorted_four_images(df_theta_0_four)\n",
    "df_theta_0_four['source_x'] = df_theta_0_four['source_x'] \n",
    "df_theta_0_four['td_2'] = df_theta_0_four['td_2'] * 86400 \n",
    "df_theta_0_four['td_3'] = df_theta_0_four['td_3'] * 86400 \n",
    "df_theta_0_four['td_4'] = df_theta_0_four['td_4'] * 86400 \n",
    "df_theta_0_four['I_2'] = np.abs(df_theta_0_four['mu_2']) / np.abs(df_theta_0_four['mu_1'])\n",
    "df_theta_0_four['I_3'] = np.abs(df_theta_0_four['mu_3']) / np.abs(df_theta_0_four['mu_1'])\n",
    "df_theta_0_four['I_4'] = np.abs(df_theta_0_four['mu_4']) / np.abs(df_theta_0_four['mu_1'])\n",
    "df_theta_0_four"
   ]
  },
  {
   "cell_type": "code",
   "execution_count": 29,
   "metadata": {},
   "outputs": [
    {
     "data": {
      "text/html": [
       "<div>\n",
       "<style scoped>\n",
       "    .dataframe tbody tr th:only-of-type {\n",
       "        vertical-align: middle;\n",
       "    }\n",
       "\n",
       "    .dataframe tbody tr th {\n",
       "        vertical-align: top;\n",
       "    }\n",
       "\n",
       "    .dataframe thead th {\n",
       "        text-align: right;\n",
       "    }\n",
       "</style>\n",
       "<table border=\"1\" class=\"dataframe\">\n",
       "  <thead>\n",
       "    <tr style=\"text-align: right;\">\n",
       "      <th></th>\n",
       "      <th>source_x</th>\n",
       "      <th>mu_1</th>\n",
       "      <th>mu_2</th>\n",
       "      <th>mu_3</th>\n",
       "      <th>mu_4</th>\n",
       "      <th>td_1</th>\n",
       "      <th>td_2</th>\n",
       "      <th>td_3</th>\n",
       "      <th>td_4</th>\n",
       "      <th>I_2</th>\n",
       "      <th>I_3</th>\n",
       "      <th>I_4</th>\n",
       "    </tr>\n",
       "  </thead>\n",
       "  <tbody>\n",
       "    <tr>\n",
       "      <th>0</th>\n",
       "      <td>1.273e-05</td>\n",
       "      <td>6.016e+00</td>\n",
       "      <td>1.647e+01</td>\n",
       "      <td>-1.500e+01</td>\n",
       "      <td>-4.682e+00</td>\n",
       "      <td>0.000e+00</td>\n",
       "      <td>3.707e-02</td>\n",
       "      <td>3.862e-02</td>\n",
       "      <td>7.298e-02</td>\n",
       "      <td>2.737e+00</td>\n",
       "      <td>2.494e+00</td>\n",
       "      <td>7.783e-01</td>\n",
       "    </tr>\n",
       "    <tr>\n",
       "      <th>1</th>\n",
       "      <td>1.289e-05</td>\n",
       "      <td>6.003e+00</td>\n",
       "      <td>1.712e+01</td>\n",
       "      <td>-1.565e+01</td>\n",
       "      <td>-4.670e+00</td>\n",
       "      <td>0.000e+00</td>\n",
       "      <td>3.746e-02</td>\n",
       "      <td>3.883e-02</td>\n",
       "      <td>7.354e-02</td>\n",
       "      <td>2.852e+00</td>\n",
       "      <td>2.608e+00</td>\n",
       "      <td>7.779e-01</td>\n",
       "    </tr>\n",
       "    <tr>\n",
       "      <th>2</th>\n",
       "      <td>1.304e-05</td>\n",
       "      <td>5.990e+00</td>\n",
       "      <td>1.786e+01</td>\n",
       "      <td>-1.640e+01</td>\n",
       "      <td>-4.657e+00</td>\n",
       "      <td>0.000e+00</td>\n",
       "      <td>3.785e-02</td>\n",
       "      <td>3.904e-02</td>\n",
       "      <td>7.411e-02</td>\n",
       "      <td>2.982e+00</td>\n",
       "      <td>2.738e+00</td>\n",
       "      <td>7.774e-01</td>\n",
       "    </tr>\n",
       "    <tr>\n",
       "      <th>3</th>\n",
       "      <td>1.320e-05</td>\n",
       "      <td>5.977e+00</td>\n",
       "      <td>1.873e+01</td>\n",
       "      <td>-1.727e+01</td>\n",
       "      <td>-4.644e+00</td>\n",
       "      <td>0.000e+00</td>\n",
       "      <td>3.823e-02</td>\n",
       "      <td>3.925e-02</td>\n",
       "      <td>7.467e-02</td>\n",
       "      <td>3.134e+00</td>\n",
       "      <td>2.889e+00</td>\n",
       "      <td>7.770e-01</td>\n",
       "    </tr>\n",
       "    <tr>\n",
       "      <th>4</th>\n",
       "      <td>1.336e-05</td>\n",
       "      <td>5.964e+00</td>\n",
       "      <td>1.976e+01</td>\n",
       "      <td>-1.829e+01</td>\n",
       "      <td>-4.632e+00</td>\n",
       "      <td>0.000e+00</td>\n",
       "      <td>3.861e-02</td>\n",
       "      <td>3.947e-02</td>\n",
       "      <td>7.524e-02</td>\n",
       "      <td>3.313e+00</td>\n",
       "      <td>3.067e+00</td>\n",
       "      <td>7.765e-01</td>\n",
       "    </tr>\n",
       "    <tr>\n",
       "      <th>5</th>\n",
       "      <td>1.351e-05</td>\n",
       "      <td>5.952e+00</td>\n",
       "      <td>2.100e+01</td>\n",
       "      <td>-1.953e+01</td>\n",
       "      <td>-4.619e+00</td>\n",
       "      <td>0.000e+00</td>\n",
       "      <td>3.899e-02</td>\n",
       "      <td>3.969e-02</td>\n",
       "      <td>7.581e-02</td>\n",
       "      <td>3.528e+00</td>\n",
       "      <td>3.282e+00</td>\n",
       "      <td>7.761e-01</td>\n",
       "    </tr>\n",
       "    <tr>\n",
       "      <th>6</th>\n",
       "      <td>1.367e-05</td>\n",
       "      <td>5.939e+00</td>\n",
       "      <td>2.253e+01</td>\n",
       "      <td>-2.107e+01</td>\n",
       "      <td>-4.606e+00</td>\n",
       "      <td>0.000e+00</td>\n",
       "      <td>3.936e-02</td>\n",
       "      <td>3.992e-02</td>\n",
       "      <td>7.637e-02</td>\n",
       "      <td>3.794e+00</td>\n",
       "      <td>3.547e+00</td>\n",
       "      <td>7.756e-01</td>\n",
       "    </tr>\n",
       "    <tr>\n",
       "      <th>7</th>\n",
       "      <td>1.383e-05</td>\n",
       "      <td>5.926e+00</td>\n",
       "      <td>2.450e+01</td>\n",
       "      <td>-2.303e+01</td>\n",
       "      <td>-4.594e+00</td>\n",
       "      <td>0.000e+00</td>\n",
       "      <td>3.972e-02</td>\n",
       "      <td>4.015e-02</td>\n",
       "      <td>7.694e-02</td>\n",
       "      <td>4.134e+00</td>\n",
       "      <td>3.887e+00</td>\n",
       "      <td>7.751e-01</td>\n",
       "    </tr>\n",
       "    <tr>\n",
       "      <th>8</th>\n",
       "      <td>1.399e-05</td>\n",
       "      <td>5.914e+00</td>\n",
       "      <td>2.716e+01</td>\n",
       "      <td>-2.569e+01</td>\n",
       "      <td>-4.581e+00</td>\n",
       "      <td>0.000e+00</td>\n",
       "      <td>4.008e-02</td>\n",
       "      <td>4.039e-02</td>\n",
       "      <td>7.751e-02</td>\n",
       "      <td>4.592e+00</td>\n",
       "      <td>4.344e+00</td>\n",
       "      <td>7.747e-01</td>\n",
       "    </tr>\n",
       "    <tr>\n",
       "      <th>9</th>\n",
       "      <td>1.414e-05</td>\n",
       "      <td>5.901e+00</td>\n",
       "      <td>3.101e+01</td>\n",
       "      <td>-2.955e+01</td>\n",
       "      <td>-4.569e+00</td>\n",
       "      <td>0.000e+00</td>\n",
       "      <td>4.043e-02</td>\n",
       "      <td>4.064e-02</td>\n",
       "      <td>7.808e-02</td>\n",
       "      <td>5.255e+00</td>\n",
       "      <td>5.007e+00</td>\n",
       "      <td>7.742e-01</td>\n",
       "    </tr>\n",
       "  </tbody>\n",
       "</table>\n",
       "</div>"
      ],
      "text/plain": [
       "   source_x      mu_1      mu_2       mu_3       mu_4      td_1      td_2  \\\n",
       "0 1.273e-05 6.016e+00 1.647e+01 -1.500e+01 -4.682e+00 0.000e+00 3.707e-02   \n",
       "1 1.289e-05 6.003e+00 1.712e+01 -1.565e+01 -4.670e+00 0.000e+00 3.746e-02   \n",
       "2 1.304e-05 5.990e+00 1.786e+01 -1.640e+01 -4.657e+00 0.000e+00 3.785e-02   \n",
       "3 1.320e-05 5.977e+00 1.873e+01 -1.727e+01 -4.644e+00 0.000e+00 3.823e-02   \n",
       "4 1.336e-05 5.964e+00 1.976e+01 -1.829e+01 -4.632e+00 0.000e+00 3.861e-02   \n",
       "5 1.351e-05 5.952e+00 2.100e+01 -1.953e+01 -4.619e+00 0.000e+00 3.899e-02   \n",
       "6 1.367e-05 5.939e+00 2.253e+01 -2.107e+01 -4.606e+00 0.000e+00 3.936e-02   \n",
       "7 1.383e-05 5.926e+00 2.450e+01 -2.303e+01 -4.594e+00 0.000e+00 3.972e-02   \n",
       "8 1.399e-05 5.914e+00 2.716e+01 -2.569e+01 -4.581e+00 0.000e+00 4.008e-02   \n",
       "9 1.414e-05 5.901e+00 3.101e+01 -2.955e+01 -4.569e+00 0.000e+00 4.043e-02   \n",
       "\n",
       "       td_3      td_4       I_2       I_3       I_4  \n",
       "0 3.862e-02 7.298e-02 2.737e+00 2.494e+00 7.783e-01  \n",
       "1 3.883e-02 7.354e-02 2.852e+00 2.608e+00 7.779e-01  \n",
       "2 3.904e-02 7.411e-02 2.982e+00 2.738e+00 7.774e-01  \n",
       "3 3.925e-02 7.467e-02 3.134e+00 2.889e+00 7.770e-01  \n",
       "4 3.947e-02 7.524e-02 3.313e+00 3.067e+00 7.765e-01  \n",
       "5 3.969e-02 7.581e-02 3.528e+00 3.282e+00 7.761e-01  \n",
       "6 3.992e-02 7.637e-02 3.794e+00 3.547e+00 7.756e-01  \n",
       "7 4.015e-02 7.694e-02 4.134e+00 3.887e+00 7.751e-01  \n",
       "8 4.039e-02 7.751e-02 4.592e+00 4.344e+00 7.747e-01  \n",
       "9 4.064e-02 7.808e-02 5.255e+00 5.007e+00 7.742e-01  "
      ]
     },
     "execution_count": 29,
     "metadata": {},
     "output_type": "execute_result"
    }
   ],
   "source": [
    "df_theta_45_four = pd.read_csv(datadirName + \"flux_fourimages_theta_45.csv\")\n",
    "df_theta_45_four = dataframe_sorted_four_images(df_theta_45_four)\n",
    "df_theta_45_four['source_x'] = df_theta_45_four['source_x'] \n",
    "df_theta_45_four['td_2'] = df_theta_45_four['td_2'] * 86400 \n",
    "df_theta_45_four['td_3'] = df_theta_45_four['td_3'] * 86400 \n",
    "df_theta_45_four['td_4'] = df_theta_45_four['td_4'] * 86400 \n",
    "df_theta_45_four['I_2'] = np.abs(df_theta_45_four['mu_2']) / np.abs(df_theta_45_four['mu_1'])\n",
    "df_theta_45_four['I_3'] = np.abs(df_theta_45_four['mu_3']) / np.abs(df_theta_45_four['mu_1'])\n",
    "df_theta_45_four['I_4'] = np.abs(df_theta_45_four['mu_4']) / np.abs(df_theta_45_four['mu_1'])\n",
    "df_theta_45_four"
   ]
  },
  {
   "cell_type": "code",
   "execution_count": 30,
   "metadata": {},
   "outputs": [
    {
     "data": {
      "text/html": [
       "<div>\n",
       "<style scoped>\n",
       "    .dataframe tbody tr th:only-of-type {\n",
       "        vertical-align: middle;\n",
       "    }\n",
       "\n",
       "    .dataframe tbody tr th {\n",
       "        vertical-align: top;\n",
       "    }\n",
       "\n",
       "    .dataframe thead th {\n",
       "        text-align: right;\n",
       "    }\n",
       "</style>\n",
       "<table border=\"1\" class=\"dataframe\">\n",
       "  <thead>\n",
       "    <tr style=\"text-align: right;\">\n",
       "      <th></th>\n",
       "      <th>source_x</th>\n",
       "      <th>mu_1</th>\n",
       "      <th>mu_2</th>\n",
       "      <th>mu_3</th>\n",
       "      <th>mu_4</th>\n",
       "      <th>td_1</th>\n",
       "      <th>td_2</th>\n",
       "      <th>td_3</th>\n",
       "      <th>td_4</th>\n",
       "      <th>I_2</th>\n",
       "      <th>I_3</th>\n",
       "      <th>I_4</th>\n",
       "    </tr>\n",
       "  </thead>\n",
       "  <tbody>\n",
       "    <tr>\n",
       "      <th>0</th>\n",
       "      <td>2.000e-05</td>\n",
       "      <td>1.227e+01</td>\n",
       "      <td>1.227e+01</td>\n",
       "      <td>-1.842e+01</td>\n",
       "      <td>-3.301e+00</td>\n",
       "      <td>0.000e+00</td>\n",
       "      <td>1.317e-15</td>\n",
       "      <td>3.830e-03</td>\n",
       "      <td>8.473e-02</td>\n",
       "      <td>1.000e+00</td>\n",
       "      <td>1.501e+00</td>\n",
       "      <td>2.691e-01</td>\n",
       "    </tr>\n",
       "    <tr>\n",
       "      <th>1</th>\n",
       "      <td>2.111e-05</td>\n",
       "      <td>1.328e+01</td>\n",
       "      <td>1.328e+01</td>\n",
       "      <td>-2.052e+01</td>\n",
       "      <td>-3.210e+00</td>\n",
       "      <td>0.000e+00</td>\n",
       "      <td>3.373e-12</td>\n",
       "      <td>3.108e-03</td>\n",
       "      <td>8.850e-02</td>\n",
       "      <td>1.000e+00</td>\n",
       "      <td>1.546e+00</td>\n",
       "      <td>2.418e-01</td>\n",
       "    </tr>\n",
       "    <tr>\n",
       "      <th>2</th>\n",
       "      <td>2.222e-05</td>\n",
       "      <td>1.454e+01</td>\n",
       "      <td>1.454e+01</td>\n",
       "      <td>-2.313e+01</td>\n",
       "      <td>-3.123e+00</td>\n",
       "      <td>0.000e+00</td>\n",
       "      <td>3.875e-14</td>\n",
       "      <td>2.462e-03</td>\n",
       "      <td>9.235e-02</td>\n",
       "      <td>1.000e+00</td>\n",
       "      <td>1.591e+00</td>\n",
       "      <td>2.148e-01</td>\n",
       "    </tr>\n",
       "    <tr>\n",
       "      <th>3</th>\n",
       "      <td>2.333e-05</td>\n",
       "      <td>1.616e+01</td>\n",
       "      <td>1.616e+01</td>\n",
       "      <td>-2.646e+01</td>\n",
       "      <td>-3.039e+00</td>\n",
       "      <td>0.000e+00</td>\n",
       "      <td>7.121e-13</td>\n",
       "      <td>1.894e-03</td>\n",
       "      <td>9.628e-02</td>\n",
       "      <td>1.000e+00</td>\n",
       "      <td>1.637e+00</td>\n",
       "      <td>1.880e-01</td>\n",
       "    </tr>\n",
       "    <tr>\n",
       "      <th>4</th>\n",
       "      <td>2.444e-05</td>\n",
       "      <td>1.832e+01</td>\n",
       "      <td>1.832e+01</td>\n",
       "      <td>-3.086e+01</td>\n",
       "      <td>-2.959e+00</td>\n",
       "      <td>0.000e+00</td>\n",
       "      <td>4.114e-12</td>\n",
       "      <td>1.402e-03</td>\n",
       "      <td>1.003e-01</td>\n",
       "      <td>1.000e+00</td>\n",
       "      <td>1.684e+00</td>\n",
       "      <td>1.615e-01</td>\n",
       "    </tr>\n",
       "    <tr>\n",
       "      <th>5</th>\n",
       "      <td>2.556e-05</td>\n",
       "      <td>2.133e+01</td>\n",
       "      <td>2.133e+01</td>\n",
       "      <td>-3.694e+01</td>\n",
       "      <td>-2.881e+00</td>\n",
       "      <td>0.000e+00</td>\n",
       "      <td>3.293e-16</td>\n",
       "      <td>9.850e-04</td>\n",
       "      <td>1.044e-01</td>\n",
       "      <td>1.000e+00</td>\n",
       "      <td>1.732e+00</td>\n",
       "      <td>1.351e-01</td>\n",
       "    </tr>\n",
       "    <tr>\n",
       "      <th>6</th>\n",
       "      <td>2.667e-05</td>\n",
       "      <td>2.576e+01</td>\n",
       "      <td>2.576e+01</td>\n",
       "      <td>-4.589e+01</td>\n",
       "      <td>-2.807e+00</td>\n",
       "      <td>0.000e+00</td>\n",
       "      <td>5.123e-16</td>\n",
       "      <td>6.426e-04</td>\n",
       "      <td>1.085e-01</td>\n",
       "      <td>1.000e+00</td>\n",
       "      <td>1.781e+00</td>\n",
       "      <td>1.090e-01</td>\n",
       "    </tr>\n",
       "    <tr>\n",
       "      <th>7</th>\n",
       "      <td>2.778e-05</td>\n",
       "      <td>3.296e+01</td>\n",
       "      <td>3.296e+01</td>\n",
       "      <td>-6.035e+01</td>\n",
       "      <td>-2.736e+00</td>\n",
       "      <td>0.000e+00</td>\n",
       "      <td>3.659e-17</td>\n",
       "      <td>3.739e-04</td>\n",
       "      <td>1.127e-01</td>\n",
       "      <td>1.000e+00</td>\n",
       "      <td>1.831e+00</td>\n",
       "      <td>8.300e-02</td>\n",
       "    </tr>\n",
       "    <tr>\n",
       "      <th>8</th>\n",
       "      <td>2.889e-05</td>\n",
       "      <td>4.661e+01</td>\n",
       "      <td>4.661e+01</td>\n",
       "      <td>-8.771e+01</td>\n",
       "      <td>-2.667e+00</td>\n",
       "      <td>0.000e+00</td>\n",
       "      <td>7.589e-14</td>\n",
       "      <td>1.781e-04</td>\n",
       "      <td>1.170e-01</td>\n",
       "      <td>1.000e+00</td>\n",
       "      <td>1.882e+00</td>\n",
       "      <td>5.722e-02</td>\n",
       "    </tr>\n",
       "    <tr>\n",
       "      <th>9</th>\n",
       "      <td>3.000e-05</td>\n",
       "      <td>8.229e+01</td>\n",
       "      <td>8.229e+01</td>\n",
       "      <td>-1.591e+02</td>\n",
       "      <td>-2.600e+00</td>\n",
       "      <td>0.000e+00</td>\n",
       "      <td>1.371e-10</td>\n",
       "      <td>5.444e-05</td>\n",
       "      <td>1.214e-01</td>\n",
       "      <td>1.000e+00</td>\n",
       "      <td>1.934e+00</td>\n",
       "      <td>3.160e-02</td>\n",
       "    </tr>\n",
       "  </tbody>\n",
       "</table>\n",
       "</div>"
      ],
      "text/plain": [
       "   source_x      mu_1      mu_2       mu_3       mu_4      td_1      td_2  \\\n",
       "0 2.000e-05 1.227e+01 1.227e+01 -1.842e+01 -3.301e+00 0.000e+00 1.317e-15   \n",
       "1 2.111e-05 1.328e+01 1.328e+01 -2.052e+01 -3.210e+00 0.000e+00 3.373e-12   \n",
       "2 2.222e-05 1.454e+01 1.454e+01 -2.313e+01 -3.123e+00 0.000e+00 3.875e-14   \n",
       "3 2.333e-05 1.616e+01 1.616e+01 -2.646e+01 -3.039e+00 0.000e+00 7.121e-13   \n",
       "4 2.444e-05 1.832e+01 1.832e+01 -3.086e+01 -2.959e+00 0.000e+00 4.114e-12   \n",
       "5 2.556e-05 2.133e+01 2.133e+01 -3.694e+01 -2.881e+00 0.000e+00 3.293e-16   \n",
       "6 2.667e-05 2.576e+01 2.576e+01 -4.589e+01 -2.807e+00 0.000e+00 5.123e-16   \n",
       "7 2.778e-05 3.296e+01 3.296e+01 -6.035e+01 -2.736e+00 0.000e+00 3.659e-17   \n",
       "8 2.889e-05 4.661e+01 4.661e+01 -8.771e+01 -2.667e+00 0.000e+00 7.589e-14   \n",
       "9 3.000e-05 8.229e+01 8.229e+01 -1.591e+02 -2.600e+00 0.000e+00 1.371e-10   \n",
       "\n",
       "       td_3      td_4       I_2       I_3       I_4  \n",
       "0 3.830e-03 8.473e-02 1.000e+00 1.501e+00 2.691e-01  \n",
       "1 3.108e-03 8.850e-02 1.000e+00 1.546e+00 2.418e-01  \n",
       "2 2.462e-03 9.235e-02 1.000e+00 1.591e+00 2.148e-01  \n",
       "3 1.894e-03 9.628e-02 1.000e+00 1.637e+00 1.880e-01  \n",
       "4 1.402e-03 1.003e-01 1.000e+00 1.684e+00 1.615e-01  \n",
       "5 9.850e-04 1.044e-01 1.000e+00 1.732e+00 1.351e-01  \n",
       "6 6.426e-04 1.085e-01 1.000e+00 1.781e+00 1.090e-01  \n",
       "7 3.739e-04 1.127e-01 1.000e+00 1.831e+00 8.300e-02  \n",
       "8 1.781e-04 1.170e-01 1.000e+00 1.882e+00 5.722e-02  \n",
       "9 5.444e-05 1.214e-01 1.000e+00 1.934e+00 3.160e-02  "
      ]
     },
     "execution_count": 30,
     "metadata": {},
     "output_type": "execute_result"
    }
   ],
   "source": [
    "df_theta_90_four = pd.read_csv(datadirName + \"flux_fourimages_theta_90.csv\")\n",
    "df_theta_90_four = dataframe_sorted_four_images(df_theta_90_four)\n",
    "df_theta_90_four['source_x'] = df_theta_90_four['source_x'] \n",
    "df_theta_90_four['td_2'] = df_theta_90_four['td_2'] * 86400 \n",
    "df_theta_90_four['td_3'] = df_theta_90_four['td_3'] * 86400 \n",
    "df_theta_90_four['td_4'] = df_theta_90_four['td_4'] * 86400 \n",
    "df_theta_90_four['I_2'] = np.abs(df_theta_90_four['mu_2']) / np.abs(df_theta_90_four['mu_1'])\n",
    "df_theta_90_four['I_3'] = np.abs(df_theta_90_four['mu_3']) / np.abs(df_theta_90_four['mu_1'])\n",
    "df_theta_90_four['I_4'] = np.abs(df_theta_90_four['mu_4']) / np.abs(df_theta_90_four['mu_1'])\n",
    "df_theta_90_four"
   ]
  },
  {
   "cell_type": "code",
   "execution_count": 31,
   "metadata": {},
   "outputs": [
    {
     "data": {
      "text/plain": [
       "<matplotlib.legend.Legend at 0x7fb4912c3a50>"
      ]
     },
     "execution_count": 31,
     "metadata": {},
     "output_type": "execute_result"
    },
    {
     "data": {
      "image/png": "[encoded data removed]",
      "text/plain": [
       "<Figure size 576x360 with 1 Axes>"
      ]
     },
     "metadata": {
      "needs_background": "light"
     },
     "output_type": "display_data"
    }
   ],
   "source": [
    "plt.figure(figsize = (8, 5))\n",
    "plt.loglog(np.array(df_theta_0_four['source_x']), np.array(df_theta_0_four['I_2']), label = r'$I_2$')\n",
    "plt.loglog(np.array(df_theta_0_four['source_x']), np.array(df_theta_0_four['I_3']), label = r'$I_3$')\n",
    "plt.loglog(np.array(df_theta_0_four['source_x']), np.array(df_theta_0_four['I_4']), label = r'$I_4$')\n",
    "plt.xlabel('y')\n",
    "plt.ylabel('Flux ratio')\n",
    "plt.legend()"
   ]
  },
  {
   "cell_type": "code",
   "execution_count": 32,
   "metadata": {},
   "outputs": [
    {
     "data": {
      "text/plain": [
       "<matplotlib.legend.Legend at 0x7fb491608550>"
      ]
     },
     "execution_count": 32,
     "metadata": {},
     "output_type": "execute_result"
    },
    {
     "data": {
      "image/png": "[encoded data removed]",
      "text/plain": [
       "<Figure size 576x360 with 1 Axes>"
      ]
     },
     "metadata": {
      "needs_background": "light"
     },
     "output_type": "display_data"
    }
   ],
   "source": [
    "plt.figure(figsize = (8, 5))\n",
    "plt.loglog(np.array(df_theta_45_four['source_x']), np.array(df_theta_45_four['I_2']), label = r'$I_2$', ls = '--')\n",
    "plt.loglog(np.array(df_theta_45_four['source_x']), np.array(df_theta_45_four['I_3']), label = r'$I_3$', ls = '--')\n",
    "plt.loglog(np.array(df_theta_45_four['source_x']), np.array(df_theta_45_four['I_4']), label = r'$I_4$', ls = '--')\n",
    "plt.xlabel('y')\n",
    "plt.ylabel('Flux ratio')\n",
    "plt.legend()"
   ]
  },
  {
   "cell_type": "code",
   "execution_count": 33,
   "metadata": {},
   "outputs": [
    {
     "data": {
      "text/plain": [
       "<matplotlib.legend.Legend at 0x7fb491817950>"
      ]
     },
     "execution_count": 33,
     "metadata": {},
     "output_type": "execute_result"
    },
    {
     "data": {
      "image/png": "[encoded data removed]",
      "text/plain": [
       "<Figure size 576x360 with 1 Axes>"
      ]
     },
     "metadata": {
      "needs_background": "light"
     },
     "output_type": "display_data"
    }
   ],
   "source": [
    "plt.figure(figsize = (8, 5))\n",
    "plt.loglog(np.array(df_theta_90_four['source_x']), np.array(df_theta_90_four['I_2']), label = r'$I_2$', ls = '-.')\n",
    "plt.loglog(np.array(df_theta_90_four['source_x']), np.array(df_theta_90_four['I_3']), label = r'$I_3$', ls = '-.')\n",
    "plt.loglog(np.array(df_theta_90_four['source_x']), np.array(df_theta_90_four['I_4']), label = r'$I_4$', ls = '-.')\n",
    "plt.legend()"
   ]
  },
  {
   "cell_type": "code",
   "execution_count": 35,
   "metadata": {},
   "outputs": [
    {
     "data": {
      "text/plain": [
       "<matplotlib.legend.Legend at 0x7fb492e159d0>"
      ]
     },
     "execution_count": 35,
     "metadata": {},
     "output_type": "execute_result"
    },
    {
     "data": {
      "image/png": "[encoded data removed]",
      "text/plain": [
       "<Figure size 720x1296 with 3 Axes>"
      ]
     },
     "metadata": {
      "needs_background": "light"
     },
     "output_type": "display_data"
    }
   ],
   "source": [
    "plt.figure(figsize = (10, 18))\n",
    "# TIME DELAY PLOT FOR THETA = 0 DEG\n",
    "plt.subplot(3, 1, 1)\n",
    "#plt.figure(figsize = (8, 5))\n",
    "plt.loglog(np.array(df_theta_0_four['source_x']), np.array(df_theta_0_four['td_2']), label = r'$td_2$')\n",
    "plt.loglog(np.array(df_theta_0_four['source_x']), np.array(df_theta_0_four['td_3']), label = r'$td_3$')\n",
    "plt.loglog(np.array(df_theta_0_four['source_x']), np.array(df_theta_0_four['td_4']), label = r'$td_4$')\n",
    "plt.axhline(y = 0.05, ls = '--', label = r'$1 / f_{min}$')\n",
    "plt.xlabel('y')\n",
    "plt.ylabel(r'$\\Delta t_d$')\n",
    "plt.title(\"time delay for theta = 0\")\n",
    "plt.legend()\n",
    "\n",
    "\n",
    "# TIME DELAY PLOT FOR THETA = 45 DEG\n",
    "plt.subplot(3, 1, 2)\n",
    "#plt.figure(figsize = (8, 5))\n",
    "plt.loglog(np.array(df_theta_45_four['source_x']), np.array(df_theta_45_four['td_2']), label = r'$td_2$')\n",
    "plt.loglog(np.array(df_theta_45_four['source_x']), np.array(df_theta_45_four['td_3']), label = r'$td_3$')\n",
    "plt.loglog(np.array(df_theta_45_four['source_x']), np.array(df_theta_45_four['td_4']), label = r'$td_4$')\n",
    "plt.axhline(y = 0.05, ls = '--', label = r'$1 / f_{min}$')\n",
    "plt.xlabel('y')\n",
    "plt.ylabel(r'$\\Delta t_d$')\n",
    "plt.title(\"time delay for theta = pi/4\")\n",
    "plt.legend()\n",
    "\n",
    "# TIME DELAY PLOT FOR THETA = 90 DEG\n",
    "plt.subplot(3, 1, 3)\n",
    "#plt.figure(figsize = (8, 5))\n",
    "plt.loglog(np.array(df_theta_90_four['source_x']), np.array(df_theta_90_four['td_2']), label = r'$td_2$')\n",
    "plt.loglog(np.array(df_theta_90_four['source_x']), np.array(df_theta_90_four['td_3']), label = r'$td_3$')\n",
    "plt.loglog(np.array(df_theta_90_four['source_x']), np.array(df_theta_90_four['td_4']), label = r'$td_4$')\n",
    "plt.axhline(y = 0.05, ls = '--', label = r'$1 / f_{min}$')\n",
    "plt.xlabel('y')\n",
    "plt.ylabel(r'$\\Delta t_d$')\n",
    "plt.title(\"time delay for theta = pi/2\")\n",
    "plt.legend()"
   ]
  },
  {
   "cell_type": "markdown",
   "metadata": {},
   "source": [
    "## READING THE TIME DELAY SURFACE "
   ]
  },
  {
   "cell_type": "code",
   "execution_count": 49,
   "metadata": {},
   "outputs": [
    {
     "name": "stdout",
     "output_type": "stream",
     "text": [
      "Filename: /Users/saifali/Desktop/gwlensing/SIE_glafic/out_td_point.fits\n",
      "No.    Name      Ver    Type      Cards   Dimensions   Format\n",
      "  0  PRIMARY       1 PrimaryHDU      17   (10, 10)   float32   \n"
     ]
    }
   ],
   "source": [
    "from astropy.io import fits\n",
    "fits_time_delay = fits.open('/Users/saifali/Desktop/gwlensing/SIE_glafic/out_td_point.fits')\n",
    "fits_time_delay.info()"
   ]
  },
  {
   "cell_type": "code",
   "execution_count": 50,
   "metadata": {},
   "outputs": [],
   "source": [
    "hdu_time_delay = fits_time_delay[0]\n",
    "time_dalay_data = hdu_time_delay.data"
   ]
  },
  {
   "cell_type": "code",
   "execution_count": 51,
   "metadata": {},
   "outputs": [],
   "source": [
    "x = np.arange(-5, 5, 0.2)\n",
    "y = np.arange(-5, 5, 0.2)\n",
    "xx, yy = np.meshgrid(x, y)"
   ]
  },
  {
   "cell_type": "code",
   "execution_count": 52,
   "metadata": {
    "collapsed": true,
    "jupyter": {
     "outputs_hidden": true,
     "source_hidden": true
    }
   },
   "outputs": [
    {
     "ename": "TypeError",
     "evalue": "Shape of x does not match that of z: found (50, 50) instead of (10, 10).",
     "output_type": "error",
     "traceback": [
      "\u001b[0;31m---------------------------------------------------------------------------\u001b[0m",
      "\u001b[0;31mTypeError\u001b[0m                                 Traceback (most recent call last)",
      "\u001b[0;32m<ipython-input-52-cbfc1bcc30f0>\u001b[0m in \u001b[0;36m<module>\u001b[0;34m\u001b[0m\n\u001b[1;32m      1\u001b[0m \u001b[0mfig\u001b[0m\u001b[0;34m,\u001b[0m \u001b[0max\u001b[0m \u001b[0;34m=\u001b[0m \u001b[0mplt\u001b[0m\u001b[0;34m.\u001b[0m\u001b[0msubplots\u001b[0m\u001b[0;34m(\u001b[0m\u001b[0mfigsize\u001b[0m \u001b[0;34m=\u001b[0m \u001b[0;34m(\u001b[0m\u001b[0;36m10\u001b[0m\u001b[0;34m,\u001b[0m \u001b[0;36m8\u001b[0m\u001b[0;34m)\u001b[0m\u001b[0;34m)\u001b[0m\u001b[0;34m\u001b[0m\u001b[0;34m\u001b[0m\u001b[0m\n\u001b[0;32m----> 2\u001b[0;31m \u001b[0mtime_delay_surf\u001b[0m \u001b[0;34m=\u001b[0m \u001b[0max\u001b[0m\u001b[0;34m.\u001b[0m\u001b[0mcontour\u001b[0m\u001b[0;34m(\u001b[0m\u001b[0mxx\u001b[0m\u001b[0;34m,\u001b[0m \u001b[0myy\u001b[0m\u001b[0;34m,\u001b[0m \u001b[0mtime_dalay_data\u001b[0m\u001b[0;34m,\u001b[0m \u001b[0;36m100\u001b[0m\u001b[0;34m)\u001b[0m\u001b[0;34m\u001b[0m\u001b[0;34m\u001b[0m\u001b[0m\n\u001b[0m\u001b[1;32m      3\u001b[0m \u001b[0max\u001b[0m\u001b[0;34m.\u001b[0m\u001b[0mplot\u001b[0m\u001b[0;34m(\u001b[0m\u001b[0;36m2.04880\u001b[0m\u001b[0;34m,\u001b[0m \u001b[0;36m0\u001b[0m\u001b[0;34m,\u001b[0m \u001b[0mmarker\u001b[0m \u001b[0;34m=\u001b[0m \u001b[0;34m'x'\u001b[0m\u001b[0;34m,\u001b[0m \u001b[0mlabel\u001b[0m \u001b[0;34m=\u001b[0m \u001b[0;34m'td = 0'\u001b[0m\u001b[0;34m)\u001b[0m\u001b[0;34m\u001b[0m\u001b[0;34m\u001b[0m\u001b[0m\n\u001b[1;32m      4\u001b[0m \u001b[0max\u001b[0m\u001b[0;34m.\u001b[0m\u001b[0mplot\u001b[0m\u001b[0;34m(\u001b[0m\u001b[0;34m-\u001b[0m\u001b[0;36m2.48800e-01\u001b[0m\u001b[0;34m,\u001b[0m \u001b[0;36m0\u001b[0m\u001b[0;34m,\u001b[0m \u001b[0mmarker\u001b[0m \u001b[0;34m=\u001b[0m \u001b[0;34m'x'\u001b[0m\u001b[0;34m,\u001b[0m \u001b[0mlabel\u001b[0m \u001b[0;34m=\u001b[0m \u001b[0;34m'td = 48.22'\u001b[0m\u001b[0;34m)\u001b[0m\u001b[0;34m\u001b[0m\u001b[0;34m\u001b[0m\u001b[0m\n\u001b[1;32m      5\u001b[0m \u001b[0;31m#plt.clabel(time_delay_surf, fontsize = 8)\u001b[0m\u001b[0;34m\u001b[0m\u001b[0;34m\u001b[0m\u001b[0;34m\u001b[0m\u001b[0m\n",
      "\u001b[0;32m~/opt/anaconda3/lib/python3.7/site-packages/matplotlib/__init__.py\u001b[0m in \u001b[0;36minner\u001b[0;34m(ax, data, *args, **kwargs)\u001b[0m\n\u001b[1;32m   1599\u001b[0m     \u001b[0;32mdef\u001b[0m \u001b[0minner\u001b[0m\u001b[0;34m(\u001b[0m\u001b[0max\u001b[0m\u001b[0;34m,\u001b[0m \u001b[0;34m*\u001b[0m\u001b[0margs\u001b[0m\u001b[0;34m,\u001b[0m \u001b[0mdata\u001b[0m\u001b[0;34m=\u001b[0m\u001b[0;32mNone\u001b[0m\u001b[0;34m,\u001b[0m \u001b[0;34m**\u001b[0m\u001b[0mkwargs\u001b[0m\u001b[0;34m)\u001b[0m\u001b[0;34m:\u001b[0m\u001b[0;34m\u001b[0m\u001b[0;34m\u001b[0m\u001b[0m\n\u001b[1;32m   1600\u001b[0m         \u001b[0;32mif\u001b[0m \u001b[0mdata\u001b[0m \u001b[0;32mis\u001b[0m \u001b[0;32mNone\u001b[0m\u001b[0;34m:\u001b[0m\u001b[0;34m\u001b[0m\u001b[0;34m\u001b[0m\u001b[0m\n\u001b[0;32m-> 1601\u001b[0;31m             \u001b[0;32mreturn\u001b[0m \u001b[0mfunc\u001b[0m\u001b[0;34m(\u001b[0m\u001b[0max\u001b[0m\u001b[0;34m,\u001b[0m \u001b[0;34m*\u001b[0m\u001b[0mmap\u001b[0m\u001b[0;34m(\u001b[0m\u001b[0msanitize_sequence\u001b[0m\u001b[0;34m,\u001b[0m \u001b[0margs\u001b[0m\u001b[0;34m)\u001b[0m\u001b[0;34m,\u001b[0m \u001b[0;34m**\u001b[0m\u001b[0mkwargs\u001b[0m\u001b[0;34m)\u001b[0m\u001b[0;34m\u001b[0m\u001b[0;34m\u001b[0m\u001b[0m\n\u001b[0m\u001b[1;32m   1602\u001b[0m \u001b[0;34m\u001b[0m\u001b[0m\n\u001b[1;32m   1603\u001b[0m         \u001b[0mbound\u001b[0m \u001b[0;34m=\u001b[0m \u001b[0mnew_sig\u001b[0m\u001b[0;34m.\u001b[0m\u001b[0mbind\u001b[0m\u001b[0;34m(\u001b[0m\u001b[0max\u001b[0m\u001b[0;34m,\u001b[0m \u001b[0;34m*\u001b[0m\u001b[0margs\u001b[0m\u001b[0;34m,\u001b[0m \u001b[0;34m**\u001b[0m\u001b[0mkwargs\u001b[0m\u001b[0;34m)\u001b[0m\u001b[0;34m\u001b[0m\u001b[0;34m\u001b[0m\u001b[0m\n",
      "\u001b[0;32m~/opt/anaconda3/lib/python3.7/site-packages/matplotlib/axes/_axes.py\u001b[0m in \u001b[0;36mcontour\u001b[0;34m(self, *args, **kwargs)\u001b[0m\n\u001b[1;32m   6412\u001b[0m     \u001b[0;32mdef\u001b[0m \u001b[0mcontour\u001b[0m\u001b[0;34m(\u001b[0m\u001b[0mself\u001b[0m\u001b[0;34m,\u001b[0m \u001b[0;34m*\u001b[0m\u001b[0margs\u001b[0m\u001b[0;34m,\u001b[0m \u001b[0;34m**\u001b[0m\u001b[0mkwargs\u001b[0m\u001b[0;34m)\u001b[0m\u001b[0;34m:\u001b[0m\u001b[0;34m\u001b[0m\u001b[0;34m\u001b[0m\u001b[0m\n\u001b[1;32m   6413\u001b[0m         \u001b[0mkwargs\u001b[0m\u001b[0;34m[\u001b[0m\u001b[0;34m'filled'\u001b[0m\u001b[0;34m]\u001b[0m \u001b[0;34m=\u001b[0m \u001b[0;32mFalse\u001b[0m\u001b[0;34m\u001b[0m\u001b[0;34m\u001b[0m\u001b[0m\n\u001b[0;32m-> 6414\u001b[0;31m         \u001b[0mcontours\u001b[0m \u001b[0;34m=\u001b[0m \u001b[0mmcontour\u001b[0m\u001b[0;34m.\u001b[0m\u001b[0mQuadContourSet\u001b[0m\u001b[0;34m(\u001b[0m\u001b[0mself\u001b[0m\u001b[0;34m,\u001b[0m \u001b[0;34m*\u001b[0m\u001b[0margs\u001b[0m\u001b[0;34m,\u001b[0m \u001b[0;34m**\u001b[0m\u001b[0mkwargs\u001b[0m\u001b[0;34m)\u001b[0m\u001b[0;34m\u001b[0m\u001b[0;34m\u001b[0m\u001b[0m\n\u001b[0m\u001b[1;32m   6415\u001b[0m         \u001b[0mself\u001b[0m\u001b[0;34m.\u001b[0m\u001b[0mautoscale_view\u001b[0m\u001b[0;34m(\u001b[0m\u001b[0;34m)\u001b[0m\u001b[0;34m\u001b[0m\u001b[0;34m\u001b[0m\u001b[0m\n\u001b[1;32m   6416\u001b[0m         \u001b[0;32mreturn\u001b[0m \u001b[0mcontours\u001b[0m\u001b[0;34m\u001b[0m\u001b[0;34m\u001b[0m\u001b[0m\n",
      "\u001b[0;32m~/opt/anaconda3/lib/python3.7/site-packages/matplotlib/contour.py\u001b[0m in \u001b[0;36m__init__\u001b[0;34m(self, ax, levels, filled, linewidths, linestyles, alpha, origin, extent, cmap, colors, norm, vmin, vmax, extend, antialiased, *args, **kwargs)\u001b[0m\n\u001b[1;32m    853\u001b[0m         \u001b[0mself\u001b[0m\u001b[0;34m.\u001b[0m\u001b[0m_transform\u001b[0m \u001b[0;34m=\u001b[0m \u001b[0mkwargs\u001b[0m\u001b[0;34m.\u001b[0m\u001b[0mpop\u001b[0m\u001b[0;34m(\u001b[0m\u001b[0;34m'transform'\u001b[0m\u001b[0;34m,\u001b[0m \u001b[0;32mNone\u001b[0m\u001b[0;34m)\u001b[0m\u001b[0;34m\u001b[0m\u001b[0;34m\u001b[0m\u001b[0m\n\u001b[1;32m    854\u001b[0m \u001b[0;34m\u001b[0m\u001b[0m\n\u001b[0;32m--> 855\u001b[0;31m         \u001b[0mkwargs\u001b[0m \u001b[0;34m=\u001b[0m \u001b[0mself\u001b[0m\u001b[0;34m.\u001b[0m\u001b[0m_process_args\u001b[0m\u001b[0;34m(\u001b[0m\u001b[0;34m*\u001b[0m\u001b[0margs\u001b[0m\u001b[0;34m,\u001b[0m \u001b[0;34m**\u001b[0m\u001b[0mkwargs\u001b[0m\u001b[0;34m)\u001b[0m\u001b[0;34m\u001b[0m\u001b[0;34m\u001b[0m\u001b[0m\n\u001b[0m\u001b[1;32m    856\u001b[0m         \u001b[0mself\u001b[0m\u001b[0;34m.\u001b[0m\u001b[0m_process_levels\u001b[0m\u001b[0;34m(\u001b[0m\u001b[0;34m)\u001b[0m\u001b[0;34m\u001b[0m\u001b[0;34m\u001b[0m\u001b[0m\n\u001b[1;32m    857\u001b[0m \u001b[0;34m\u001b[0m\u001b[0m\n",
      "\u001b[0;32m~/opt/anaconda3/lib/python3.7/site-packages/matplotlib/contour.py\u001b[0m in \u001b[0;36m_process_args\u001b[0;34m(self, *args, **kwargs)\u001b[0m\n\u001b[1;32m   1454\u001b[0m                 \u001b[0mself\u001b[0m\u001b[0;34m.\u001b[0m\u001b[0m_corner_mask\u001b[0m \u001b[0;34m=\u001b[0m \u001b[0mmpl\u001b[0m\u001b[0;34m.\u001b[0m\u001b[0mrcParams\u001b[0m\u001b[0;34m[\u001b[0m\u001b[0;34m'contour.corner_mask'\u001b[0m\u001b[0;34m]\u001b[0m\u001b[0;34m\u001b[0m\u001b[0;34m\u001b[0m\u001b[0m\n\u001b[1;32m   1455\u001b[0m \u001b[0;34m\u001b[0m\u001b[0m\n\u001b[0;32m-> 1456\u001b[0;31m             \u001b[0mx\u001b[0m\u001b[0;34m,\u001b[0m \u001b[0my\u001b[0m\u001b[0;34m,\u001b[0m \u001b[0mz\u001b[0m \u001b[0;34m=\u001b[0m \u001b[0mself\u001b[0m\u001b[0;34m.\u001b[0m\u001b[0m_contour_args\u001b[0m\u001b[0;34m(\u001b[0m\u001b[0margs\u001b[0m\u001b[0;34m,\u001b[0m \u001b[0mkwargs\u001b[0m\u001b[0;34m)\u001b[0m\u001b[0;34m\u001b[0m\u001b[0;34m\u001b[0m\u001b[0m\n\u001b[0m\u001b[1;32m   1457\u001b[0m \u001b[0;34m\u001b[0m\u001b[0m\n\u001b[1;32m   1458\u001b[0m             \u001b[0m_mask\u001b[0m \u001b[0;34m=\u001b[0m \u001b[0mma\u001b[0m\u001b[0;34m.\u001b[0m\u001b[0mgetmask\u001b[0m\u001b[0;34m(\u001b[0m\u001b[0mz\u001b[0m\u001b[0;34m)\u001b[0m\u001b[0;34m\u001b[0m\u001b[0;34m\u001b[0m\u001b[0m\n",
      "\u001b[0;32m~/opt/anaconda3/lib/python3.7/site-packages/matplotlib/contour.py\u001b[0m in \u001b[0;36m_contour_args\u001b[0;34m(self, args, kwargs)\u001b[0m\n\u001b[1;32m   1512\u001b[0m             \u001b[0margs\u001b[0m \u001b[0;34m=\u001b[0m \u001b[0margs\u001b[0m\u001b[0;34m[\u001b[0m\u001b[0;36m1\u001b[0m\u001b[0;34m:\u001b[0m\u001b[0;34m]\u001b[0m\u001b[0;34m\u001b[0m\u001b[0;34m\u001b[0m\u001b[0m\n\u001b[1;32m   1513\u001b[0m         \u001b[0;32melif\u001b[0m \u001b[0mNargs\u001b[0m \u001b[0;34m<=\u001b[0m \u001b[0;36m4\u001b[0m\u001b[0;34m:\u001b[0m\u001b[0;34m\u001b[0m\u001b[0;34m\u001b[0m\u001b[0m\n\u001b[0;32m-> 1514\u001b[0;31m             \u001b[0mx\u001b[0m\u001b[0;34m,\u001b[0m \u001b[0my\u001b[0m\u001b[0;34m,\u001b[0m \u001b[0mz\u001b[0m \u001b[0;34m=\u001b[0m \u001b[0mself\u001b[0m\u001b[0;34m.\u001b[0m\u001b[0m_check_xyz\u001b[0m\u001b[0;34m(\u001b[0m\u001b[0margs\u001b[0m\u001b[0;34m[\u001b[0m\u001b[0;34m:\u001b[0m\u001b[0;36m3\u001b[0m\u001b[0;34m]\u001b[0m\u001b[0;34m,\u001b[0m \u001b[0mkwargs\u001b[0m\u001b[0;34m)\u001b[0m\u001b[0;34m\u001b[0m\u001b[0;34m\u001b[0m\u001b[0m\n\u001b[0m\u001b[1;32m   1515\u001b[0m             \u001b[0margs\u001b[0m \u001b[0;34m=\u001b[0m \u001b[0margs\u001b[0m\u001b[0;34m[\u001b[0m\u001b[0;36m3\u001b[0m\u001b[0;34m:\u001b[0m\u001b[0;34m]\u001b[0m\u001b[0;34m\u001b[0m\u001b[0;34m\u001b[0m\u001b[0m\n\u001b[1;32m   1516\u001b[0m         \u001b[0;32melse\u001b[0m\u001b[0;34m:\u001b[0m\u001b[0;34m\u001b[0m\u001b[0;34m\u001b[0m\u001b[0m\n",
      "\u001b[0;32m~/opt/anaconda3/lib/python3.7/site-packages/matplotlib/contour.py\u001b[0m in \u001b[0;36m_check_xyz\u001b[0;34m(self, args, kwargs)\u001b[0m\n\u001b[1;32m   1573\u001b[0m             \u001b[0;32mif\u001b[0m \u001b[0mx\u001b[0m\u001b[0;34m.\u001b[0m\u001b[0mshape\u001b[0m \u001b[0;34m!=\u001b[0m \u001b[0mz\u001b[0m\u001b[0;34m.\u001b[0m\u001b[0mshape\u001b[0m\u001b[0;34m:\u001b[0m\u001b[0;34m\u001b[0m\u001b[0;34m\u001b[0m\u001b[0m\n\u001b[1;32m   1574\u001b[0m                 raise TypeError(\"Shape of x does not match that of z: found \"\n\u001b[0;32m-> 1575\u001b[0;31m                                 \"{0} instead of {1}.\".format(x.shape, z.shape))\n\u001b[0m\u001b[1;32m   1576\u001b[0m \u001b[0;34m\u001b[0m\u001b[0m\n\u001b[1;32m   1577\u001b[0m             \u001b[0;32mif\u001b[0m \u001b[0my\u001b[0m\u001b[0;34m.\u001b[0m\u001b[0mshape\u001b[0m \u001b[0;34m!=\u001b[0m \u001b[0mz\u001b[0m\u001b[0;34m.\u001b[0m\u001b[0mshape\u001b[0m\u001b[0;34m:\u001b[0m\u001b[0;34m\u001b[0m\u001b[0;34m\u001b[0m\u001b[0m\n",
      "\u001b[0;31mTypeError\u001b[0m: Shape of x does not match that of z: found (50, 50) instead of (10, 10)."
     ]
    },
    {
     "data": {
      "image/png": "[encoded data removed]",
      "text/plain": [
       "<Figure size 720x576 with 1 Axes>"
      ]
     },
     "metadata": {
      "needs_background": "light"
     },
     "output_type": "display_data"
    }
   ],
   "source": [
    "fig, ax = plt.subplots(figsize = (10, 8))\n",
    "time_delay_surf = ax.contour(xx, yy, time_dalay_data, 100)\n",
    "ax.plot(2.04880, 0, marker = 'x', label = 'td = 0')\n",
    "ax.plot(-2.48800e-01, 0, marker = 'x', label = 'td = 48.22')\n",
    "#plt.clabel(time_delay_surf, fontsize = 8)\n",
    "#plt.title('x = 0.9, y = 0')\n",
    "plt.legend()"
   ]
  },
  {
   "cell_type": "markdown",
   "metadata": {},
   "source": [
    "## MISMATCHES FOR TWO IMAGES CASE"
   ]
  },
  {
   "cell_type": "code",
   "execution_count": 29,
   "metadata": {},
   "outputs": [
    {
     "data": {
      "text/plain": [
       "<matplotlib.legend.Legend at 0x7fe93665c150>"
      ]
     },
     "execution_count": 29,
     "metadata": {},
     "output_type": "execute_result"
    },
    {
     "data": {
      "image/png": "[encoded data removed]",
      "text/plain": [
       "<Figure size 432x288 with 1 Axes>"
      ]
     },
     "metadata": {
      "needs_background": "light"
     },
     "output_type": "display_data"
    }
   ],
   "source": [
    "datapath = \"/Users/saifali/Desktop/gwlensing/data/\"\n",
    "#df_niter_35 = pd.read_csv(datapath + \"overlap_lensing_sie_sigma=4_theta=0_trial_niter=35.csv\")\n",
    "df_niter_50 = pd.read_csv(datapath + \"overlap_lensing_sie_sigma=4_theta=0_trial_niter=50.csv\")\n",
    "df_leftend = pd.read_csv(datapath + \"overlap_lensing_sie_sigma=4_theta=0_niter=50_leftend_leftshift.csv\")\n",
    "#df_niter_80 = pd.read_csv(datapath + \"overlap_lensing_sie_sigma=4_theta=0_niter=80.csv\")\n",
    "#plt.loglog(np.array(df_niter_35['source_x']), 1 - np.array(df_niter_35['overlap']), label = 'niter = 35')\n",
    "#plt.loglog(np.array(df_niter_50['source_x']), 1 - np.array(df_niter_50['overlap']), label = 'niter = 50')\n",
    "plt.loglog(np.array(df_leftend['source_x']), 1 - np.array(df_leftend['overlap']), label = 'niter = 50')\n",
    "#plt.loglog(np.array(df_niter_50['source_x']), 1 - np.array(df_niter_50['overlap']), label = 'niter = 80')\n",
    "plt.legend()"
   ]
  },
  {
   "cell_type": "code",
   "execution_count": 47,
   "metadata": {},
   "outputs": [
    {
     "data": {
      "text/plain": [
       "[<matplotlib.lines.Line2D at 0x7fb493787a10>]"
      ]
     },
     "execution_count": 47,
     "metadata": {},
     "output_type": "execute_result"
    },
    {
     "data": {
      "image/png": "[encoded data removed]",
      "text/plain": [
       "<Figure size 432x288 with 1 Axes>"
      ]
     },
     "metadata": {
      "needs_background": "light"
     },
     "output_type": "display_data"
    }
   ],
   "source": [
    "datapath = \"/Users/saifali/Desktop/gwlensing/data/\"\n",
    "#df = pd.read_csv(datapath + \"overlap_lensing_sie_sigma=4_theta=90.csv\")\n",
    "df_trial = pd.read_csv(datapath + \"overlap_lensing_sie_sigma=4_theta=90_trial_cut_rightend.csv\")\n",
    "#plt.loglog(np.array(df['source_x']), 1 - np.array(df['overlap']))\n",
    "plt.loglog(np.array(df_trial['source_x']), 1 - np.array(df_trial['overlap']))"
   ]
  },
  {
   "cell_type": "code",
   "execution_count": 48,
   "metadata": {},
   "outputs": [
    {
     "data": {
      "text/plain": [
       "[<matplotlib.lines.Line2D at 0x7fb4935dff90>]"
      ]
     },
     "execution_count": 48,
     "metadata": {},
     "output_type": "execute_result"
    },
    {
     "data": {
      "image/png": "[encoded data removed]",
      "text/plain": [
       "<Figure size 432x288 with 1 Axes>"
      ]
     },
     "metadata": {
      "needs_background": "light"
     },
     "output_type": "display_data"
    }
   ],
   "source": [
    "datapath = \"/Users/saifali/Desktop/gwlensing/data/\"\n",
    "df_trial = pd.read_csv(datapath + \"overlap_lensing_sie_sigma=4_theta=45_niter=80.csv\")\n",
    "df_trial['source_x'] = df_trial['source_x'] * np.sqrt(2)\n",
    "#plt.loglog(np.array(df['source_x']), 1 - np.array(df['overlap']))\n",
    "plt.loglog(np.array(df_trial['source_x']), 1 - np.array(df_trial['overlap']))"
   ]
  },
  {
   "cell_type": "code",
   "execution_count": null,
   "metadata": {},
   "outputs": [],
   "source": []
  }
 ],
 "metadata": {
  "kernelspec": {
   "display_name": "Python 3",
   "language": "python",
   "name": "python3"
  },
  "language_info": {
   "codemirror_mode": {
    "name": "ipython",
    "version": 3
   },
   "file_extension": ".py",
   "mimetype": "text/x-python",
   "name": "python",
   "nbconvert_exporter": "python",
   "pygments_lexer": "ipython3",
   "version": "3.7.4"
  }
 },
 "nbformat": 4,
 "nbformat_minor": 4
}
