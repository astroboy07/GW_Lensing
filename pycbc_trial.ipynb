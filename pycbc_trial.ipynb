{
 "cells": [
  {
   "cell_type": "code",
   "execution_count": 1,
   "metadata": {},
   "outputs": [
    {
     "name": "stdout",
     "output_type": "stream",
     "text": [
      "[3.48012818e-20 3.38157325e-20]\n",
      "The match is: 0.9534\n"
     ]
    }
   ],
   "source": [
    "from pycbc.waveform import get_td_waveform\n",
    "from pycbc.filter import match\n",
    "from pycbc.psd import aLIGOZeroDetHighPower\n",
    "\n",
    "f_low = 30\n",
    "sample_rate = 4096\n",
    "\n",
    "# Generate the two waveforms to compare\n",
    "hp, hc = get_td_waveform(approximant=\"EOBNRv2\",\n",
    "                         mass1=10,\n",
    "                         mass2=10,\n",
    "                         f_lower=f_low,\n",
    "                         delta_t=1.0/sample_rate)\n",
    "\n",
    "sp, sc = get_td_waveform(approximant=\"TaylorT4\",\n",
    "                         mass1=10,\n",
    "                         mass2=10,\n",
    "                         f_lower=f_low,\n",
    "                         delta_t=1.0/sample_rate)\n",
    "\n",
    "print(sp[:2])\n",
    "# Resize the waveforms to the same length\n",
    "tlen = max(len(sp), len(hp))\n",
    "sp.resize(tlen)\n",
    "hp.resize(tlen)\n",
    "\n",
    "# Generate the aLIGO ZDHP PSD\n",
    "delta_f = 1.0 / sp.duration\n",
    "flen = tlen//2 + 1\n",
    "psd = aLIGOZeroDetHighPower(flen, delta_f, f_low)\n",
    "\n",
    "# Note: This takes a while the first time as an FFT plan is generated\n",
    "# subsequent calls are much faster.\n",
    "m, i = match(hp, sp, psd=psd, low_frequency_cutoff=f_low)\n",
    "print('The match is: {:.4f}'.format(m))"
   ]
  },
  {
   "cell_type": "code",
   "execution_count": 2,
   "metadata": {},
   "outputs": [
    {
     "name": "stderr",
     "output_type": "stream",
     "text": [
      "/Users/saifali/opt/anaconda3/lib/python3.7/site-packages/statsmodels/tools/_testing.py:19: FutureWarning: pandas.util.testing is deprecated. Use the functions in the public API at pandas.testing instead.\n",
      "  import pandas.util.testing as tm\n"
     ]
    }
   ],
   "source": [
    "import numpy as np\n",
    "import pandas as pd\n",
    "import matplotlib.pyplot as plt\n",
    "import seaborn as sns\n",
    "%matplotlib inline\n",
    "from gw_lens_dir.overlap_lensing_sie_twoimages import overlap_sie\n",
    "#from gw_lens_dir.overlap_lensing_sie_twoimages_trial import overlap_sie_basin, strains\n",
    "from gw_lens_dir.L_unlensed import Lunlensed\n",
    "pd.set_option('display.float_format', lambda x: '%.3e' % x)"
   ]
  },
  {
   "cell_type": "code",
   "execution_count": 2,
   "metadata": {},
   "outputs": [
    {
     "ename": "NameError",
     "evalue": "name 'strains' is not defined",
     "output_type": "error",
     "traceback": [
      "\u001b[0;31m---------------------------------------------------------------------------\u001b[0m",
      "\u001b[0;31mNameError\u001b[0m                                 Traceback (most recent call last)",
      "\u001b[0;32m<ipython-input-2-d54b7e444ee8>\u001b[0m in \u001b[0;36m<module>\u001b[0;34m\u001b[0m\n\u001b[0;32m----> 1\u001b[0;31m \u001b[0mstrain_source\u001b[0m\u001b[0;34m,\u001b[0m \u001b[0mstrain_template\u001b[0m \u001b[0;34m=\u001b[0m \u001b[0mstrains\u001b[0m\u001b[0;34m(\u001b[0m\u001b[0;34m)\u001b[0m\u001b[0;34m\u001b[0m\u001b[0;34m\u001b[0m\u001b[0m\n\u001b[0m",
      "\u001b[0;31mNameError\u001b[0m: name 'strains' is not defined"
     ]
    }
   ],
   "source": [
    "strain_source, strain_template = strains()"
   ]
  },
  {
   "cell_type": "code",
   "execution_count": 5,
   "metadata": {},
   "outputs": [
    {
     "ename": "TypeError",
     "evalue": "Can only convert a TimeSeries to a FrequencySeries",
     "output_type": "error",
     "traceback": [
      "\u001b[0;31m---------------------------------------------------------------------------\u001b[0m",
      "\u001b[0;31mTypeError\u001b[0m                                 Traceback (most recent call last)",
      "\u001b[0;32m<ipython-input-5-63b35a487c67>\u001b[0m in \u001b[0;36m<module>\u001b[0;34m\u001b[0m\n\u001b[1;32m      1\u001b[0m \u001b[0;32mfrom\u001b[0m \u001b[0mpycbc\u001b[0m\u001b[0;34m.\u001b[0m\u001b[0mfilter\u001b[0m \u001b[0;32mimport\u001b[0m \u001b[0mmatch\u001b[0m\u001b[0;34m\u001b[0m\u001b[0;34m\u001b[0m\u001b[0m\n\u001b[0;32m----> 2\u001b[0;31m \u001b[0mm\u001b[0m\u001b[0;34m,\u001b[0m \u001b[0mi\u001b[0m \u001b[0;34m=\u001b[0m \u001b[0mmatch\u001b[0m\u001b[0;34m(\u001b[0m\u001b[0mstrain_source\u001b[0m\u001b[0;34m,\u001b[0m \u001b[0mstrain_template\u001b[0m\u001b[0;34m)\u001b[0m\u001b[0;34m\u001b[0m\u001b[0;34m\u001b[0m\u001b[0m\n\u001b[0m\u001b[1;32m      3\u001b[0m \u001b[0mm\u001b[0m\u001b[0;34m\u001b[0m\u001b[0;34m\u001b[0m\u001b[0m\n",
      "\u001b[0;32m~/.local/lib/python3.7/site-packages/pycbc/filter/matchedfilter.py\u001b[0m in \u001b[0;36mmatch\u001b[0;34m(vec1, vec2, psd, low_frequency_cutoff, high_frequency_cutoff, v1_norm, v2_norm, subsample_interpolation, return_phase)\u001b[0m\n\u001b[1;32m   1366\u001b[0m     \"\"\"\n\u001b[1;32m   1367\u001b[0m \u001b[0;34m\u001b[0m\u001b[0m\n\u001b[0;32m-> 1368\u001b[0;31m     \u001b[0mhtilde\u001b[0m \u001b[0;34m=\u001b[0m \u001b[0mmake_frequency_series\u001b[0m\u001b[0;34m(\u001b[0m\u001b[0mvec1\u001b[0m\u001b[0;34m)\u001b[0m\u001b[0;34m\u001b[0m\u001b[0;34m\u001b[0m\u001b[0m\n\u001b[0m\u001b[1;32m   1369\u001b[0m     \u001b[0mstilde\u001b[0m \u001b[0;34m=\u001b[0m \u001b[0mmake_frequency_series\u001b[0m\u001b[0;34m(\u001b[0m\u001b[0mvec2\u001b[0m\u001b[0;34m)\u001b[0m\u001b[0;34m\u001b[0m\u001b[0;34m\u001b[0m\u001b[0m\n\u001b[1;32m   1370\u001b[0m \u001b[0;34m\u001b[0m\u001b[0m\n",
      "\u001b[0;32m~/.local/lib/python3.7/site-packages/pycbc/filter/matchedfilter.py\u001b[0m in \u001b[0;36mmake_frequency_series\u001b[0;34m(vec)\u001b[0m\n\u001b[1;32m   1017\u001b[0m         \u001b[0;32mreturn\u001b[0m \u001b[0mvectilde\u001b[0m\u001b[0;34m\u001b[0m\u001b[0;34m\u001b[0m\u001b[0m\n\u001b[1;32m   1018\u001b[0m     \u001b[0;32melse\u001b[0m\u001b[0;34m:\u001b[0m\u001b[0;34m\u001b[0m\u001b[0;34m\u001b[0m\u001b[0m\n\u001b[0;32m-> 1019\u001b[0;31m         \u001b[0;32mraise\u001b[0m \u001b[0mTypeError\u001b[0m\u001b[0;34m(\u001b[0m\u001b[0;34m\"Can only convert a TimeSeries to a FrequencySeries\"\u001b[0m\u001b[0;34m)\u001b[0m\u001b[0;34m\u001b[0m\u001b[0;34m\u001b[0m\u001b[0m\n\u001b[0m\u001b[1;32m   1020\u001b[0m \u001b[0;34m\u001b[0m\u001b[0m\n\u001b[1;32m   1021\u001b[0m def sigmasq_series(htilde, psd=None, low_frequency_cutoff=None,\n",
      "\u001b[0;31mTypeError\u001b[0m: Can only convert a TimeSeries to a FrequencySeries"
     ]
    }
   ],
   "source": [
    "from pycbc.filter import match\n",
    "m, i = match(strain_source, strain_template)\n",
    "m"
   ]
  },
  {
   "cell_type": "code",
   "execution_count": null,
   "metadata": {},
   "outputs": [],
   "source": []
  }
 ],
 "metadata": {
  "kernelspec": {
   "display_name": "Python 3",
   "language": "python",
   "name": "python3"
  },
  "language_info": {
   "codemirror_mode": {
    "name": "ipython",
    "version": 3
   },
   "file_extension": ".py",
   "mimetype": "text/x-python",
   "name": "python",
   "nbconvert_exporter": "python",
   "pygments_lexer": "ipython3",
   "version": "3.7.4"
  }
 },
 "nbformat": 4,
 "nbformat_minor": 4
}
