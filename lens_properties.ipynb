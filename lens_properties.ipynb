{
 "cells": [
  {
   "cell_type": "markdown",
   "metadata": {},
   "source": [
    "# Lens parameters\n",
    "\n",
    "Here I try to generalize the properties of different lens and try to understand the relation between different lens parameters.\n",
    "\n",
    "~ Saif 08/2021"
   ]
  },
  {
   "cell_type": "code",
   "execution_count": 2,
   "metadata": {},
   "outputs": [],
   "source": [
    "import numpy as np\n",
    "import scipy as sp\n",
    "import pandas as pd\n",
    "import matplotlib.pyplot as plt\n",
    "from gw_lens_dir.L_unlensed import Lunlensed\n",
    "from gw_lens_dir.overlap_lensing_changed_param import overlap_dual_ann_lensing\n",
    "%matplotlib inline"
   ]
  },
  {
   "cell_type": "code",
   "execution_count": 3,
   "metadata": {},
   "outputs": [],
   "source": [
    "data_path = '/Users/saifali/Desktop/gwlensing/data/'"
   ]
  },
  {
   "cell_type": "markdown",
   "metadata": {},
   "source": [
    "### Point mass lens\n",
    "\n",
    "Refer to section 2.1 in Takahashi-Nakamura"
   ]
  },
  {
   "cell_type": "code",
   "execution_count": 4,
   "metadata": {},
   "outputs": [],
   "source": [
    "solar_mass = 4.92624076 * 10**-6 #[solar_mass] = sec\n",
    "\n",
    "def mag(ml, y, lens):\n",
    "    \n",
    "    if lens == 'pm':\n",
    "        mu_plus = np.abs(0.5 + (y ** 2 + 2) / (2 * y * (y ** 2 + 4) ** 0.5))\n",
    "        mu_minus = np.abs(0.5 - (y ** 2 + 2) / (2 * y * (y ** 2 + 4) ** 0.5))\n",
    "    \n",
    "    elif lens == 'sis':\n",
    "        mu_plus = np.abs(1 + 1 / y)\n",
    "        mu_minus = np.abs(-1 + 1 / y)\n",
    "    \n",
    "    return mu_plus, mu_minus\n",
    "\n",
    "def td(ml, y, lens):\n",
    "    \n",
    "    if lens == 'pm':\n",
    "        first_term = (y * (y ** 2 + 4) ** 0.5) / 2\n",
    "        second_term = np.log(((y ** 2 + 4) ** 0.5 + y) / ((y ** 2 + 4) ** 0.5 - y))\n",
    "        tds = 4 * ml * (first_term + second_term)\n",
    "    \n",
    "    elif lens == 'sis':\n",
    "        tds = 8 * ml * y\n",
    "    \n",
    "    return tds"
   ]
  },
  {
   "cell_type": "code",
   "execution_count": 4,
   "metadata": {},
   "outputs": [
    {
     "name": "stdout",
     "output_type": "stream",
     "text": [
      "31.10566431960542\n",
      "80.0003333320829\n"
     ]
    }
   ],
   "source": [
    "print(mag(1e3, 0.01, 'pm')[1] / mag(1e3, 0.5, 'pm')[0])\n",
    "print(td(1e3, 0.01, 'pm'))"
   ]
  },
  {
   "cell_type": "code",
   "execution_count": 5,
   "metadata": {},
   "outputs": [],
   "source": [
    "y = np.linspace(0.1, 1, 50)\n",
    "ml = [10 * solar_mass, 50 * solar_mass, 100 * solar_mass]\n",
    "\n",
    "flux_ratio_pm_1 = np.zeros_like(y)\n",
    "flux_ratio_pm_2 = np.zeros_like(y)\n",
    "flux_ratio_sis_1 = np.zeros_like(y)\n",
    "flux_ratio_sis_2 = np.zeros_like(y)\n",
    "tds_pm_1 = np.zeros_like(y)\n",
    "tds_pm_2 = np.zeros_like(y)\n",
    "tds_sis_1 = np.zeros_like(y)\n",
    "tds_sis_2 = np.zeros_like(y)\n",
    "\n",
    "for i in range(y.shape[0]):\n",
    "    flux_ratio_pm_1[i] = mag(ml[0], y[i], lens = 'pm')[1] / mag(ml[0], y[i], lens = 'pm')[0]\n",
    "    flux_ratio_pm_2[i] = mag(ml[1], y[i], lens = 'pm')[1] / mag(ml[1], y[i], lens = 'pm')[0]\n",
    "    flux_ratio_sis_1[i] = mag(ml[0], y[i], lens = 'sis')[1] / mag(ml[0], y[i], lens = 'sis')[0]\n",
    "    flux_ratio_sis_2[i] = mag(ml[1], y[i], lens = 'sis')[1] / mag(ml[1], y[i], lens = 'sis')[0]\n",
    "    tds_pm_1[i] = td(ml[0], y[i], lens = 'pm')\n",
    "    tds_pm_2[i] = td(ml[1], y[i], lens = 'pm')\n",
    "    tds_sis_1[i] = td(ml[0], y[i], lens = 'sis')\n",
    "    tds_sis_2[i] = td(ml[1], y[i], lens = 'sis')"
   ]
  },
  {
   "cell_type": "code",
   "execution_count": 6,
   "metadata": {},
   "outputs": [
    {
     "data": {
      "image/png": "[encoded data removed]",
      "text/plain": [
       "<Figure size 432x288 with 1 Axes>"
      ]
     },
     "metadata": {
      "needs_background": "light"
     },
     "output_type": "display_data"
    }
   ],
   "source": [
    "#plt.figure(figsize = (10, 7))\n",
    "plt.plot(flux_ratio_pm_1, tds_pm_1, label = r'point mass lens $(M_L = 10 M_\\odot)$')\n",
    "plt.plot(flux_ratio_pm_2, tds_pm_2, label = r'point mass lens $(M_L = 50 M_\\odot)$')\n",
    "plt.plot(flux_ratio_sis_1, tds_sis_1, label = r'SIS lens $(M_L = 10 M_\\odot)$')\n",
    "plt.plot(flux_ratio_sis_2, tds_sis_2, label = r'SIS lens $(M_L = 50 M_\\odot)$')\n",
    "plt.xlabel(r'$\\mathrm{I}$')\n",
    "plt.ylabel(r'$\\Delta t_d$ (s)')\n",
    "#plt.savefig('I-td_relation.png', dpi = 100, bbox_inches = 'tight')\n",
    "plt.legend();  "
   ]
  },
  {
   "cell_type": "markdown",
   "metadata": {},
   "source": [
    "The figure above shows the time delay as a function of flux ratio of the double-image case. We used point mass and SIS lens with two different lens mass values of 10 solar_mass and 50 solar_mass. We can see that as the flux ratio is increasing the time delay between the two images is getting close to zero which is what we expect if we see two images of same magnification. We also notice that as we increase the mass of a particular lens, the curve is shifted upwards. This means that for a particular flux ratio of images observed, for let's say SIS lens, the time delay will be higher due to high mass of the lens. "
   ]
  },
  {
   "cell_type": "code",
   "execution_count": 7,
   "metadata": {},
   "outputs": [],
   "source": [
    "solar_mass = 4.92624076 * 10**-6 #[solar_mass] = sec\n",
    "giga_parsec = 1.02927125 * 10**17 #[giga_parsec] = sec\n",
    "\n",
    "default_strain_params = {\n",
    "    'theta_s': 0.,\n",
    "    'phi_s': 0.,\n",
    "    'theta_l': 0.,\n",
    "    'phi_l': 0.,\n",
    "    'mcz': 18.79 * solar_mass,\n",
    "    'dist': 1.58 * giga_parsec,\n",
    "    'eta': 0.25,\n",
    "    'tc': 0.,\n",
    "    'phi_c': 0.\n",
    "}\n",
    "model = Lunlensed(default_strain_params)"
   ]
  },
  {
   "cell_type": "code",
   "execution_count": 25,
   "metadata": {},
   "outputs": [],
   "source": [
    "def snr(ml, y, lens):\n",
    "    \n",
    "    M = (default_strain_params['mcz'] /np.power(default_strain_params['eta'], 3/5))\n",
    "    low_limit = 20\n",
    "    upper_limit = 1 / (np.power(6, 3/2) * np.pi * M)\n",
    "    \n",
    "    \n",
    "    \n",
    "    if lens == 'pm':\n",
    "        amp_fact_pm = lambda f: np.sqrt(mag(ml, y, lens)[0]) - 1j * np.sqrt(mag(ml, y, lens)[1]) * \\\n",
    "                    np.exp(2 * np.pi * 1j * f * td(ml, y, lens))\n",
    "        integrand = lambda f: np.power(np.abs(model.hI(f) * amp_fact_pm(f)), 2) / model.Sn(f)\n",
    "\n",
    "        snr_temp, snr_err = sp.integrate.quad(integrand, low_limit, upper_limit)\n",
    "        snr_sq = 4 * snr_temp\n",
    "        snr = np.sqrt(snr_sq)\n",
    "        \n",
    "    return snr, low_limit, upper_limit"
   ]
  },
  {
   "cell_type": "code",
   "execution_count": 26,
   "metadata": {},
   "outputs": [
    {
     "data": {
      "text/plain": [
       "(23.805743890913412, 20, 101.84620327015129)"
      ]
     },
     "execution_count": 26,
     "metadata": {},
     "output_type": "execute_result"
    }
   ],
   "source": [
    "snr(1e4 * solar_mass, y = 0.5, lens = 'pm')"
   ]
  },
  {
   "cell_type": "code",
   "execution_count": null,
   "metadata": {},
   "outputs": [],
   "source": [
    "def contour_plot(ml_low_limit, \n",
    "                 ml_up_limit, \n",
    "                 y_low_limit, \n",
    "                 y_up_limit,\n",
    "                 lens, \n",
    "                 pts = 70): \n",
    "    \n",
    "    \"\"\" lens param should be string ('pm' or 'sis') \n",
    "    \"\"\"\n",
    "    \n",
    "    ml_mesh, y_mesh = np.meshgrid(np.linspace(ml_low_limit, ml_up_limit, pts), np.linspace(y_low_limit, y_up_limit, pts))\n",
    "    ml_flatten = ml_mesh.flatten()\n",
    "    y_flatten = y_mesh.flatten()\n",
    "    snr_flat = np.zeros_like(y_flatten)\n",
    "\n",
    "    for i in range(ml_flatten.shape[0]):\n",
    "        snr_flat[i] = snr(ml_flatten[i], y_flatten[i], lens = lens)[0]\n",
    "        \n",
    "    snr_mesh = snr_flat.reshape(pts, pts)\n",
    "    \n",
    "    td_mesh = np.array([td(ml_flatten[i], y_flatten[i], lens = lens) for i in range(ml_flatten.shape[0])]).reshape(pts, pts)\n",
    "    flux_ratio_mesh = np.array([mag(ml_flatten[i], y_flatten[i], lens = lens)[1] / mag(ml_flatten[i], y_flatten[i], lens = lens)[0] for i in range(ml_flatten.shape[0])]).reshape(pts, pts)\n",
    "    \n",
    "    plt.figure(figsize = (10, 8))\n",
    "    ax1 = plt.subplot(211)\n",
    "    cs1 = ax1.contour(flux_ratio_mesh, td_mesh ,snr_mesh, 30)\n",
    "    ax1.set(ylabel = 'td', xlabel = 'flux_ratio')\n",
    "    ax1.clabel(cs1, inline=True, fontsize=10)\n",
    "    #plt.plot(flux_ratio_pm_1, tds_pm_1, label = 'point mass 10 solar_mass')\n",
    "    #plt.plot(flux_ratio_pm_2, tds_pm_2, label = 'point mass 50 solar_mass')\n",
    "\n",
    "    ax2 = plt.subplot(212)\n",
    "    cs2 = ax2.contour(y_mesh, ml_mesh, snr_mesh, 30)\n",
    "    ax2.set(ylabel = 'ml', xlabel = 'y')\n",
    "    ax2.clabel(cs2, inline=True, fontsize=10)\n",
    "  \n",
    "    return ml_flatten, y_flatten, snr_flat"
   ]
  },
  {
   "cell_type": "code",
   "execution_count": null,
   "metadata": {},
   "outputs": [],
   "source": [
    "z = contour_plot(1e2 * solar_mass,\n",
    "                 1e4 * solar_mass,\n",
    "                 0.1, \n",
    "                 1,\n",
    "                 lens = 'pm'\n",
    "                )"
   ]
  },
  {
   "cell_type": "code",
   "execution_count": null,
   "metadata": {},
   "outputs": [],
   "source": [
    "td(100 * solar_mass, 0.5, 'pm')"
   ]
  },
  {
   "cell_type": "code",
   "execution_count": null,
   "metadata": {},
   "outputs": [],
   "source": [
    "z[2][np.argmin(z[2])]"
   ]
  },
  {
   "cell_type": "markdown",
   "metadata": {},
   "source": [
    "### Mismatch (for new parameters)"
   ]
  },
  {
   "cell_type": "markdown",
   "metadata": {},
   "source": [
    "* Redefining the parameters for the lens. (y, $M_L$) --> (I, $t_d$)\n",
    "> $\\Large F(f) = |\\mu_+|^{1/2} (1 - i I^{1/2} e^{2 \\pi i f \\Delta t_d}) = |\\mu_+|^{1/2} G(f)$\n",
    "\n",
    "*** \n",
    "\n",
    "* Overlap (for redefined amplification factor)\n",
    ">$\\Large \\mathcal{O} = \\frac{4 Re \\int \\frac{h_t^{* UL}(f) G(f) h_m^{UL}(f)}{Sn(f)} df}{\\left[\\left(4 Re \\int \\frac{h_t^{* UL}(f) h_t^{UL}(f)}{Sn(f)} df \\right) \\left(4 Re \\int \\frac{h_m^{* UL}(f) G^*(f) G(f) h_m^{UL}(f)}{Sn(f)} df \\right)\\right] ^ {1/2}}$"
   ]
  },
  {
   "cell_type": "code",
   "execution_count": 3,
   "metadata": {},
   "outputs": [
    {
     "name": "stdout",
     "output_type": "stream",
     "text": [
      "(1.5939346040626994-0.19298105113426173j)\n"
     ]
    },
    {
     "name": "stderr",
     "output_type": "stream",
     "text": [
      "/Users/saifali/opt/anaconda3/lib/python3.7/site-packages/scipy/integrate/quadpack.py:448: ComplexWarning: Casting complex values to real discards the imaginary part\n",
      "  return _quadpack._qagse(func,a,b,args,full_output,epsabs,epsrel,limit)\n"
     ]
    },
    {
     "data": {
      "text/plain": [
       "-0.8476813440833333"
      ]
     },
     "execution_count": 3,
     "metadata": {},
     "output_type": "execute_result"
    }
   ],
   "source": [
    "solar_mass = 4.92624076 * 10**-6 #[solar_mass] = sec\n",
    "giga_parsec = 1.02927125 * 10**17 #[giga_parsec] = sec\n",
    "year = 31557600 #[year] = sec\n",
    "\n",
    "initial_params_source = {\n",
    "    'theta_s_source' : 0.0, \n",
    "    'phi_s_source' : 0.0, \n",
    "    'theta_l_source' : 0.0, \n",
    "    'phi_l_source' : 0.0, \n",
    "    'mcz_source' : 28.79 * solar_mass, \n",
    "    'dist_source': 1.58 * giga_parsec, \n",
    "    'eta_source' : 0.25, \n",
    "    't0' : 0.0, \n",
    "    'phi_0' : 0.0,\n",
    "    'td':0.81,\n",
    "    'flux_ratio': 0.39\n",
    "}\n",
    "\n",
    "initial_params_template = {\n",
    "    'theta_s_temp' : 0.0, \n",
    "    'phi_s_temp' : 0.0, \n",
    "    'theta_l_temp' : 0.0, \n",
    "    'phi_l_temp' : 0.0, \n",
    "    'mcz_temp' : 28.79 * solar_mass, \n",
    "    'dist_temp': 1.58 * giga_parsec, \n",
    "    'eta_temp' : 0.25, \n",
    "    #'tc' : 0.0, \n",
    "    #'phi_c' : 0.0,\n",
    "}\n",
    "new_param_ini = overlap_dual_ann_lensing(params_source = initial_params_source, params_temp = initial_params_template)\n",
    "F = new_param_ini.F_geo_source_pm(20)\n",
    "print(F)\n",
    "overlap = new_param_ini.overlap(x = (0., 0.))\n",
    "overlap"
   ]
  },
  {
   "cell_type": "code",
   "execution_count": 4,
   "metadata": {},
   "outputs": [],
   "source": [
    "freq = np.linspace(20, 102, 200)\n",
    "signal_source = np.zeros_like(freq, dtype = np.complex128)\n",
    "signal_temp = np.zeros_like(freq, dtype = np.complex128)\n",
    "\n",
    "new_param_ini = overlap_dual_ann_lensing(params_source = initial_params_source, params_temp = initial_params_template)\n",
    "for i in range(len(freq)):\n",
    "    signal_source[i] = new_param_ini.signal_source(freq[i], 0, 0)\n",
    "    signal_temp[i] = new_param_ini.signal_temp(freq[i], 0, 0)"
   ]
  },
  {
   "cell_type": "code",
   "execution_count": 5,
   "metadata": {},
   "outputs": [
    {
     "data": {
      "text/plain": [
       "(20, 66.47065506933457, 66.47065506933457, 66.47065506933457)"
      ]
     },
     "execution_count": 5,
     "metadata": {},
     "output_type": "execute_result"
    }
   ],
   "source": [
    "limit = new_param_ini.limit(initial_params_source, initial_params_template)\n",
    "limit"
   ]
  },
  {
   "cell_type": "code",
   "execution_count": 6,
   "metadata": {},
   "outputs": [
    {
     "data": {
      "text/plain": [
       "<matplotlib.legend.Legend at 0x7fe0f3efea90>"
      ]
     },
     "execution_count": 6,
     "metadata": {},
     "output_type": "execute_result"
    },
    {
     "data": {
      "image/png": "[encoded data removed]",
      "text/plain": [
       "<Figure size 432x288 with 1 Axes>"
      ]
     },
     "metadata": {
      "needs_background": "light"
     },
     "output_type": "display_data"
    }
   ],
   "source": [
    "plt.plot(freq, np.abs(signal_source), label = 'lensed source')\n",
    "plt.plot(freq, np.abs(signal_temp), label = 'unlensed template')\n",
    "plt.legend()"
   ]
  },
  {
   "cell_type": "code",
   "execution_count": 7,
   "metadata": {},
   "outputs": [],
   "source": [
    "freq = np.linspace(20, 102, 200)\n",
    "integrand_1 = np.zeros_like(freq, dtype = np.complex128)\n",
    "integrand_2 = np.zeros_like(freq, dtype = np.complex128)\n",
    "integrand_3 = np.zeros_like(freq, dtype = np.complex128)\n",
    "\n",
    "new_param_ini = overlap_dual_ann_lensing(params_source = initial_params_source, params_temp = initial_params_template)\n",
    "for i in range(len(freq)):\n",
    "    integrand_1[i] = new_param_ini.integrand_1(freq[i], 0, 0)\n",
    "    integrand_2[i] = new_param_ini.integrand_2(freq[i], 0, 0)\n",
    "    integrand_3[i] = new_param_ini.integrand_3(freq[i], 0, 0)"
   ]
  },
  {
   "cell_type": "code",
   "execution_count": 8,
   "metadata": {},
   "outputs": [
    {
     "data": {
      "text/plain": [
       "<matplotlib.legend.Legend at 0x7fe0f3f8fb10>"
      ]
     },
     "execution_count": 8,
     "metadata": {},
     "output_type": "execute_result"
    },
    {
     "data": {
      "image/png": "[encoded data removed]",
      "text/plain": [
       "<Figure size 432x288 with 1 Axes>"
      ]
     },
     "metadata": {
      "needs_background": "light"
     },
     "output_type": "display_data"
    }
   ],
   "source": [
    "plt.plot(freq, np.abs(integrand_1), label = '1')\n",
    "plt.plot(freq, np.abs(integrand_2), label = '2')\n",
    "plt.plot(freq, np.abs(integrand_3), label = '3')\n",
    "plt.legend()"
   ]
  },
  {
   "cell_type": "markdown",
   "metadata": {},
   "source": [
    "* Overlap estimation at the plateau (fix I)\n",
    "\n",
    "> $\\Large \\mathcal{O} = \\frac{|\\mu_+|^{1/2}}{(|\\mu_+| + |\\mu_-|)^{1/2}} = \\frac{1}{\\sqrt{1 + I}}$"
   ]
  },
  {
   "cell_type": "code",
   "execution_count": 16,
   "metadata": {},
   "outputs": [],
   "source": [
    "data_file = 'overlap_lensing_td.csv'\n",
    "df = pd.read_csv(data_path + data_file, header = None, converters = {1: eval})\n",
    "df['match'] = np.array([-df[1][i][0] for i in range(len(df))])"
   ]
  },
  {
   "cell_type": "code",
   "execution_count": 17,
   "metadata": {},
   "outputs": [],
   "source": [
    "data_file = 'overlap_lensing_td_I=0.4.csv'\n",
    "df_2 = pd.read_csv(data_path + data_file, header = None, converters = {1: eval})\n",
    "df_2['match'] = np.array([-df_2[1][i][0] for i in range(len(df_2))])"
   ]
  },
  {
   "cell_type": "code",
   "execution_count": 18,
   "metadata": {},
   "outputs": [],
   "source": [
    "data_file = 'overlap_lensing_td_I=0.8_mcz=12.79.csv'\n",
    "df_3 = pd.read_csv(data_path + data_file, header = None, converters = {1: eval})\n",
    "df_3['match'] = np.array([-df_3[1][i][0] for i in range(len(df_3))])"
   ]
  },
  {
   "cell_type": "code",
   "execution_count": 19,
   "metadata": {},
   "outputs": [],
   "source": [
    "data_file = 'overlap_lensing_td_I=0.8_mcz=28.79.csv'\n",
    "df_4 = pd.read_csv(data_path + data_file, header = None, converters = {1: eval})\n",
    "df_4['match'] = np.array([-df_4[1][i][0] for i in range(len(df_4))])"
   ]
  },
  {
   "cell_type": "markdown",
   "metadata": {},
   "source": [
    "***************************************************"
   ]
  },
  {
   "cell_type": "code",
   "execution_count": 20,
   "metadata": {},
   "outputs": [],
   "source": [
    "data_file = 'overlap_lensing_td_I=0.4_mcz=12.79.csv'\n",
    "df_5 = pd.read_csv(data_path + data_file, header = None, converters = {1: eval})\n",
    "df_5['match'] = np.array([-df_5[1][i][0] for i in range(len(df_5))])\n",
    "df_5 = df_5.sort_values(by = 0)"
   ]
  },
  {
   "cell_type": "code",
   "execution_count": 21,
   "metadata": {},
   "outputs": [],
   "source": [
    "data_file = 'overlap_lensing_td_I=0.4_mcz=18.79.csv'\n",
    "df_6 = pd.read_csv(data_path + data_file, header = None, converters = {1: eval})\n",
    "df_6['match'] = np.array([-df_6[1][i][0] for i in range(len(df_6))])\n",
    "df_6 = df_6.sort_values(by = 0)"
   ]
  },
  {
   "cell_type": "code",
   "execution_count": 22,
   "metadata": {},
   "outputs": [],
   "source": [
    "data_file = 'overlap_lensing_td_I=0.4_mcz=28.79.csv'\n",
    "df_7 = pd.read_csv(data_path + data_file, header = None, converters = {1: eval})\n",
    "df_7['match'] = np.array([-df_7[1][i][0] for i in range(len(df_7))])\n",
    "df_7 = df_7.sort_values(by = 0)"
   ]
  },
  {
   "cell_type": "code",
   "execution_count": 23,
   "metadata": {},
   "outputs": [
    {
     "data": {
      "text/plain": [
       "Text(0.5, 0, '$log(\\\\Delta t_d)$')"
      ]
     },
     "execution_count": 23,
     "metadata": {},
     "output_type": "execute_result"
    },
    {
     "data": {
      "image/png": "[encoded data removed]",
      "text/plain": [
       "<Figure size 432x288 with 1 Axes>"
      ]
     },
     "metadata": {
      "needs_background": "light"
     },
     "output_type": "display_data"
    }
   ],
   "source": [
    "plt.loglog(df_5[0], 1 - df_5['match'], marker = 'x', label = 'I = 0.4 / mcz = 12.79')\n",
    "plt.loglog(df_6[0], 1 - df_6['match'], marker = 'v', label = 'I = 0.4 / mcz = 18.79')\n",
    "plt.loglog(df_7[0], 1 - df_7['match'], marker = 'o', label = 'I = 0.4 / mcz = 28.79')\n",
    "plt.axvline(x=0.05, color='r', linestyle='--')\n",
    "plt.legend(loc = 4)\n",
    "plt.ylabel('$log(\\epsilon(h^L, h^{UL}))$')\n",
    "plt.xlabel('$log(\\Delta t_d)$')"
   ]
  },
  {
   "cell_type": "code",
   "execution_count": 26,
   "metadata": {},
   "outputs": [],
   "source": [
    "#plt.scatter(df[0], 1 - df['match'], label = 'I = 0.8 / mcz = 18.79')\n",
    "#plt.scatter(df_2[0], 1 - df_2['match'], label = 'I = 0.4') # td = [0.001, 0.5]\n",
    "#plt.scatter(df_3[0], 1 - df_3['match'], label = 'I = 0.8 / mcz = 12.79')\n",
    "#plt.scatter(df_4[0], 1 - df_4['match'], label = 'I = 0.8 / mcz = 28.79')\n",
    "#plt.legend(loc = 4)"
   ]
  },
  {
   "cell_type": "code",
   "execution_count": 5,
   "metadata": {},
   "outputs": [],
   "source": [
    "data_file = 'overlap_lensing_I_td=0.1.csv'\n",
    "df_I = pd.read_csv(data_path + data_file, header = None, converters = {1: eval})\n",
    "df_I['match'] = np.array([-df_I[1][i][0] for i in range(len(df_I))])"
   ]
  },
  {
   "cell_type": "code",
   "execution_count": 6,
   "metadata": {},
   "outputs": [],
   "source": [
    "data_file = 'overlap_lensing_I_td=0.05.csv'\n",
    "df_I_1 = pd.read_csv(data_path + data_file, header = None, converters = {1: eval})\n",
    "df_I_1['match'] = np.array([-df_I_1[1][i][0] for i in range(len(df_I_1))])"
   ]
  },
  {
   "cell_type": "code",
   "execution_count": 7,
   "metadata": {},
   "outputs": [
    {
     "data": {
      "text/html": [
       "<div>\n",
       "<style scoped>\n",
       "    .dataframe tbody tr th:only-of-type {\n",
       "        vertical-align: middle;\n",
       "    }\n",
       "\n",
       "    .dataframe tbody tr th {\n",
       "        vertical-align: top;\n",
       "    }\n",
       "\n",
       "    .dataframe thead th {\n",
       "        text-align: right;\n",
       "    }\n",
       "</style>\n",
       "<table border=\"1\" class=\"dataframe\">\n",
       "  <thead>\n",
       "    <tr style=\"text-align: right;\">\n",
       "      <th></th>\n",
       "      <th>0</th>\n",
       "      <th>1</th>\n",
       "      <th>match</th>\n",
       "    </tr>\n",
       "  </thead>\n",
       "  <tbody>\n",
       "    <tr>\n",
       "      <th>0</th>\n",
       "      <td>0.289474</td>\n",
       "      <td>[-0.8787558594442619, -0.00012074237837790188,...</td>\n",
       "      <td>0.878756</td>\n",
       "    </tr>\n",
       "    <tr>\n",
       "      <th>1</th>\n",
       "      <td>1.000000</td>\n",
       "      <td>[-0.7007171888881872, -0.00023176395856823578,...</td>\n",
       "      <td>0.700717</td>\n",
       "    </tr>\n",
       "    <tr>\n",
       "      <th>2</th>\n",
       "      <td>0.384211</td>\n",
       "      <td>[-0.847358609676222, -0.00013988308705526254, ...</td>\n",
       "      <td>0.847359</td>\n",
       "    </tr>\n",
       "    <tr>\n",
       "      <th>3</th>\n",
       "      <td>0.478947</td>\n",
       "      <td>[-0.8189887965167628, -0.00015699169812847044,...</td>\n",
       "      <td>0.818989</td>\n",
       "    </tr>\n",
       "    <tr>\n",
       "      <th>4</th>\n",
       "      <td>0.952632</td>\n",
       "      <td>[-0.709474745427362, -0.00022597056597732597, ...</td>\n",
       "      <td>0.709475</td>\n",
       "    </tr>\n",
       "    <tr>\n",
       "      <th>5</th>\n",
       "      <td>0.715789</td>\n",
       "      <td>[-0.7585704978028781, -0.00019405945047175832,...</td>\n",
       "      <td>0.758570</td>\n",
       "    </tr>\n",
       "    <tr>\n",
       "      <th>6</th>\n",
       "      <td>0.857895</td>\n",
       "      <td>[-0.7279846059386642, -0.00021370714132523398,...</td>\n",
       "      <td>0.727985</td>\n",
       "    </tr>\n",
       "    <tr>\n",
       "      <th>7</th>\n",
       "      <td>0.905263</td>\n",
       "      <td>[-0.7185570915430036, -0.00021989608742280922,...</td>\n",
       "      <td>0.718557</td>\n",
       "    </tr>\n",
       "    <tr>\n",
       "      <th>8</th>\n",
       "      <td>0.431579</td>\n",
       "      <td>[-0.8328255962881719, -0.0001486501853211804, ...</td>\n",
       "      <td>0.832826</td>\n",
       "    </tr>\n",
       "    <tr>\n",
       "      <th>9</th>\n",
       "      <td>0.573684</td>\n",
       "      <td>[-0.7931976377270421, -0.0001726299587639234, ...</td>\n",
       "      <td>0.793198</td>\n",
       "    </tr>\n",
       "    <tr>\n",
       "      <th>10</th>\n",
       "      <td>0.810526</td>\n",
       "      <td>[-0.7377794846614458, -0.00020730818962046808,...</td>\n",
       "      <td>0.737779</td>\n",
       "    </tr>\n",
       "    <tr>\n",
       "      <th>11</th>\n",
       "      <td>0.526316</td>\n",
       "      <td>[-0.8057953309159188, -0.00016496939845301732,...</td>\n",
       "      <td>0.805795</td>\n",
       "    </tr>\n",
       "    <tr>\n",
       "      <th>12</th>\n",
       "      <td>0.668421</td>\n",
       "      <td>[-0.7696221602219476, -0.0001871459806561104, ...</td>\n",
       "      <td>0.769622</td>\n",
       "    </tr>\n",
       "    <tr>\n",
       "      <th>13</th>\n",
       "      <td>0.621053</td>\n",
       "      <td>[-0.7811528340424103, -0.00018001047256458775,...</td>\n",
       "      <td>0.781153</td>\n",
       "    </tr>\n",
       "    <tr>\n",
       "      <th>14</th>\n",
       "      <td>0.242105</td>\n",
       "      <td>[-0.8957594731662882, -0.00010999689256461873,...</td>\n",
       "      <td>0.895759</td>\n",
       "    </tr>\n",
       "    <tr>\n",
       "      <th>15</th>\n",
       "      <td>0.763158</td>\n",
       "      <td>[-0.7479659512399931, -0.00020076007831148612,...</td>\n",
       "      <td>0.747966</td>\n",
       "    </tr>\n",
       "    <tr>\n",
       "      <th>16</th>\n",
       "      <td>0.194737</td>\n",
       "      <td>[-0.9137398907734603, -9.831749288357449e-05, ...</td>\n",
       "      <td>0.913740</td>\n",
       "    </tr>\n",
       "    <tr>\n",
       "      <th>17</th>\n",
       "      <td>0.336842</td>\n",
       "      <td>[-0.8626467641426675, -0.00013061086444956583,...</td>\n",
       "      <td>0.862647</td>\n",
       "    </tr>\n",
       "    <tr>\n",
       "      <th>18</th>\n",
       "      <td>0.100000</td>\n",
       "      <td>[-0.9530078691042745, -6.982991939171754e-05, ...</td>\n",
       "      <td>0.953008</td>\n",
       "    </tr>\n",
       "    <tr>\n",
       "      <th>19</th>\n",
       "      <td>0.147368</td>\n",
       "      <td>[-0.9327888939342286, -8.517856668905205e-05, ...</td>\n",
       "      <td>0.932789</td>\n",
       "    </tr>\n",
       "  </tbody>\n",
       "</table>\n",
       "</div>"
      ],
      "text/plain": [
       "           0                                                  1     match\n",
       "0   0.289474  [-0.8787558594442619, -0.00012074237837790188,...  0.878756\n",
       "1   1.000000  [-0.7007171888881872, -0.00023176395856823578,...  0.700717\n",
       "2   0.384211  [-0.847358609676222, -0.00013988308705526254, ...  0.847359\n",
       "3   0.478947  [-0.8189887965167628, -0.00015699169812847044,...  0.818989\n",
       "4   0.952632  [-0.709474745427362, -0.00022597056597732597, ...  0.709475\n",
       "5   0.715789  [-0.7585704978028781, -0.00019405945047175832,...  0.758570\n",
       "6   0.857895  [-0.7279846059386642, -0.00021370714132523398,...  0.727985\n",
       "7   0.905263  [-0.7185570915430036, -0.00021989608742280922,...  0.718557\n",
       "8   0.431579  [-0.8328255962881719, -0.0001486501853211804, ...  0.832826\n",
       "9   0.573684  [-0.7931976377270421, -0.0001726299587639234, ...  0.793198\n",
       "10  0.810526  [-0.7377794846614458, -0.00020730818962046808,...  0.737779\n",
       "11  0.526316  [-0.8057953309159188, -0.00016496939845301732,...  0.805795\n",
       "12  0.668421  [-0.7696221602219476, -0.0001871459806561104, ...  0.769622\n",
       "13  0.621053  [-0.7811528340424103, -0.00018001047256458775,...  0.781153\n",
       "14  0.242105  [-0.8957594731662882, -0.00010999689256461873,...  0.895759\n",
       "15  0.763158  [-0.7479659512399931, -0.00020076007831148612,...  0.747966\n",
       "16  0.194737  [-0.9137398907734603, -9.831749288357449e-05, ...  0.913740\n",
       "17  0.336842  [-0.8626467641426675, -0.00013061086444956583,...  0.862647\n",
       "18  0.100000  [-0.9530078691042745, -6.982991939171754e-05, ...  0.953008\n",
       "19  0.147368  [-0.9327888939342286, -8.517856668905205e-05, ...  0.932789"
      ]
     },
     "execution_count": 7,
     "metadata": {},
     "output_type": "execute_result"
    }
   ],
   "source": [
    "data_file = 'overlap_lensing_I_td=0.08.csv'\n",
    "df_I_2 = pd.read_csv(data_path + data_file, header = None, converters = {1: eval})\n",
    "df_I_2['match'] = np.array([-df_I_2[1][i][0] for i in range(len(df_I_2))])\n",
    "df_I_2"
   ]
  },
  {
   "cell_type": "code",
   "execution_count": 11,
   "metadata": {},
   "outputs": [],
   "source": [
    "# relation between mismatch and flux ratio at plateau (fix time delay)\n",
    "def mismatch(I):\n",
    "    return 1 - ((1 + I) ** (-1/2))"
   ]
  },
  {
   "cell_type": "code",
   "execution_count": 12,
   "metadata": {},
   "outputs": [],
   "source": [
    "I = np.linspace(0.1, 1, 100)\n",
    "eps = np.zeros_like(I)\n",
    "\n",
    "for i in range(len(I)):\n",
    "    eps[i] = mismatch(I[i])"
   ]
  },
  {
   "cell_type": "code",
   "execution_count": 16,
   "metadata": {},
   "outputs": [
    {
     "data": {
      "text/plain": [
       "<matplotlib.legend.Legend at 0x7fd33618a650>"
      ]
     },
     "execution_count": 16,
     "metadata": {},
     "output_type": "execute_result"
    },
    {
     "data": {
      "image/png": "[encoded data removed]",
      "text/plain": [
       "<Figure size 432x288 with 1 Axes>"
      ]
     },
     "metadata": {
      "needs_background": "light"
     },
     "output_type": "display_data"
    }
   ],
   "source": [
    "plt.scatter(I, eps)\n",
    "plt.scatter(df_I_2[0], 1 - df_I_2['match'], label = 'td = 0.08')\n",
    "plt.xlabel('I')\n",
    "plt.ylabel('$\\epsilon(h^L, h^{UL})$')\n",
    "plt.legend()"
   ]
  },
  {
   "cell_type": "code",
   "execution_count": null,
   "metadata": {},
   "outputs": [],
   "source": []
  }
 ],
 "metadata": {
  "kernelspec": {
   "display_name": "Python 3",
   "language": "python",
   "name": "python3"
  },
  "language_info": {
   "codemirror_mode": {
    "name": "ipython",
    "version": 3
   },
   "file_extension": ".py",
   "mimetype": "text/x-python",
   "name": "python",
   "nbconvert_exporter": "python",
   "pygments_lexer": "ipython3",
   "version": "3.7.4"
  }
 },
 "nbformat": 4,
 "nbformat_minor": 4
}
